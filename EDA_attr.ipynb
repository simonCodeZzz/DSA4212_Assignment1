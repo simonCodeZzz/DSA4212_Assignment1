{
 "cells": [
  {
   "cell_type": "code",
   "execution_count": null,
   "metadata": {},
   "outputs": [],
   "source": [
    "# For Google Colaboratory\n",
    "import sys, os\n",
    "if 'google.colab' in sys.modules:\n",
    "    # mount google drive\n",
    "    from google.colab import drive\n",
    "    drive.mount('/content/gdrive')\n",
    "    print(path_to_file)\n",
    "    # move to Google Drive directory\n",
    "    os.chdir(path_to_file)\n",
    "    !pwd"
   ]
  },
  {
   "cell_type": "code",
   "execution_count": 1,
   "metadata": {
    "button": false,
    "new_sheet": false,
    "run_control": {
     "read_only": false
    }
   },
   "outputs": [],
   "source": [
    "%matplotlib inline\n",
    "from jax.config import config\n",
    "config.update(\"jax_enable_x64\", True) # for higher accuracy\n",
    "\n",
    "import jax\n",
    "import jax.numpy as jnp\n",
    "import numpy as np\n",
    "\n",
    "import pylab as plt\n",
    "import imageio\n",
    "import os\n",
    "import numpy as onp\n",
    "# to install scikit-image: !pip install scikit-image\n",
    "from skimage.transform import rescale, resize, downscale_local_mean\n",
    "import pandas as pd\n",
    "import time"
   ]
  },
  {
   "cell_type": "markdown",
   "metadata": {
    "button": false,
    "new_sheet": false,
    "run_control": {
     "read_only": false
    }
   },
   "source": [
    "# Data Dowload\n",
    "1. Download the \"celeba_small.zip\" file available on lumiNUS.\n",
    "This is a 146Mo large zip-file containing 20K face images.\n",
    "2. Download the attribute file \"celeba.csv\" available on lumiNUS.\n",
    "3. Unzip the file \"celeba_small.zip\" in the directory of your choice. (Data = 175 Mo when uncompressed). \n"
   ]
  },
  {
   "cell_type": "markdown",
   "metadata": {
    "button": false,
    "new_sheet": false,
    "run_control": {
     "read_only": false
    }
   },
   "source": [
    "# Brief Data exploration"
   ]
  },
  {
   "cell_type": "code",
   "execution_count": 2,
   "metadata": {
    "button": false,
    "new_sheet": false,
    "run_control": {
     "read_only": false
    }
   },
   "outputs": [],
   "source": [
    "#load attributes csv file\n",
    "path_csv  = \"D:\\\\Academics\\\\DSA\\\\4212\\\\datasets\"\n",
    "# path_csv  = '/content/gdrive/My Drive/DSA4212/datasets' # Google Drive\n",
    "attribute = pd.read_csv(os.path.join(path_csv, \"celeba.csv\"))\n"
   ]
  },
  {
   "cell_type": "code",
   "execution_count": 3,
   "metadata": {
    "button": false,
    "collapsed": false,
    "jupyter": {
     "outputs_hidden": false
    },
    "new_sheet": false,
    "run_control": {
     "read_only": false
    }
   },
   "outputs": [
    {
     "name": "stdout",
     "output_type": "stream",
     "text": [
      "Number of images: 20000\n"
     ]
    }
   ],
   "source": [
    "#let us list all the files in the image directory\n",
    "path = \"D:\\\\Academics\\\\DSA\\\\4212\\\\datasets\\\\img_celeba_small\"\n",
    "# path = \"/content/gdrive/My Drive/DSA4212/datasets/img_celeba_small\" # Google Drive\n",
    "all_img = [f for f in os.listdir(path) \n",
    "                 if os.path.isfile(os.path.join(path, f)) \n",
    "                 and f.endswith(\".jpg\")]\n",
    "\n",
    "# sort the images by alphabetical order \n",
    "# !!!! VERY IMPORTANT in order to be consistent with the labels contained in celeba.csv !!!!\n",
    "all_img.sort()\n",
    "nb_img = len(all_img)\n",
    "print(\"Number of images:\", nb_img)\n",
    "\n",
    "#let us keep only the relevant attributes\n",
    "attribute = attribute[:20000]"
   ]
  },
  {
   "cell_type": "code",
   "execution_count": 4,
   "metadata": {},
   "outputs": [],
   "source": [
    "# Proportion of Males in first 15000? first 200?\n",
    "train_img = all_img[:15000]\n",
    "train_attr = attribute.drop(columns=['Filename' ,'Male'])[:15000]\n",
    "train_label = attribute['Male'][:15000]\n",
    "train_label = np.array(train_label).reshape(-1,1)\n",
    "\n",
    "test_img = all_img[15000:]\n",
    "test_attr = attribute.drop(columns=['Filename' ,'Male'])[15000:]\n",
    "test_label = attribute['Male'][15000:]\n",
    "test_label = np.array(test_label).reshape(-1,1)\n",
    "\n",
    "train_small_img = all_img[:200]\n",
    "train_small_attr = attribute.drop(columns=['Filename' ,'Male'])[:200]\n",
    "train_small_label = attribute['Male'][:200]\n",
    "train_small_label = np.array(train_small_label).reshape(-1,1)"
   ]
  },
  {
   "cell_type": "markdown",
   "metadata": {},
   "source": [
    "## Train with Labels (no image)"
   ]
  },
  {
   "cell_type": "code",
   "execution_count": 5,
   "metadata": {},
   "outputs": [],
   "source": [
    "from sklearn.linear_model import LogisticRegression\n",
    "from sklearn.model_selection import GridSearchCV\n",
    "\n",
    "logreg = LogisticRegression(random_state=42)\n",
    "params = {'C':[0.01, 0.1, 1, 2, 5]}"
   ]
  },
  {
   "cell_type": "code",
   "execution_count": 6,
   "metadata": {},
   "outputs": [
    {
     "data": {
      "text/plain": [
       "GridSearchCV(estimator=LogisticRegression(random_state=42),\n",
       "             param_grid={'C': [0.01, 0.1, 1, 2, 5]})"
      ]
     },
     "execution_count": 6,
     "metadata": {},
     "output_type": "execute_result"
    }
   ],
   "source": [
    "import warnings;\n",
    "warnings.filterwarnings('ignore');\n",
    "\n",
    "logreg_cv = GridSearchCV(logreg,params)\n",
    "logreg_cv.fit(train_attr, train_label)\n"
   ]
  },
  {
   "cell_type": "code",
   "execution_count": 7,
   "metadata": {},
   "outputs": [
    {
     "data": {
      "text/plain": [
       "0.9344666666666667"
      ]
     },
     "execution_count": 7,
     "metadata": {},
     "output_type": "execute_result"
    }
   ],
   "source": [
    "logreg_cv.best_score_"
   ]
  },
  {
   "cell_type": "code",
   "execution_count": 8,
   "metadata": {},
   "outputs": [
    {
     "name": "stdout",
     "output_type": "stream",
     "text": [
      "Test Accuracy is 0.51\n"
     ]
    }
   ],
   "source": [
    "test_pred = logreg_cv.predict(test_attr)\n",
    "test_acc = np.mean(np.array(test_pred == test_label, dtype='int64'))\n",
    "print(f'Test Accuracy is {test_acc:.2f}')"
   ]
  },
  {
   "cell_type": "code",
   "execution_count": 9,
   "metadata": {},
   "outputs": [],
   "source": [
    "coef = logreg_cv.best_estimator_.coef_\n",
    "coef = pd.DataFrame(np.abs(coef[0]), index=train_attr.keys(), columns=['Coef'])\n",
    "coef = coef.sort_values(by='Coef',ascending=False)"
   ]
  },
  {
   "cell_type": "code",
   "execution_count": 10,
   "metadata": {},
   "outputs": [
    {
     "data": {
      "text/plain": [
       "'5_o_Clock_Shadow'"
      ]
     },
     "execution_count": 10,
     "metadata": {},
     "output_type": "execute_result"
    }
   ],
   "source": [
    "coef.index[0]"
   ]
  },
  {
   "cell_type": "code",
   "execution_count": 11,
   "metadata": {},
   "outputs": [
    {
     "data": {
      "image/png": "[encoded data removed]",
      "text/plain": [
       "<Figure size 864x216 with 2 Axes>"
      ]
     },
     "metadata": {
      "needs_background": "light"
     },
     "output_type": "display_data"
    },
    {
     "data": {
      "image/png": "[encoded data removed]",
      "text/plain": [
       "<Figure size 864x216 with 2 Axes>"
      ]
     },
     "metadata": {
      "needs_background": "light"
     },
     "output_type": "display_data"
    },
    {
     "data": {
      "image/png": "[encoded data removed]",
      "text/plain": [
       "<Figure size 864x216 with 2 Axes>"
      ]
     },
     "metadata": {
      "needs_background": "light"
     },
     "output_type": "display_data"
    },
    {
     "data": {
      "image/png": "[encoded data removed]",
      "text/plain": [
       "<Figure size 864x216 with 2 Axes>"
      ]
     },
     "metadata": {
      "needs_background": "light"
     },
     "output_type": "display_data"
    },
    {
     "data": {
      "image/png": "[encoded data removed]",
      "text/plain": [
       "<Figure size 864x216 with 2 Axes>"
      ]
     },
     "metadata": {
      "needs_background": "light"
     },
     "output_type": "display_data"
    },
    {
     "data": {
      "image/png": "[encoded data removed]",
      "text/plain": [
       "<Figure size 864x216 with 2 Axes>"
      ]
     },
     "metadata": {
      "needs_background": "light"
     },
     "output_type": "display_data"
    }
   ],
   "source": [
    "for i in range(6):\n",
    "    plt.figure(figsize=(12,3))\n",
    "    attr = coef.index[i]\n",
    "    title0 = attr + ' = -1'\n",
    "    title1 = attr + ' = 1'\n",
    "    plt.subplot(1,2,1)\n",
    "    attribute[attribute[attr] == 1]['Male'].plot(kind='hist', alpha=0.5, title=title1, xlim=[-1.5,1.5]);\n",
    "    plt.subplot(1,2,2)\n",
    "    attribute[attribute[attr] == -1]['Male'].plot(kind='hist', alpha=0.5, title=title0, xlim=[-1.5,1.5]);"
   ]
  },
  {
   "cell_type": "code",
   "execution_count": 12,
   "metadata": {},
   "outputs": [
    {
     "data": {
      "text/html": [
       "<div>\n",
       "<style scoped>\n",
       "    .dataframe tbody tr th:only-of-type {\n",
       "        vertical-align: middle;\n",
       "    }\n",
       "\n",
       "    .dataframe tbody tr th {\n",
       "        vertical-align: top;\n",
       "    }\n",
       "\n",
       "    .dataframe thead th {\n",
       "        text-align: right;\n",
       "    }\n",
       "</style>\n",
       "<table border=\"1\" class=\"dataframe\">\n",
       "  <thead>\n",
       "    <tr style=\"text-align: right;\">\n",
       "      <th></th>\n",
       "      <th>Coef</th>\n",
       "    </tr>\n",
       "  </thead>\n",
       "  <tbody>\n",
       "    <tr>\n",
       "      <th>5_o_Clock_Shadow</th>\n",
       "      <td>2.311386</td>\n",
       "    </tr>\n",
       "    <tr>\n",
       "      <th>Wearing_Necktie</th>\n",
       "      <td>1.961697</td>\n",
       "    </tr>\n",
       "    <tr>\n",
       "      <th>Wearing_Lipstick</th>\n",
       "      <td>1.871409</td>\n",
       "    </tr>\n",
       "    <tr>\n",
       "      <th>Mustache</th>\n",
       "      <td>1.754999</td>\n",
       "    </tr>\n",
       "    <tr>\n",
       "      <th>Bald</th>\n",
       "      <td>1.642976</td>\n",
       "    </tr>\n",
       "    <tr>\n",
       "      <th>No_Beard</th>\n",
       "      <td>1.636658</td>\n",
       "    </tr>\n",
       "    <tr>\n",
       "      <th>Wearing_Earrings</th>\n",
       "      <td>1.455257</td>\n",
       "    </tr>\n",
       "    <tr>\n",
       "      <th>Heavy_Makeup</th>\n",
       "      <td>1.323094</td>\n",
       "    </tr>\n",
       "    <tr>\n",
       "      <th>Goatee</th>\n",
       "      <td>1.265513</td>\n",
       "    </tr>\n",
       "    <tr>\n",
       "      <th>Sideburns</th>\n",
       "      <td>1.003387</td>\n",
       "    </tr>\n",
       "    <tr>\n",
       "      <th>Bushy_Eyebrows</th>\n",
       "      <td>0.989847</td>\n",
       "    </tr>\n",
       "    <tr>\n",
       "      <th>Wearing_Necklace</th>\n",
       "      <td>0.788060</td>\n",
       "    </tr>\n",
       "    <tr>\n",
       "      <th>Blond_Hair</th>\n",
       "      <td>0.752088</td>\n",
       "    </tr>\n",
       "    <tr>\n",
       "      <th>Arched_Eyebrows</th>\n",
       "      <td>0.720805</td>\n",
       "    </tr>\n",
       "    <tr>\n",
       "      <th>Rosy_Cheeks</th>\n",
       "      <td>0.558304</td>\n",
       "    </tr>\n",
       "    <tr>\n",
       "      <th>Big_Nose</th>\n",
       "      <td>0.534293</td>\n",
       "    </tr>\n",
       "    <tr>\n",
       "      <th>Double_Chin</th>\n",
       "      <td>0.493385</td>\n",
       "    </tr>\n",
       "    <tr>\n",
       "      <th>Gray_Hair</th>\n",
       "      <td>0.428290</td>\n",
       "    </tr>\n",
       "    <tr>\n",
       "      <th>Blurry</th>\n",
       "      <td>0.418895</td>\n",
       "    </tr>\n",
       "    <tr>\n",
       "      <th>Big_Lips</th>\n",
       "      <td>0.383165</td>\n",
       "    </tr>\n",
       "    <tr>\n",
       "      <th>Young</th>\n",
       "      <td>0.362138</td>\n",
       "    </tr>\n",
       "    <tr>\n",
       "      <th>High_Cheekbones</th>\n",
       "      <td>0.307292</td>\n",
       "    </tr>\n",
       "    <tr>\n",
       "      <th>Black_Hair</th>\n",
       "      <td>0.277015</td>\n",
       "    </tr>\n",
       "    <tr>\n",
       "      <th>Pale_Skin</th>\n",
       "      <td>0.189380</td>\n",
       "    </tr>\n",
       "    <tr>\n",
       "      <th>Receding_Hairline</th>\n",
       "      <td>0.187519</td>\n",
       "    </tr>\n",
       "    <tr>\n",
       "      <th>Eyeglasses</th>\n",
       "      <td>0.182139</td>\n",
       "    </tr>\n",
       "    <tr>\n",
       "      <th>Wavy_Hair</th>\n",
       "      <td>0.172902</td>\n",
       "    </tr>\n",
       "    <tr>\n",
       "      <th>Bags_Under_Eyes</th>\n",
       "      <td>0.165380</td>\n",
       "    </tr>\n",
       "    <tr>\n",
       "      <th>Brown_Hair</th>\n",
       "      <td>0.092283</td>\n",
       "    </tr>\n",
       "    <tr>\n",
       "      <th>Pointy_Nose</th>\n",
       "      <td>0.091235</td>\n",
       "    </tr>\n",
       "    <tr>\n",
       "      <th>Chubby</th>\n",
       "      <td>0.081071</td>\n",
       "    </tr>\n",
       "    <tr>\n",
       "      <th>Straight_Hair</th>\n",
       "      <td>0.063875</td>\n",
       "    </tr>\n",
       "    <tr>\n",
       "      <th>Bangs</th>\n",
       "      <td>0.062391</td>\n",
       "    </tr>\n",
       "    <tr>\n",
       "      <th>Attractive</th>\n",
       "      <td>0.057188</td>\n",
       "    </tr>\n",
       "    <tr>\n",
       "      <th>Oval_Face</th>\n",
       "      <td>0.051667</td>\n",
       "    </tr>\n",
       "    <tr>\n",
       "      <th>Mouth_Slightly_Open</th>\n",
       "      <td>0.029624</td>\n",
       "    </tr>\n",
       "    <tr>\n",
       "      <th>Wearing_Hat</th>\n",
       "      <td>0.029610</td>\n",
       "    </tr>\n",
       "    <tr>\n",
       "      <th>Narrow_Eyes</th>\n",
       "      <td>0.019255</td>\n",
       "    </tr>\n",
       "    <tr>\n",
       "      <th>Smiling</th>\n",
       "      <td>0.007001</td>\n",
       "    </tr>\n",
       "  </tbody>\n",
       "</table>\n",
       "</div>"
      ],
      "text/plain": [
       "                         Coef\n",
       "5_o_Clock_Shadow     2.311386\n",
       "Wearing_Necktie      1.961697\n",
       "Wearing_Lipstick     1.871409\n",
       "Mustache             1.754999\n",
       "Bald                 1.642976\n",
       "No_Beard             1.636658\n",
       "Wearing_Earrings     1.455257\n",
       "Heavy_Makeup         1.323094\n",
       "Goatee               1.265513\n",
       "Sideburns            1.003387\n",
       "Bushy_Eyebrows       0.989847\n",
       "Wearing_Necklace     0.788060\n",
       "Blond_Hair           0.752088\n",
       "Arched_Eyebrows      0.720805\n",
       "Rosy_Cheeks          0.558304\n",
       "Big_Nose             0.534293\n",
       "Double_Chin          0.493385\n",
       "Gray_Hair            0.428290\n",
       "Blurry               0.418895\n",
       "Big_Lips             0.383165\n",
       "Young                0.362138\n",
       "High_Cheekbones      0.307292\n",
       "Black_Hair           0.277015\n",
       "Pale_Skin            0.189380\n",
       "Receding_Hairline    0.187519\n",
       "Eyeglasses           0.182139\n",
       "Wavy_Hair            0.172902\n",
       "Bags_Under_Eyes      0.165380\n",
       "Brown_Hair           0.092283\n",
       "Pointy_Nose          0.091235\n",
       "Chubby               0.081071\n",
       "Straight_Hair        0.063875\n",
       "Bangs                0.062391\n",
       "Attractive           0.057188\n",
       "Oval_Face            0.051667\n",
       "Mouth_Slightly_Open  0.029624\n",
       "Wearing_Hat          0.029610\n",
       "Narrow_Eyes          0.019255\n",
       "Smiling              0.007001"
      ]
     },
     "execution_count": 12,
     "metadata": {},
     "output_type": "execute_result"
    }
   ],
   "source": [
    "coef"
   ]
  },
  {
   "cell_type": "code",
   "execution_count": null,
   "metadata": {},
   "outputs": [],
   "source": []
  }
 ],
 "metadata": {
  "kernelspec": {
   "display_name": "Python 3",
   "language": "python",
   "name": "python3"
  },
  "language_info": {
   "codemirror_mode": {
    "name": "ipython",
    "version": 3
   },
   "file_extension": ".py",
   "mimetype": "text/x-python",
   "name": "python",
   "nbconvert_exporter": "python",
   "pygments_lexer": "ipython3",
   "version": "3.8.3"
  }
 },
 "nbformat": 4,
 "nbformat_minor": 4
}
