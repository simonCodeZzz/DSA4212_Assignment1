{
 "cells": [
  {
   "cell_type": "markdown",
   "metadata": {
    "button": false,
    "new_sheet": false,
    "run_control": {
     "read_only": false
    }
   },
   "source": [
    "<h1><center>DSA 4212: Year 2022</center></h1>\n",
    "<h3><center> Assignment 1 (Deadline: Sunday 27th March at 23:59) </center></h3>\n",
    "<h4><center> Group Number: 03 </center></h4>\n",
    "<h4><center> Group Member 1: Li Zhuoran, A0194510L </center></h4>\n",
    "<h4><center> Group Member 2: Pan Yuting, A0201267N </center></h4>\n",
    "<h4><center> Group Member 3: Zhang Simian, A0204709H </center></h4>\n",
    "<h4><center> Group Member 4: Zhong Zhaoping, A0194519U </center></h4>\n",
    "\n",
    "**Remark:** as described below, each group has to submit two documents on lumiNUS: \n",
    "1. a jupyter notebook with your code  \n",
    "2. a pdf report explaining your approaches and conclusions.\n",
    "3. you can have a look at `https://www.overleaf.com/read/xmvqgpsdqwyx` if you would like to use Overleaf and Latex to rapidly produce a neat report. You can use your NUS email to create an Overleaf account.\n",
    "\n",
    "**File naming convention:**\n",
    "1. the Jupyter notebook needs to be named `assignment_1_XX.ipynb`. For example, group number 3 needs to name its jupyter notebook as `assignment_1_03.ipynb`.\n",
    "1. the pdf report needs to be named `assignment_1_XX.pdf`. For example, group number 3 needs to name its pdf report as `assignment_1_03.pdf`.\n",
    "\n"
   ]
  },
  {
   "cell_type": "markdown",
   "metadata": {},
   "source": [
    "**To load data on Google Colab**:\n",
    "1. Upload the data onto your Google Drive\n",
    "2. Run the first cell to log in your Google account and mount on your Google Drive\n",
    "3. Change *path_csv* and *path* accordingly"
   ]
  },
  {
   "cell_type": "code",
   "execution_count": 1,
   "metadata": {},
   "outputs": [],
   "source": [
    "# For Google Colaboratory\n",
    "import sys, os\n",
    "if 'google.colab' in sys.modules:\n",
    "    # mount google drive\n",
    "    from google.colab import drive\n",
    "    drive.mount('/content/gdrive')\n",
    "    print(path_to_file)\n",
    "    # move to Google Drive directory\n",
    "    os.chdir(path_to_file)\n",
    "    !pwd"
   ]
  },
  {
   "cell_type": "code",
   "execution_count": 2,
   "metadata": {},
   "outputs": [
    {
     "name": "stdout",
     "output_type": "stream",
     "text": [
      "unzip:  cannot find or open /content/gdrive/My Drive/DSA4212/datasets/img_celeba_small.zip, /content/gdrive/My Drive/DSA4212/datasets/img_celeba_small.zip.zip or /content/gdrive/My Drive/DSA4212/datasets/img_celeba_small.zip.ZIP.\n"
     ]
    }
   ],
   "source": [
    "# Google Colab import data: Much Faster to unzip files\n",
    "\n",
    "!unzip \"/content/gdrive/My Drive/DSA4212/datasets/img_celeba_small.zip\" -d \"/content\""
   ]
  },
  {
   "cell_type": "code",
   "execution_count": 2,
   "metadata": {
    "button": false,
    "new_sheet": false,
    "run_control": {
     "read_only": false
    }
   },
   "outputs": [],
   "source": [
    "%matplotlib inline\n",
    "from jax.config import config\n",
    "config.update(\"jax_enable_x64\", True) # for higher accuracy\n",
    "config.update(\"jax_platform_name\", 'cpu') # use cpu if needed\n",
    "\n",
    "import jax\n",
    "import jax.numpy as jnp\n",
    "import numpy as np\n",
    "\n",
    "import pylab as plt\n",
    "import imageio\n",
    "import os\n",
    "import numpy as onp\n",
    "# to install scikit-image: !pip install scikit-image\n",
    "from skimage.transform import rescale, resize, downscale_local_mean\n",
    "import pandas as pd\n",
    "import time\n",
    "\n",
    "import dlib\n",
    "import cv2\n",
    "import math"
   ]
  },
  {
   "cell_type": "code",
   "execution_count": 4,
   "metadata": {
    "button": false,
    "new_sheet": false,
    "run_control": {
     "read_only": false
    }
   },
   "outputs": [],
   "source": [
    "#load attributes csv file\n",
    "path_csv  = \"..\" # Local Path (Change Here)\n",
    "# path_csv  = '/content/gdrive/My Drive/DSA4212/datasets' # Google Drive\n",
    "attribute = pd.read_csv(os.path.join(path_csv, \"celeba.csv\"))\n"
   ]
  },
  {
   "cell_type": "code",
   "execution_count": 5,
   "metadata": {
    "button": false,
    "collapsed": false,
    "jupyter": {
     "outputs_hidden": false
    },
    "new_sheet": false,
    "run_control": {
     "read_only": false
    }
   },
   "outputs": [
    {
     "name": "stdout",
     "output_type": "stream",
     "text": [
      "Number of images: 20000\n"
     ]
    }
   ],
   "source": [
    "#let us list all the files in the image directory\n",
    "path =  \"../img_celeba_small\"# Local Path (Change Here)\n",
    "# path = \"/content/img_celeba_small\" # Google Drive\n",
    "all_img = [f for f in os.listdir(path) \n",
    "                 if os.path.isfile(os.path.join(path, f)) \n",
    "                 and f.endswith(\".jpg\")]\n",
    "\n",
    "# sort the images by alphabetical order \n",
    "# !!!! VERY IMPORTANT in order to be consistent with the labels contained in celeba.csv !!!!\n",
    "all_img.sort()\n",
    "nb_img = len(all_img)\n",
    "print(\"Number of images:\", nb_img)\n",
    "\n",
    "#let us keep only the relevant attributes\n",
    "attribute = attribute[:20000]"
   ]
  },
  {
   "cell_type": "code",
   "execution_count": 7,
   "metadata": {},
   "outputs": [
    {
     "name": "stdout",
     "output_type": "stream",
     "text": [
      "100% [..........................................................................] 1585210 / 1585210"
     ]
    }
   ],
   "source": [
    "import wget\n",
    "url = \"https://raw.githubusercontent.com/sightmachine/SimpleCV/master/SimpleCV/Features/HaarCascades/\"\n",
    "facial_parts = ['face', 'eye', 'mouth', 'nose']\n",
    "for p in facial_parts:\n",
    "    p_file = p + '.xml'\n",
    "    p_url = url + p_file\n",
    "    wget.download(p_url)"
   ]
  },
  {
   "cell_type": "markdown",
   "metadata": {
    "jp-MarkdownHeadingCollapsed": true,
    "tags": []
   },
   "source": [
    "## Common Utility Functions"
   ]
  },
  {
   "cell_type": "code",
   "execution_count": 7,
   "metadata": {
    "button": false,
    "new_sheet": false,
    "run_control": {
     "read_only": false
    },
    "tags": []
   },
   "outputs": [],
   "source": [
    "# Image Loader\n",
    "\n",
    "# #let us load the first 500 images\n",
    "# n_img = 500\n",
    "# img_array = onp.zeros((n_img, 100,100))\n",
    "# for k in range(n_img):\n",
    "#     im = imageio.imread(os.path.join(path, all_img[k])).astype(float)\n",
    "#     im = resize(im, (100,100) )\n",
    "#     im = onp.mean(im, axis=2) # average the last channel\n",
    "#     img_array[k,:,:] = im\n",
    "    \n",
    "def image_loader(indices, res, grey=False,contrast = None, verbose = 0):\n",
    "    \"\"\"\n",
    "    Load Images\n",
    "\n",
    "    args:\n",
    "    indices: indices of the image to be loaded\n",
    "    res: resolution of the image, an iterable of size 2\n",
    "    grey: boolean to decide whether loaded images are grey scaled. Default is False (color images)\n",
    "    constrast: iterable of size 2: (alpha, beta), for very pixel f(i,j) -> alpha * f(i,j) + beta  . Default is None\n",
    "    verbose: Print time elapsed for every 1000 loaded images if verbose == 1, default 0\n",
    "    \"\"\"\n",
    "    start = time.time()\n",
    "    if grey == True:\n",
    "        img_array = onp.zeros((indices.size, res[0], res[1]))\n",
    "        i = 0\n",
    "        for k in indices:\n",
    "            im = imageio.imread(os.path.join(path, all_img[k])).astype(float)\n",
    "            im = resize(im, (res[0],res[1]) )\n",
    "            im = onp.mean(im, axis=2) # average the last channel\n",
    "            if contrast != None:\n",
    "                alpha = contrast[0]\n",
    "                beta = contrast[1]\n",
    "                im = cv2.convertScaleAbs(im, alpha= alpha, beta = beta)\n",
    "            img_array[i,:,:] = im\n",
    "            i += 1\n",
    "            if verbose == 1 & i % 1000 == 0:\n",
    "                end = time.time()\n",
    "                duration = end - start\n",
    "                print(f\"Number of images imported: {i}, Time elapsed: {duration:.2f}\")\n",
    "        img_array = img_array.reshape(-1, res[0]*res[1])\n",
    "    else:\n",
    "        img_array = onp.zeros((indices.size, res[0], res[1], 3))\n",
    "        i = 0\n",
    "        for k in indices:\n",
    "            im = imageio.imread(os.path.join(path, all_img[k])).astype(float)\n",
    "            im = resize(im, (res[0],res[1]) )\n",
    "            if contrast != None:\n",
    "                alpha = contrast[0]\n",
    "                beta = contrast[1]\n",
    "                im = cv2.convertScaleAbs(im, alpha= alpha, beta = beta)\n",
    "            img_array[i,:,:,:] = im\n",
    "            i += 1\n",
    "            if verbose == 1 & i % 1000 == 0:\n",
    "                end = time.time()\n",
    "                duration = end - start\n",
    "                print(f\"Number of images imported: {i}, Time elapsed: {duration:.2f}\")\n",
    "        img_array = img_array.reshape(-1, 3*res[0]*res[1])\n",
    "        \n",
    "    return img_array\n",
    "\n",
    "def image_loader_fname(fnames, res, grey=False,contrast = None, crop = False):\n",
    "    \"\"\"\n",
    "    Load Images by File Names\n",
    "\n",
    "    args:\n",
    "    fnames: file names of the image to be loaded (a list)\n",
    "    res: resolution of the image, an iterable of size 2\n",
    "    grey: boolean to decide whether loaded images are grey scaled. Default is False (color images)\n",
    "    constrast: iterable of size 2: (alpha, beta), for very pixel f(i,j) -> alpha * f(i,j) + beta  . Default is None\n",
    "    verbose: Print time elapsed for every 1000 loaded images if verbose == 1, default 0\n",
    "    \"\"\"\n",
    "    start = time.time()\n",
    "    if grey == True:\n",
    "        img_array = onp.zeros((len(fnames), res[0], res[1]))\n",
    "        i = 0\n",
    "        for name in fnames:\n",
    "            im = imageio.imread(os.path.join(path, name)).astype(float)\n",
    "            im = resize(im, (res[0],res[1]) )\n",
    "            im = onp.mean(im, axis=2) # average the last channel\n",
    "            if contrast != None:\n",
    "                alpha = contrast[0]\n",
    "                beta = contrast[1]\n",
    "                im = cv2.convertScaleAbs(im, alpha= alpha, beta = beta)\n",
    "            img_array[i,:,:] = im\n",
    "            i += 1\n",
    "            if i % 1000 == 0:\n",
    "                end = time.time()\n",
    "                duration = end - start\n",
    "                print(f\"Number of images imported: {i}, Time elapsed: {duration:.2f}\")\n",
    "        img_array = img_array.reshape(-1, res[0]*res[1])\n",
    "    else:\n",
    "        img_array = onp.zeros((len(fnames), res[0], res[1], 3))\n",
    "        i = 0\n",
    "        for name in fnames:\n",
    "            im = imageio.imread(os.path.join(path, name)).astype(float)\n",
    "            im = resize(im, (res[0],res[1]) )\n",
    "            if contrast != None:\n",
    "                alpha = contrast[0]\n",
    "                beta = contrast[1]\n",
    "                im = cv2.convertScaleAbs(im, alpha= alpha, beta = beta)\n",
    "            img_array[i,:,:,:] = im\n",
    "            i += 1\n",
    "            if i % 1000 == 0:\n",
    "                end = time.time()\n",
    "                duration = end - start\n",
    "                print(f\"Number of images imported: {i}, Time elapsed: {duration:.2f}\")\n",
    "        img_array = img_array.reshape(-1, 3*res[0]*res[1])\n",
    "            \n",
    "    return img_array\n"
   ]
  },
  {
   "cell_type": "code",
   "execution_count": 8,
   "metadata": {
    "jupyter": {
     "source_hidden": true
    },
    "tags": []
   },
   "outputs": [],
   "source": [
    "# Feature extraction\n",
    "\n",
    "def find_vertex(all_img):\n",
    "    \"\"\"\n",
    "    find the average vertex of face, eyes, mouth and nose among all imgs\n",
    "\n",
    "    args:\n",
    "    fnames: file names of the image to be loaded (a list)\n",
    "    \n",
    "    output: A dictionary in the form of {face:(x,y,h,w); nose:(x,y,h,w); mouth:(x,y,h,w), eyes:(x,y,h,w) }\n",
    "    \"\"\"\n",
    "    face_cascade = cv2.CascadeClassifier(\"HaarCascades/face.xml\")\n",
    "    eye_cascade = cv2.CascadeClassifier(\"HaarCascades/eye.xml\")\n",
    "    nose_cascade = cv2.CascadeClassifier(\"HaarCascades/nose.xml\")\n",
    "    mouth_cascade = cv2.CascadeClassifier(\"HaarCascades/mouth.xml\")\n",
    "    \n",
    "#     face_cascade = cv2.CascadeClassifier(\"face.xml\")\n",
    "#     eye_cascade = cv2.CascadeClassifier(\"eye.xml\")\n",
    "#     nose_cascade = cv2.CascadeClassifier(\"nose.xml\")\n",
    "#     mouth_cascade = cv2.CascadeClassifier(\"mouth.xml\")\n",
    "    \n",
    "    face_found = []\n",
    "    eyes_found = []\n",
    "    nose_found = []\n",
    "    mouth_found = []\n",
    "    \n",
    "    start = time.time()\n",
    "    i = 0\n",
    "    for k in range(len(all_img)):\n",
    "        #load image\n",
    "        img = cv2.imread(os.path.join(path, all_img[k]))\n",
    "        img = cv2.cvtColor(img, cv2.COLOR_BGR2GRAY)\n",
    "        faces = face_cascade.detectMultiScale(img)\n",
    "        eyes = eye_cascade.detectMultiScale(img)\n",
    "        nose = nose_cascade.detectMultiScale(img)\n",
    "        mouth = mouth_cascade.detectMultiScale(img)\n",
    "\n",
    "        not_found = np.array([[np.nan]])\n",
    "\n",
    "        face_found.append(faces) if faces != () else face_found.append(not_found)\n",
    "        eyes_found.append(eyes) if eyes != () else eyes_found.append(not_found)\n",
    "        nose_found.append(nose) if nose != () else nose_found.append(not_found)\n",
    "        mouth_found.append(mouth) if mouth != () else  mouth_found.append(not_found)\n",
    "        i += 1\n",
    "        if i % 1000 == 0:\n",
    "                end = time.time()\n",
    "                duration = end - start\n",
    "                print(f\"Number of images extracted: {i}, Time elapsed: {duration:.2f}\")\n",
    "    \n",
    "    \n",
    "    output = {}    \n",
    "\n",
    "    temp = [x[0] for x in onp.squeeze(face_found)]\n",
    "    face_vertex = pd.DataFrame(temp)\n",
    "    [x,y,h,w] = face_vertex.dropna().mean()\n",
    "    output[\"face\"] = [x,y,h,w]\n",
    "\n",
    "    temp = [x[0] for x in onp.squeeze(nose_found)]\n",
    "    nose_vertex = pd.DataFrame(temp)\n",
    "    [x,y,h,w] = nose_vertex.dropna().mean()\n",
    "    output[\"nose\"] = [x,y,h,w]\n",
    "\n",
    "    temp = [x[0] for x in onp.squeeze(eyes_found)]\n",
    "    eyes_vertex = pd.DataFrame(temp)\n",
    "    [x,y,h,w] = eyes_vertex.dropna().mean()\n",
    "    output[\"eyes\"] = [x,y,h,w]\n",
    "\n",
    "    temp = [x[0] for x in onp.squeeze(mouth_found)]\n",
    "    mouth_vertex = pd.DataFrame(temp)\n",
    "    [x,y,h,w] = mouth_vertex.dropna().mean()\n",
    "    output[\"mouth\"] = [x,y,h,w]\n",
    "    \n",
    "    return output\n",
    "\n",
    "\n",
    "def image_area_loader(all_img,vertex,grey = False, contrast = None):\n",
    "    \"\"\"\n",
    "    Load Images by area(face, mouth, nose, eyes)\n",
    "\n",
    "    args:\n",
    "    fnames: file names of the image to be loaded (a list)\n",
    "    vertex: vertex (x,y,h,w) that the image to be loaded\n",
    "    grey: boolean to decide whether loaded images are grey scaled. Default is False (color images)\n",
    "    constrast: iterable of size 2: (alpha, beta), for very pixel f(i,j) -> alpha * f(i,j) + beta  . Default is None\n",
    "    \"\"\"\n",
    "    ceil = [math.ceil(v) for v in vertex ]\n",
    "    [x,y,w,h] = ceil\n",
    "    start = time.time()\n",
    "    if grey == True:\n",
    "        size = len(all_img)\n",
    "        img_set= onp.zeros((size, h,w))\n",
    "        i = 0\n",
    "        for k in range(len(all_img)):\n",
    "            im = imageio.imread(os.path.join(path, all_img[k])).astype(float)\n",
    "            im = im[y:y+h,x:x+w,:]\n",
    "            im = onp.mean(im, axis=2)\n",
    "            if contrast != None:\n",
    "                alpha = contrast[0]\n",
    "                beta = contrast[1]\n",
    "                im = cv2.convertScaleAbs(im, alpha= alpha, beta = beta)\n",
    "            img_set[i,:,:] = im\n",
    "            i += 1\n",
    "            if i % 1000 == 0:\n",
    "                end = time.time()\n",
    "                duration = end - start\n",
    "                print(f\"Number of images imported: {i}, Time elapsed: {duration:.2f}\")\n",
    "    else:\n",
    "        size = len(all_img)\n",
    "        img_set= onp.zeros((size, h,w,3))\n",
    "        i = 0\n",
    "        for k in range(len(all_img)):\n",
    "            im = imageio.imread(os.path.join(path, all_img[k])).astype(float)\n",
    "            im = im[y:y+h,x:x+w,:]\n",
    "            if contrast != None:\n",
    "                alpha = contrast[0]\n",
    "                beta = contrast[1]\n",
    "                im = cv2.convertScaleAbs(im, alpha= alpha, beta = beta)\n",
    "            img_set[i,:,:,:] = im\n",
    "            i += 1\n",
    "            if i % 1000 == 0:\n",
    "                end = time.time()\n",
    "                duration = end - start\n",
    "                print(f\"Number of images imported: {i}, Time elapsed: {duration:.2f}\")\n",
    "    \n",
    "    return img_set"
   ]
  },
  {
   "cell_type": "code",
   "execution_count": 9,
   "metadata": {
    "jupyter": {
     "source_hidden": true
    },
    "tags": []
   },
   "outputs": [],
   "source": [
    "# Predict P(Y=1|X, Beta)\n",
    "@jax.jit\n",
    "def pred_proba(beta, x):\n",
    "    \"\"\" predict the probability that label is +1 given x and beta \"\"\"\n",
    "    return 1. / (1. + jnp.exp(-jnp.dot(beta, x)))\n",
    "\n",
    "pred_proba_batch = jax.vmap(pred_proba, in_axes=(None, 0)) # Vectorize Predict Function"
   ]
  },
  {
   "cell_type": "code",
   "execution_count": 10,
   "metadata": {
    "jupyter": {
     "source_hidden": true
    },
    "tags": []
   },
   "outputs": [],
   "source": [
    "@jax.jit\n",
    "def get_label(p, threshold=0.5):\n",
    "    pred_bool = p > threshold\n",
    "    pred_label = 2*pred_bool - 1\n",
    "    return pred_label\n",
    "\n",
    "def get_accuracy(p, Y):\n",
    "    \"\"\" Compare the predicted probability (p) with the ground truth labels (Y) to get the accuracy \"\"\"\n",
    "    return jnp.mean(Y==get_label(p))\n",
    "\n",
    "from sklearn.metrics import roc_auc_score\n",
    "\n",
    "def get_auc(p, Y):\n",
    "    return roc_auc_score(p, Y)\n",
    "\n",
    "def test_acc(beta,Y_true, test_img_arr):\n",
    "    test_pred = pred_proba_batch(beta, test_img_arr)\n",
    "    test_acc = get_accuracy(test_pred, Y_true)\n",
    "    return test_acc\n",
    "\n",
    "def test_auc(beta,Y_true, test_img_arr):\n",
    "    test_pred = pred_proba_batch(beta, test_img_arr)\n",
    "    test_auc = get_auc(Y_true, test_pred)\n",
    "    return test_auc"
   ]
  },
  {
   "cell_type": "code",
   "execution_count": 11,
   "metadata": {
    "jupyter": {
     "source_hidden": true
    },
    "tags": []
   },
   "outputs": [],
   "source": [
    "def test_acc_auc(beta, Y_true, test_img_arr):\n",
    "    \"\"\"\n",
    "    Get the accuracy and AUC-ROC score for test data\n",
    "     beta: Model Parameters\n",
    "     Y_true: Ground truth labels\n",
    "     test_img_arr: test images represented by an array\n",
    "    \"\"\"\n",
    "    test_pred = pred_proba_batch(beta, test_img_arr)\n",
    "    test_acc = get_accuracy(test_pred, Y_true)\n",
    "    test_auc = get_auc(Y_true, test_pred)\n",
    "    \n",
    "    print(f'Test Accuracy is {test_acc:.2f}')\n",
    "    print(f'Test AUC is {test_auc:.2f}')\n",
    "    \n",
    "    return test_acc, test_auc"
   ]
  },
  {
   "cell_type": "markdown",
   "metadata": {
    "jp-MarkdownHeadingCollapsed": true,
    "tags": []
   },
   "source": [
    "## Utility Functions for Basic Logistic Regression"
   ]
  },
  {
   "cell_type": "code",
   "execution_count": 12,
   "metadata": {
    "jupyter": {
     "source_hidden": true
    },
    "tags": []
   },
   "outputs": [],
   "source": [
    "@jax.jit\n",
    "def loss_single(beta, x, y):\n",
    "    \"\"\" logistic regression loss on a single image \"\"\"\n",
    "    return jnp.log(1. + jnp.exp(-y*jnp.dot(x,beta)))\n",
    "loss_batch = jax.vmap(loss_single, in_axes=(None, 0, 0)) # Vectorize Loss Function"
   ]
  },
  {
   "cell_type": "code",
   "execution_count": 13,
   "metadata": {
    "jupyter": {
     "source_hidden": true
    },
    "tags": []
   },
   "outputs": [],
   "source": [
    "@jax.jit\n",
    "def loss_LR(beta, X, Y):\n",
    "    \"\"\"\n",
    "    Minibatch Logistic regression loss\n",
    "    \n",
    "    args:\n",
    "    ====\n",
    "     beta: LR parameter\n",
    "     X: array[:,:] of images\n",
    "     Y: array[:] of labels\n",
    "    \"\"\"\n",
    "    # compute all the individual losses\n",
    "    losses = loss_batch(beta, X, Y)\n",
    "    return jnp.mean(losses)\n",
    "\n",
    "# compute derivates\n",
    "loss_LR_grad = jax.jit(jax.grad(loss_LR, argnums=0))\n",
    "loss_LR_values_and_grad = jax.jit(jax.value_and_grad(loss_LR, argnums=0))"
   ]
  },
  {
   "cell_type": "markdown",
   "metadata": {
    "jp-MarkdownHeadingCollapsed": true,
    "tags": []
   },
   "source": [
    "## Utility Functions for Regularized Logistic Regression (Ridge, Lasso, ...)"
   ]
  },
  {
   "cell_type": "code",
   "execution_count": 14,
   "metadata": {
    "jupyter": {
     "source_hidden": true
    },
    "tags": []
   },
   "outputs": [],
   "source": [
    "### Ridge\n",
    "@jax.jit\n",
    "def loss_ridge(beta, X, Y, lambda_ridge=0.5):\n",
    "    \"\"\"\n",
    "    Minibatch Logistic regression loss\n",
    "    \n",
    "    args:\n",
    "    ====\n",
    "     beta: LR parameter\n",
    "     X: array[:,:] of images\n",
    "     Y: array[:] of labels\n",
    "     lambda_ridge: ridge parameter, default 0.5\n",
    "    \"\"\"\n",
    "    # compute all the individual losses\n",
    "    loss_original = np.sum(loss_batch(beta, X, Y))\n",
    "    loss_batch_ridge = loss_original + lambda_ridge*np.sum(beta**2)\n",
    "\n",
    "    return loss_batch_ridge/len(Y)\n",
    "\n",
    "# compute derivates\n",
    "loss_ridge_grad = jax.jit(jax.grad(loss_ridge, argnums=0))\n",
    "loss_ridge_values_and_grad = jax.jit(jax.value_and_grad(loss_ridge, argnums=0))"
   ]
  },
  {
   "cell_type": "code",
   "execution_count": 15,
   "metadata": {
    "jupyter": {
     "source_hidden": true
    },
    "tags": []
   },
   "outputs": [],
   "source": [
    "@jax.jit\n",
    "def loss_lasso(beta, X, Y, lambda_lasso=0.5):\n",
    "    \"\"\"\n",
    "    Minibatch Logistic regression loss\n",
    "    \n",
    "    args:\n",
    "    ====\n",
    "     beta: LR parameter\n",
    "     X: array[:,:] of images\n",
    "     Y: array[:] of labels\n",
    "     lambda_lasso: lasso parameter, default 0.5\n",
    "    \"\"\"\n",
    "    # compute all the individual losses\n",
    "    loss_original = np.sum(loss_batch(beta, X, Y))\n",
    "    loss_batch_lasso = loss_original + lambda_lasso*np.sum(np.abs(beta))\n",
    "\n",
    "    return loss_batch_lasso/len(Y)\n",
    "\n",
    "# compute derivates\n",
    "loss_lasso_grad = jax.jit(jax.grad(loss_lasso, argnums=0))\n",
    "loss_lasso_values_and_grad = jax.jit(jax.value_and_grad(loss_lasso, argnums=0))"
   ]
  },
  {
   "cell_type": "markdown",
   "metadata": {
    "jp-MarkdownHeadingCollapsed": true,
    "tags": []
   },
   "source": [
    "## Utility Functions for Training Model and Backcalling"
   ]
  },
  {
   "cell_type": "code",
   "execution_count": 16,
   "metadata": {},
   "outputs": [],
   "source": [
    "def train_SGD(train_img, train_label, test_img_arr, test_label, beta_init, lr, val_grad_fn, verbose = 0, n_epoch=10, mb_size=100):\n",
    "    \"\"\"\n",
    "     Find optimized beta given train images and train labels using Stochastic Gradient Descent (SGD)\n",
    "     \n",
    "    Inputs:\n",
    "     train_img: Training images (in the format of [n,:] array, where n is the number of images)\n",
    "     train_label: Training labels (in the format of [n, 1] array, where n is the number of labels)\n",
    "     beta: Starting point of beta (weights)\n",
    "     lr: Learning rate\n",
    "     val_grad_fn: Function to return the loss value and gradient given X and Y\n",
    "     verbose: Print time elapsed, training loss and test accuracy for each epoch if verbose = 1, default 0\n",
    "     n_epoch: Number of epoch to run the algo, default 10\n",
    "     mb_size: Minibatch size, default 100\n",
    "     \n",
    "    Outputs:\n",
    "     beta: The final updated values of beta\n",
    "     record: A dictionary of performance during training, including 'loss_epoch', 'loss_mb', 'test_acc_epoch', 'test_acc_mb' \n",
    "    \"\"\"\n",
    "    minibatch_size = mb_size #size of the minibatchs\n",
    "    N = len(train_img)  #15000, total number of images\n",
    "    img_indices = np.arange(N)\n",
    "\n",
    "    loss_history_epoch = []\n",
    "    loss_history_mb = []\n",
    "    test_acc_history_epoch = []\n",
    "    test_acc_history_mb = []\n",
    "    \n",
    "    beta = np.copy(beta_init)\n",
    "    learning_rate = lr\n",
    "\n",
    "    for epoch in range(n_epoch):\n",
    "        # go through all the minibatches, sequetially\n",
    "        start = time.time()\n",
    "        n_minibatch = N // minibatch_size + 1\n",
    "        # randomize the batches\n",
    "        np.random.shuffle(img_indices)\n",
    "\n",
    "        all_loss_within_epoch = []\n",
    "        all_acc_within_epoch = []\n",
    "        for k in range(n_minibatch):\n",
    "            # create the minibatch of examples\n",
    "            batch_indices = np.arange(k*minibatch_size, (k+1)*minibatch_size) % N\n",
    "            batch_indices = img_indices[batch_indices]\n",
    "            X_minibatch = train_img[batch_indices]\n",
    "            Y_minibatch = train_label[batch_indices]\n",
    "\n",
    "            # compute the stochastic gradient\n",
    "            val, grad = val_grad_fn(beta, X_minibatch, Y_minibatch)\n",
    "\n",
    "            # do one step of SGD\n",
    "            beta = beta - learning_rate*grad\n",
    "\n",
    "            # book-keeping\n",
    "            loss_history_mb.append(val)\n",
    "            all_loss_within_epoch.append(val)\n",
    "            \n",
    "            test_acc_mb = test_acc(beta, test_label, test_img_arr)\n",
    "            test_acc_history_mb.append(test_acc_mb)\n",
    "            all_acc_within_epoch.append(test_acc_mb)\n",
    "            \n",
    "        loss_epoch = np.mean(all_loss_within_epoch)\n",
    "        loss_history_epoch.append(loss_epoch)\n",
    "        \n",
    "        test_acc_epoch = np.mean(all_acc_within_epoch)\n",
    "        test_acc_history_epoch.append(test_acc_epoch)\n",
    "        \n",
    "        end = time.time()\n",
    "        duration = end - start\n",
    "        if verbose == 1:\n",
    "            print(f\"Epoch {epoch}: {duration:.2f} seconds, Loss: {loss_epoch:.2f}, Test Accuracy: {test_acc_epoch:.3f}\")\n",
    "            \n",
    "    record = {'name': \"SGD\",\n",
    "              'loss_epoch': loss_history_epoch,\n",
    "              'loss_mb': loss_history_mb,\n",
    "              'test_acc_epoch': test_acc_history_epoch,\n",
    "              'test_acc_mb': test_acc_history_mb}\n",
    "    \n",
    "    return beta, record"
   ]
  },
  {
   "cell_type": "code",
   "execution_count": 17,
   "metadata": {
    "jupyter": {
     "source_hidden": true
    },
    "tags": []
   },
   "outputs": [],
   "source": [
    "def train_SGD_step_decay(train_img, train_label, test_img_arr, test_label, beta_init, lr, val_grad_fn, lr_decay=0.5, n_steps=5, verbose = 0, n_epoch=10, mb_size=100):\n",
    "    \"\"\"\n",
    "     Find optimized beta given train images and train labels with fix epoch learning rate decay using SGD with step decay\n",
    "     \n",
    "    Inputs:\n",
    "     train_img: Training images (in the format of [n,:] array, where n is the number of images)\n",
    "     train_label: Training labels (in the format of [n, 1] array, where n is the number of labels)\n",
    "     beta: Starting point of beta (weights)\n",
    "     lr: Learning rate\n",
    "     val_grad_fn: Function to return the loss value and gradient given X and Y\n",
    "     lr_decay: Learning rate decay rate, default 0.5\n",
    "     n_steps: Number of epochs to decay the learning rate\n",
    "     verbose: Print time elapsed, training loss and test accuracy for each epoch if verbose = 1, default 0\n",
    "     n_epoch: Number of epoch to run the algo, default 10\n",
    "     mb_size: Minibatch size, default 100\n",
    "     \n",
    "    Outputs:\n",
    "     beta: The final updated values of beta\n",
    "     record: A dictionary of performance during training, including 'loss_epoch', 'loss_mb', 'test_acc_epoch', 'test_acc_mb' \n",
    "    \"\"\"\n",
    "    minibatch_size = mb_size #size of the minibatchs\n",
    "    N = len(train_img)  #15000, total number of images\n",
    "    img_indices = np.arange(N)\n",
    "\n",
    "    loss_history_epoch = []\n",
    "    loss_history_mb = []\n",
    "    test_acc_history_epoch = []\n",
    "    test_acc_history_mb = []\n",
    "    \n",
    "    beta = np.copy(beta_init)\n",
    "    learning_rate = lr\n",
    "\n",
    "    for epoch in range(n_epoch):\n",
    "        # go through all the minibatches, sequetially\n",
    "        start = time.time()\n",
    "        n_minibatch = N // minibatch_size + 1\n",
    "        # randomize the batches\n",
    "        np.random.shuffle(img_indices)\n",
    "\n",
    "        all_loss_within_epoch = []\n",
    "        all_acc_within_epoch = []\n",
    "        for k in range(n_minibatch):\n",
    "            # create the minibatch of examples\n",
    "            batch_indices = np.arange(k*minibatch_size, (k+1)*minibatch_size) % N\n",
    "            batch_indices = img_indices[batch_indices]\n",
    "            X_minibatch = train_img[batch_indices]\n",
    "            Y_minibatch = train_label[batch_indices]\n",
    "\n",
    "            # compute the stochastic gradient\n",
    "            val, grad = val_grad_fn(beta, X_minibatch, Y_minibatch)\n",
    "\n",
    "            # do one step of SGD\n",
    "            beta = beta - learning_rate*grad\n",
    "\n",
    "            # book-keeping\n",
    "            loss_history_mb.append(val)\n",
    "            all_loss_within_epoch.append(val)\n",
    "            \n",
    "            test_acc_mb = test_acc(beta, test_label, test_img_arr)\n",
    "            test_acc_history_mb.append(test_acc_mb)\n",
    "            all_acc_within_epoch.append(test_acc_mb)\n",
    "            \n",
    "        loss_epoch = np.mean(all_loss_within_epoch)\n",
    "        loss_history_epoch.append(loss_epoch)\n",
    "        \n",
    "        test_acc_epoch = np.mean(all_acc_within_epoch)\n",
    "        test_acc_history_epoch.append(test_acc_epoch)\n",
    "        \n",
    "        end = time.time()\n",
    "        duration = end - start\n",
    "        \n",
    "        if (epoch + 1) % n_steps == 0:\n",
    "            learning_rate = learning_rate * lr_decay\n",
    "        \n",
    "        if verbose == 1:\n",
    "            print(f\"Epoch {epoch}: {duration:.2f} seconds, Loss: {loss_epoch:.2f}, Test Accuracy: {test_acc_epoch:.3f}\")\n",
    "            \n",
    "    record = {'name': \"Step_Decay\",\n",
    "              'loss_epoch': loss_history_epoch,\n",
    "              'loss_mb': loss_history_mb,\n",
    "              'test_acc_epoch': test_acc_history_epoch,\n",
    "              'test_acc_mb': test_acc_history_mb}\n",
    "    \n",
    "    return beta, record"
   ]
  },
  {
   "cell_type": "code",
   "execution_count": 18,
   "metadata": {
    "jupyter": {
     "source_hidden": true
    },
    "tags": []
   },
   "outputs": [],
   "source": [
    "def train_SGD_heuristic(train_img, train_label, test_img_arr, test_label, beta_init, lr, val_grad_fn, lr_decay=0.5, valid_size=0.2, verbose = 0, n_epoch=10, mb_size=100):\n",
    "    \"\"\"\n",
    "     Find optimized beta given train images and train labels with heuristic learning rate decay using SGD with heuristic learning rate decay\n",
    "     \n",
    "    Inputs:\n",
    "     train_img: Training images (in the format of [n,:] array, where n is the number of images)\n",
    "     train_label: Training labels (in the format of [n, 1] array, where n is the number of labels)\n",
    "     beta: Starting point of beta (weights)\n",
    "     lr: Learning rate\n",
    "     val_grad_fn: Function to return the loss value and gradient given X and Y\n",
    "     lr_decay: Learning rate decay rate, default 0.5\n",
    "     valid_size: Proportion of training images to be used as validation data\n",
    "     verbose: Print time elapsed, training loss and test accuracy for each epoch if verbose = 1, default 0\n",
    "     n_epoch: Number of epoch to run the algo, default 10\n",
    "     mb_size: Minibatch size, default 100\n",
    "     \n",
    "    Outputs:\n",
    "     beta: The final updated values of beta\n",
    "     record: A dictionary of performance during training, including 'loss_epoch', 'loss_mb', 'test_acc_epoch', 'test_acc_mb' \n",
    "    \"\"\"\n",
    "    minibatch_size = mb_size #size of the minibatchs\n",
    "    N = len(train_img)  #15000, total number of images\n",
    "    img_indices = np.arange(N)\n",
    "\n",
    "    loss_history_epoch = []\n",
    "    loss_history_mb = []\n",
    "    valid_acc_history = []\n",
    "    test_acc_history_epoch = []\n",
    "    test_acc_history_mb = []\n",
    "    \n",
    "    beta = np.copy(beta_init)\n",
    "    learning_rate = lr\n",
    "    \n",
    "    valid_img_arr = train_img[int(-valid_size*N):]\n",
    "    valid_label = train_label[int(-valid_size*N):]\n",
    "\n",
    "    for epoch in range(n_epoch):\n",
    "        # go through all the minibatches, sequetially\n",
    "        start = time.time()\n",
    "        n_minibatch = N // minibatch_size + 1\n",
    "        # randomize the batches\n",
    "        np.random.shuffle(img_indices)\n",
    "\n",
    "        all_loss_within_epoch = []\n",
    "        all_acc_within_epoch = []\n",
    "        for k in range(n_minibatch):\n",
    "            # create the minibatch of examples\n",
    "            batch_indices = np.arange(k*minibatch_size, (k+1)*minibatch_size) % N\n",
    "            batch_indices = img_indices[batch_indices]\n",
    "            X_minibatch = train_img[batch_indices]\n",
    "            Y_minibatch = train_label[batch_indices]\n",
    "\n",
    "            # compute the stochastic gradient\n",
    "            val, grad = val_grad_fn(beta, X_minibatch, Y_minibatch)\n",
    "\n",
    "            # do one step of SGD\n",
    "            beta = beta - learning_rate*grad\n",
    "\n",
    "            # book-keeping\n",
    "            loss_history_mb.append(val)\n",
    "            all_loss_within_epoch.append(val)\n",
    "            \n",
    "            test_acc_mb = test_acc(beta, test_label, test_img_arr)\n",
    "            test_acc_history_mb.append(test_acc_mb)\n",
    "            all_acc_within_epoch.append(test_acc_mb)\n",
    "            \n",
    "        loss_epoch = np.mean(all_loss_within_epoch)\n",
    "        loss_history_epoch.append(loss_epoch)\n",
    "        \n",
    "        valid_acc_new = test_acc(beta, valid_label, valid_img_arr)\n",
    "        valid_acc_history.append(valid_acc_new)\n",
    "        \n",
    "        test_acc_epoch = np.mean(all_acc_within_epoch)\n",
    "        test_acc_history_epoch.append(test_acc_epoch)\n",
    "        \n",
    "        end = time.time()\n",
    "        duration = end - start\n",
    "        \n",
    "        if epoch == 0:\n",
    "            valid_acc = valid_acc_new\n",
    "        elif valid_acc_new < valid_acc:\n",
    "            learning_rate = learning_rate * lr_decay\n",
    "        valid_acc = valid_acc_new\n",
    "        \n",
    "        if verbose == 1:\n",
    "            print(f\"Epoch {epoch}: {duration:.2f} seconds, Loss: {loss_epoch:.2f}, Test Accuracy: {test_acc_epoch:.3f}\")\n",
    "            \n",
    "    record = {'name': \"Heuristic\",\n",
    "              'loss_epoch': loss_history_epoch,\n",
    "              'loss_mb': loss_history_mb,\n",
    "              'valid_acc_epoch': valid_acc_history,\n",
    "              'test_acc_epoch': test_acc_history_epoch,\n",
    "              'test_acc_mb': test_acc_history_mb}\n",
    "    \n",
    "    return beta, record"
   ]
  },
  {
   "cell_type": "code",
   "execution_count": 19,
   "metadata": {
    "jupyter": {
     "source_hidden": true
    },
    "tags": []
   },
   "outputs": [],
   "source": [
    "## with fixed decay_constant\n",
    "def train_SGD_mom_scheduled_decay(train_img, train_label, test_img_arr, test_label, beta_init, lr, val_grad_fn, lr_decay=0.5, n_steps=5, verbose = 0, n_epoch=10, mb_size=100, decay_constant=0.2, mom_constant=0.5):\n",
    "    \"\"\"\n",
    "     Find optimized beta given train images and train labels with fix epoch learning rate decay using SGD with scheduled decay\n",
    "     \n",
    "    Inputs:\n",
    "     train_img: Training images (in the format of [n,:] array, where n is the number of images)\n",
    "     train_label: Training labels (in the format of [n, 1] array, where n is the number of labels)\n",
    "     beta: Starting point of beta (weights)\n",
    "     lr: Learning rate\n",
    "     val_grad_fn: Function to return the loss value and gradient given X and Y\n",
    "     lr_decay: Learning rate decay rate, default 0.5\n",
    "     n_steps: Number of epochs to decay the learning rate\n",
    "     verbose: Print time elapsed, training loss and test accuracy for each epoch if verbose = 1, default 0\n",
    "     n_epoch: Number of epoch to run the algo, default 10\n",
    "     mb_size: Minibatch size, default 100\n",
    "     decay_constant: choise of decay_constant, defult 0.5\n",
    "     \n",
    "    Outputs:\n",
    "     beta: The final updated values of beta\n",
    "     record: A dictionary of performance during training, including 'loss_epoch', 'loss_mb', 'test_acc_epoch', 'test_acc_mb' \n",
    "    \"\"\"\n",
    "    minibatch_size = mb_size #size of the minibatchs\n",
    "    N = len(train_img)  #15000, total number of images\n",
    "    img_indices = np.arange(N)\n",
    "\n",
    "    loss_history_epoch = []\n",
    "    loss_history_mb = []\n",
    "    test_acc_history_epoch = []\n",
    "    test_acc_history_mb = []\n",
    "    \n",
    "    beta = np.copy(beta_init)\n",
    "    beta_old = np.copy(beta_init)\n",
    "    learning_rate = lr\n",
    "\n",
    "    for epoch in range(n_epoch):\n",
    "        # go through all the minibatches, sequetially\n",
    "        start = time.time()\n",
    "        n_minibatch = N // minibatch_size + 1\n",
    "        # randomize the batches\n",
    "        np.random.shuffle(img_indices)\n",
    "\n",
    "        all_loss_within_epoch = []\n",
    "        all_acc_within_epoch = []\n",
    "        for k in range(n_minibatch):\n",
    "            # create the minibatch of examples\n",
    "            batch_indices = np.arange(k*minibatch_size, (k+1)*minibatch_size) % N\n",
    "            batch_indices = img_indices[batch_indices]\n",
    "            X_minibatch = train_img[batch_indices]\n",
    "            Y_minibatch = train_label[batch_indices]\n",
    "\n",
    "            # compute the stochastic gradient\n",
    "            val, grad = val_grad_fn(beta, X_minibatch, Y_minibatch)\n",
    "\n",
    "            # do one step of SGD\n",
    "            mom = beta - beta_old\n",
    "            beta_old = beta\n",
    "            beta = beta - learning_rate*grad + mom_constant*mom\n",
    "\n",
    "            # book-keeping\n",
    "            loss_history_mb.append(val)\n",
    "            all_loss_within_epoch.append(val)\n",
    "            \n",
    "            test_acc_mb = test_acc(beta, test_label, test_img_arr)\n",
    "            test_acc_history_mb.append(test_acc_mb)\n",
    "            all_acc_within_epoch.append(test_acc_mb)\n",
    "            \n",
    "        loss_epoch = np.mean(all_loss_within_epoch)\n",
    "        loss_history_epoch.append(loss_epoch)\n",
    "        \n",
    "        test_acc_epoch = np.mean(all_acc_within_epoch)\n",
    "        test_acc_history_epoch.append(test_acc_epoch)\n",
    "        \n",
    "        end = time.time()\n",
    "        duration = end - start\n",
    "        \n",
    "        learning_rate = learning_rate /(1 + decay_constant*epoch) # Schedule decay\n",
    "\n",
    "        if verbose == 1:\n",
    "            print(f\"Epoch {epoch}: {duration:.2f} seconds, Loss: {loss_epoch:.2f}, Test Accuracy: {test_acc_epoch:.3f}\")\n",
    "            \n",
    "    record = {'name': \"Momentum_Scheduled_Decay\",\n",
    "              'loss_epoch': loss_history_epoch,\n",
    "              'loss_mb': loss_history_mb,\n",
    "              'test_acc_epoch': test_acc_history_epoch,\n",
    "              'test_acc_mb': test_acc_history_mb}\n",
    "    \n",
    "    return beta, record\n",
    "\n",
    "## with fixed decay_constant\n",
    "def train_SGD_scheduled_decay(train_img, train_label, test_img_arr, test_label, beta_init, lr, val_grad_fn, lr_decay=0.5, n_steps=5, verbose = 0, n_epoch=10, mb_size=100, decay_constant=0.2):\n",
    "    \"\"\"\n",
    "     Find optimized beta given train images and train labels with fix epoch learning rate decay using SGD with scheduled decay\n",
    "     \n",
    "    Inputs:\n",
    "     train_img: Training images (in the format of [n,:] array, where n is the number of images)\n",
    "     train_label: Training labels (in the format of [n, 1] array, where n is the number of labels)\n",
    "     beta: Starting point of beta (weights)\n",
    "     lr: Learning rate\n",
    "     val_grad_fn: Function to return the loss value and gradient given X and Y\n",
    "     lr_decay: Learning rate decay rate, default 0.5\n",
    "     n_steps: Number of epochs to decay the learning rate\n",
    "     verbose: Print time elapsed, training loss and test accuracy for each epoch if verbose = 1, default 0\n",
    "     n_epoch: Number of epoch to run the algo, default 10\n",
    "     mb_size: Minibatch size, default 100\n",
    "     decay_constant: choise of decay_constant, defult 0.5\n",
    "     \n",
    "    Outputs:\n",
    "     beta: The final updated values of beta\n",
    "     record: A dictionary of performance during training, including 'loss_epoch', 'loss_mb', 'test_acc_epoch', 'test_acc_mb' \n",
    "    \"\"\"\n",
    "    minibatch_size = mb_size #size of the minibatchs\n",
    "    N = len(train_img)  #15000, total number of images\n",
    "    img_indices = np.arange(N)\n",
    "\n",
    "    loss_history_epoch = []\n",
    "    loss_history_mb = []\n",
    "    test_acc_history_epoch = []\n",
    "    test_acc_history_mb = []\n",
    "    \n",
    "    beta = np.copy(beta_init)\n",
    "    learning_rate = lr\n",
    "\n",
    "    for epoch in range(n_epoch):\n",
    "        # go through all the minibatches, sequetially\n",
    "        start = time.time()\n",
    "        n_minibatch = N // minibatch_size + 1\n",
    "        # randomize the batches\n",
    "        np.random.shuffle(img_indices)\n",
    "\n",
    "        all_loss_within_epoch = []\n",
    "        all_acc_within_epoch = []\n",
    "        for k in range(n_minibatch):\n",
    "            # create the minibatch of examples\n",
    "            batch_indices = np.arange(k*minibatch_size, (k+1)*minibatch_size) % N\n",
    "            batch_indices = img_indices[batch_indices]\n",
    "            X_minibatch = train_img[batch_indices]\n",
    "            Y_minibatch = train_label[batch_indices]\n",
    "\n",
    "            # compute the stochastic gradient\n",
    "            val, grad = val_grad_fn(beta, X_minibatch, Y_minibatch)\n",
    "\n",
    "            # do one step of SGD\n",
    "            beta = beta - learning_rate*grad\n",
    "\n",
    "            # book-keeping\n",
    "            loss_history_mb.append(val)\n",
    "            all_loss_within_epoch.append(val)\n",
    "            \n",
    "            test_acc_mb = test_acc(beta, test_label, test_img_arr)\n",
    "            test_acc_history_mb.append(test_acc_mb)\n",
    "            all_acc_within_epoch.append(test_acc_mb)\n",
    "            \n",
    "        loss_epoch = np.mean(all_loss_within_epoch)\n",
    "        loss_history_epoch.append(loss_epoch)\n",
    "        \n",
    "        test_acc_epoch = np.mean(all_acc_within_epoch)\n",
    "        test_acc_history_epoch.append(test_acc_epoch)\n",
    "        \n",
    "        end = time.time()\n",
    "        duration = end - start\n",
    "        \n",
    "        learning_rate = learning_rate /(1 + decay_constant*epoch) # Schedule decay\n",
    "\n",
    "        if verbose == 1:\n",
    "            print(f\"Epoch {epoch}: {duration:.2f} seconds, Loss: {loss_epoch:.2f}, Test Accuracy: {test_acc_epoch:.3f}\")\n",
    "            \n",
    "    record = {'name': \"Scheduled_Decay\",\n",
    "              'loss_epoch': loss_history_epoch,\n",
    "              'loss_mb': loss_history_mb,\n",
    "              'test_acc_epoch': test_acc_history_epoch,\n",
    "              'test_acc_mb': test_acc_history_mb}\n",
    "    \n",
    "    return beta, record"
   ]
  },
  {
   "cell_type": "code",
   "execution_count": 20,
   "metadata": {
    "jupyter": {
     "source_hidden": true
    },
    "tags": []
   },
   "outputs": [],
   "source": [
    "## with fixed mom_constant\n",
    "def train_SGD_mom(train_img, train_label, test_img_arr, test_label, beta_init, lr, val_grad_fn, lr_decay=0.5, n_steps=5, verbose = 0, n_epoch=10, mb_size=100, mom_constant=0.5):\n",
    "    \"\"\"\n",
    "     Find optimized beta given train images and train labels with fix epoch learning rate decay using SGD plus momentum\n",
    "     \n",
    "    Inputs:\n",
    "     train_img: Training images (in the format of [n,:] array, where n is the number of images)\n",
    "     train_label: Training labels (in the format of [n, 1] array, where n is the number of labels)\n",
    "     beta: Starting point of beta (weights)\n",
    "     lr: Learning rate\n",
    "     val_grad_fn: Function to return the loss value and gradient given X and Y\n",
    "     lr_decay: Learning rate decay rate, default 0.5\n",
    "     n_steps: Number of epochs to decay the learning rate\n",
    "     verbose: Print time elapsed, training loss and test accuracy for each epoch if verbose = 1, default 0\n",
    "     n_epoch: Number of epoch to run the algo, default 10\n",
    "     mb_size: Minibatch size, default 100\n",
    "     mom_constant: choise of momentum constant, default 0.5\n",
    "\n",
    "    Outputs:\n",
    "     beta: The final updated values of beta\n",
    "     record: A dictionary of performance during training, including 'loss_epoch', 'loss_mb', 'test_acc_epoch', 'test_acc_mb' \n",
    "    \"\"\"\n",
    "    minibatch_size = mb_size #size of the minibatchs\n",
    "    N = len(train_img)  #15000, total number of images\n",
    "    img_indices = np.arange(N)\n",
    "\n",
    "    loss_history_epoch = []\n",
    "    loss_history_mb = []\n",
    "    test_acc_history_epoch = []\n",
    "    test_acc_history_mb = []\n",
    "    \n",
    "    beta = np.copy(beta_init)\n",
    "    beta_old = np.copy(beta_init)\n",
    "    learning_rate = lr\n",
    "\n",
    "    for epoch in range(n_epoch):\n",
    "        # go through all the minibatches, sequetially\n",
    "        start = time.time()\n",
    "        n_minibatch = N // minibatch_size + 1\n",
    "        # randomize the batches\n",
    "        np.random.shuffle(img_indices)\n",
    "\n",
    "        all_loss_within_epoch = []\n",
    "        all_acc_within_epoch = []\n",
    "        for k in range(n_minibatch):\n",
    "            # create the minibatch of examples\n",
    "            batch_indices = np.arange(k*minibatch_size, (k+1)*minibatch_size) % N\n",
    "            batch_indices = img_indices[batch_indices]\n",
    "            X_minibatch = train_img[batch_indices]\n",
    "            Y_minibatch = train_label[batch_indices]\n",
    "\n",
    "            # compute the stochastic gradient\n",
    "            val, grad = val_grad_fn(beta, X_minibatch, Y_minibatch)\n",
    "\n",
    "            # do one step of SGD\n",
    "            mom = beta - beta_old\n",
    "            beta_old = beta\n",
    "            beta = beta - learning_rate*grad + mom_constant*mom\n",
    "\n",
    "\n",
    "            # book-keeping\n",
    "            loss_history_mb.append(val)\n",
    "            all_loss_within_epoch.append(val)\n",
    "            \n",
    "            test_acc_mb = test_acc(beta, test_label, test_img_arr)\n",
    "            test_acc_history_mb.append(test_acc_mb)\n",
    "            all_acc_within_epoch.append(test_acc_mb)\n",
    "            \n",
    "        loss_epoch = np.mean(all_loss_within_epoch)\n",
    "        loss_history_epoch.append(loss_epoch)\n",
    "        \n",
    "        test_acc_epoch = np.mean(all_acc_within_epoch)\n",
    "        test_acc_history_epoch.append(test_acc_epoch)\n",
    "        \n",
    "        end = time.time()\n",
    "        duration = end - start\n",
    "        \n",
    "\n",
    "        if verbose == 1:\n",
    "            print(f\"Epoch {epoch}: {duration:.2f} seconds, Loss: {loss_epoch:.2f}, Test Accuracy: {test_acc_epoch:.3f}\")\n",
    "            \n",
    "    record = {'name': \"Momentum\",\n",
    "              'loss_epoch': loss_history_epoch,\n",
    "              'loss_mb': loss_history_mb,\n",
    "              'test_acc_epoch': test_acc_history_epoch,\n",
    "              'test_acc_mb': test_acc_history_mb}\n",
    "    \n",
    "    return beta, record"
   ]
  },
  {
   "cell_type": "code",
   "execution_count": 21,
   "metadata": {},
   "outputs": [],
   "source": [
    "def line_search_wolfe_condition(val_grad_fn, X, y, b_k, d_k, f_now, grad_now):\n",
    "    \"\"\"\n",
    "    Backtrack Line Search with Wolfe Conditions\n",
    "    \n",
    "    Inputs:\n",
    "        val_grad_fn: Function to return the loss value and gradient given beta, X and Y\n",
    "        X: images used for computing objective/gradient function\n",
    "        y: labels used for computing objective/gradient function\n",
    "        b_k: parameter beta at k-th step\n",
    "        d_k: the descent direction computed at point b_k\n",
    "        f_now: the current loss/objective value at b_k\n",
    "        grad_now: the current gradient at b_k\n",
    "\n",
    "    Outputs:\n",
    "        a: a step size/learning rate chosen by satisfying the Wolfe Conditions\n",
    "    \n",
    "    \"\"\"\n",
    "    c1 = 1e-4\n",
    "    c2 = 0.9 # c2 = 0.9 for Newton/Quasi Newton methods\n",
    "    a = 1 # initial guess for step size\n",
    "    \n",
    "    def is_wolfe_satisfied():\n",
    "        f_new, grad_new = val_grad_fn(b_k+a*d_k,X,y)\n",
    "        armijo = f_new <= f_now + c1*a*np.dot(d_k, grad_now)\n",
    "        curvature = -np.dot(d_k,grad_new) <= -c2*np.dot(d_k,grad_now)    \n",
    "        \n",
    "        return armijo and curvature, f_new, grad_new\n",
    "    \n",
    "    while True:\n",
    "        is_wolfe_satis, f_new, grad_new = is_wolfe_satisfied()\n",
    "        if is_wolfe_satis:\n",
    "            break\n",
    "        else:\n",
    "            a = a * 0.5\n",
    "            print(a)\n",
    "    \n",
    "    return a, f_new, grad_new\n",
    "\n",
    "def train_BFGS_mom(train_img, train_label, test_img_arr, test_label, beta_init, lr, val_grad_fn, verbose = 0, n_epoch=10, mom_constant=0.5):\n",
    "    \"\"\"\n",
    "     Find optimized beta given train images and train labels using Stochastic Gradient Descent (SGD)\n",
    "     \n",
    "    Inputs:\n",
    "     train_img: Training images (in the format of [n,:] array, where n is the number of images)\n",
    "     train_label: Training labels (in the format of [n, 1] array, where n is the number of labels)\n",
    "     beta: Starting point of beta (weights)\n",
    "     lr: Learning rate\n",
    "     val_grad_fn: Function to return the loss value and gradient given X and Y\n",
    "     verbose: Print time elapsed, training loss and test accuracy for each epoch if verbose = 1, default 0\n",
    "     n_epoch: Number of epoch to run the algo, default 10\n",
    "     \n",
    "    Outputs:\n",
    "     loss_history: Loss for training history at end of each minibatch\n",
    "     loss_history_end_epoch: Loss at the end of each epoch\n",
    "     test_acc_history: Test accuracy at the end of each epoch\n",
    "     beta: The final updated values of beta\n",
    "    \"\"\"\n",
    "    loss_history = []\n",
    "    test_acc_history = []\n",
    "    beta = np.copy(beta_init)\n",
    "    beta_old = np.copy(beta_init)\n",
    "    learning_rate = lr\n",
    "    B_inv = np.identity(len(beta)) # approximation for Hessian inv\n",
    "    \n",
    "    for epoch in range(n_epoch):\n",
    "        \n",
    "        start = time.time()\n",
    "        if epoch == 0:\n",
    "            loss_now, grad_now = val_grad_fn(beta, train_img, train_label)\n",
    "        else:\n",
    "            loss_now, grad_now = loss_new, grad_new\n",
    "        # compute the descent direction by Newton's method\n",
    "        #print(type(B_inv), type(grad_now))\n",
    "        #print(B_inv.shape, grad_now.shape)\n",
    "        d = -B_inv@grad_now\n",
    "        \n",
    "        # compute an acceptable learning rate by satisfying wolfe condition\n",
    "        #print(\"before search\")\n",
    "        learning_rate, loss_new, grad_new = line_search_wolfe_condition(val_grad_fn, train_img, train_label, beta, d, loss_now, grad_now)\n",
    "        #print(learning_rate, loss_new, grad_new)\n",
    "        #print(\"before update B_inv\")\n",
    "        \n",
    "        # make an update on beta\n",
    "        mom = beta - beta_old\n",
    "        beta_old = np.copy(beta)\n",
    "        beta = beta + learning_rate * d + mom_constant * mom\n",
    "        \n",
    "        # update B_inv\n",
    "        s = learning_rate * d\n",
    "        #_, grad_new = val_grad_fn(beta, train_img, train_label)\n",
    "        y = grad_new - grad_now\n",
    "        s, y = s.reshape(len(beta),1), y.reshape(len(beta),1)\n",
    "        print(\"before update B_inv\")\n",
    "        \n",
    "        first_1 = (jnp.matmul(s.T,y) + jnp.matmul(jnp.matmul(y.T,B_inv),y))[0] #(s.T@y + y.T@B_inv@y)[0]\n",
    "        first_2 = (jnp.matmul(s.T,y)[0])**2 #((s.T@y)[0])**2\n",
    "        first_3 = jnp.matmul(s,s.T) #(s@s.T)\n",
    "        first = (first_1 / first_2) * first_3 #((s.T@y + y.T@B_inv@y)[0] / ((s.T@y)[0])**2) * (s@s.T)\n",
    "        del first_1, first_2, first_3\n",
    "        print(first.shape)\n",
    "        \n",
    "        sec_1 = jnp.matmul(jnp.matmul(B_inv,y),s.T) # (B_inv@y@s.T)\n",
    "        sec_2 = jnp.matmul(s,jnp.matmul(y.T,B_inv)) # (s@y.T@B_inv))\n",
    "        sec_sum = -(sec_1 + sec_2)\n",
    "        del sec_1, sec_2,\n",
    "        sec_3 = jnp.matmul(s.T,y)[0]\n",
    "        second = sec_sum / sec_3 # -((B_inv@y@s.T) + (s@y.T@B_inv)) / (s.T@y)[0]\n",
    "        del sec_sum, sec_3\n",
    "        print(second.shape)\n",
    "        \n",
    "        B_inv = B_inv + first + second\n",
    "        del first, second\n",
    "        print(\"after update B_inv\")\n",
    "        \n",
    "        loss_history.append(loss_now)\n",
    "        end = time.time()\n",
    "        duration = end - start\n",
    "        test_proba = pred_proba_batch(beta, test_img_arr)\n",
    "        test_acc = get_accuracy(test_proba, test_label)\n",
    "        test_acc_history.append(test_acc)\n",
    "        if verbose == 1:\n",
    "            print(f\"Epoch {epoch}: {duration:.2f} seconds, Loss: {loss_history[-1]:.2f}, Test Accuracy: {test_acc:.3f}\")\n",
    "            \n",
    "    record = {'name': \"BFGS\",\n",
    "              'loss_epoch': loss_history,\n",
    "              'test_acc_epoch': test_acc_history}      \n",
    "    return beta, record\n",
    "\n",
    "def train_BFGS(train_img, train_label, test_img_arr, test_label, beta_init, lr, val_grad_fn, verbose = 0, n_epoch=10):\n",
    "    \"\"\"\n",
    "     Find optimized beta given train images and train labels using Stochastic Gradient Descent (SGD)\n",
    "     \n",
    "    Inputs:\n",
    "     train_img: Training images (in the format of [n,:] array, where n is the number of images)\n",
    "     train_label: Training labels (in the format of [n, 1] array, where n is the number of labels)\n",
    "     beta: Starting point of beta (weights)\n",
    "     lr: Learning rate\n",
    "     val_grad_fn: Function to return the loss value and gradient given X and Y\n",
    "     verbose: Print time elapsed, training loss and test accuracy for each epoch if verbose = 1, default 0\n",
    "     n_epoch: Number of epoch to run the algo, default 10\n",
    "     \n",
    "    Outputs:\n",
    "     loss_history: Loss for training history at end of each minibatch\n",
    "     loss_history_end_epoch: Loss at the end of each epoch\n",
    "     test_acc_history: Test accuracy at the end of each epoch\n",
    "     beta: The final updated values of beta\n",
    "    \"\"\"\n",
    "    loss_history = []\n",
    "    test_acc_history = []\n",
    "    beta = np.copy(beta_init)\n",
    "    learning_rate = lr\n",
    "    B_inv = np.identity(len(beta)) # approximation for Hessian inv\n",
    "    \n",
    "    for epoch in range(n_epoch):\n",
    "        \n",
    "        start = time.time()\n",
    "        if epoch == 0:\n",
    "            loss_now, grad_now = val_grad_fn(beta, train_img, train_label)\n",
    "        else:\n",
    "            loss_now, grad_now = loss_new, grad_new\n",
    "        # compute the descent direction by Newton's method\n",
    "        #print(type(B_inv), type(grad_now))\n",
    "        #print(B_inv.shape, grad_now.shape)\n",
    "        d = -B_inv@grad_now\n",
    "        \n",
    "        # compute an acceptable learning rate by satisfying wolfe condition\n",
    "        #print(\"before search\")\n",
    "        learning_rate, loss_new, grad_new = line_search_wolfe_condition(val_grad_fn, train_img, train_label, beta, d, loss_now, grad_now)\n",
    "        #print(learning_rate, loss_new, grad_new)\n",
    "        #print(\"before update B_inv\")\n",
    "        # make an update on beta\n",
    "        beta = beta + learning_rate * d\n",
    "        \n",
    "        # update B_inv\n",
    "        s = learning_rate * d\n",
    "        #_, grad_new = val_grad_fn(beta, train_img, train_label)\n",
    "        y = grad_new - grad_now\n",
    "        s, y = s.reshape(len(beta),1), y.reshape(len(beta),1)\n",
    "        print(\"before update B_inv\")\n",
    "        \n",
    "        first_1 = (jnp.matmul(s.T,y) + jnp.matmul(jnp.matmul(y.T,B_inv),y))[0] #(s.T@y + y.T@B_inv@y)[0]\n",
    "        first_2 = (jnp.matmul(s.T,y)[0])**2 #((s.T@y)[0])**2\n",
    "        first_3 = jnp.matmul(s,s.T) #(s@s.T)\n",
    "        first = (first_1 / first_2) * first_3 #((s.T@y + y.T@B_inv@y)[0] / ((s.T@y)[0])**2) * (s@s.T)\n",
    "        del first_1, first_2, first_3\n",
    "        print(first.shape)\n",
    "        \n",
    "        sec_1 = jnp.matmul(jnp.matmul(B_inv,y),s.T) # (B_inv@y@s.T)\n",
    "        sec_2 = jnp.matmul(s,jnp.matmul(y.T,B_inv)) # (s@y.T@B_inv))\n",
    "        sec_sum = -(sec_1 + sec_2)\n",
    "        del sec_1, sec_2,\n",
    "        sec_3 = jnp.matmul(s.T,y)[0]\n",
    "        second = sec_sum / sec_3 # -((B_inv@y@s.T) + (s@y.T@B_inv)) / (s.T@y)[0]\n",
    "        del sec_sum, sec_3\n",
    "        print(second.shape)\n",
    "        \n",
    "        B_inv = B_inv + first + second\n",
    "        del first, second\n",
    "        print(\"after update B_inv\")\n",
    "        \n",
    "        loss_history.append(loss_now)\n",
    "        end = time.time()\n",
    "        duration = end - start\n",
    "        test_proba = pred_proba_batch(beta, test_img_arr)\n",
    "        test_acc = get_accuracy(test_proba, test_label)\n",
    "        test_acc_history.append(test_acc)\n",
    "        if verbose == 1:\n",
    "            print(f\"Epoch {epoch}: {duration:.2f} seconds, Loss: {loss_history[-1]:.2f}, Test Accuracy: {test_acc:.3f}\")\n",
    "            \n",
    "    record = {'name': \"BFGS\",\n",
    "              'loss_epoch': loss_history,\n",
    "              'test_acc_epoch': test_acc_history}      \n",
    "    return beta, record"
   ]
  },
  {
   "cell_type": "markdown",
   "metadata": {
    "jp-MarkdownHeadingCollapsed": true,
    "tags": []
   },
   "source": [
    "## Utility Functions for Plotting Graph"
   ]
  },
  {
   "cell_type": "code",
   "execution_count": 22,
   "metadata": {
    "jupyter": {
     "source_hidden": true
    },
    "tags": []
   },
   "outputs": [],
   "source": [
    "def plot_loss(loss_history):\n",
    "    plt.plot(loss_history, \"-^\")\n",
    "    plt.yscale(\"log\")\n",
    "    plt.xlabel(\"Epochs\")\n",
    "    plt.grid(True)"
   ]
  },
  {
   "cell_type": "code",
   "execution_count": 23,
   "metadata": {},
   "outputs": [],
   "source": [
    "def record_graph(record_list, key='test_acc_epoch', title=\"Summary of Results\", n = None):\n",
    "    \"\"\"\n",
    "    Plot graph of records in the list\n",
    "    \n",
    "    Args:\n",
    "     record_list: List of record (dictionary) as returned by model training functions\n",
    "     key: Performance metric to be plotted\n",
    "     n: Number of results to be plotted, full results will be plotted if None\n",
    "     \n",
    "    Output:\n",
    "     Multiple lines of the record on the same graph\n",
    "    \"\"\"\n",
    "    keys = record_list[0].keys()\n",
    "    if key not in keys:\n",
    "        print(f'{key} is an invalid key!')\n",
    "        print(f'Please enter one of the following: {keys}')\n",
    "        \n",
    "    plt.figure(figsize=(16,10))\n",
    "        \n",
    "    for record in record_list:\n",
    "        if n == None:\n",
    "            n = len(record.get(key))\n",
    "        y = record.get(key)[:n]\n",
    "        x = np.arange(n)\n",
    "#         plt.set_xticklabels(x.astype(int))\n",
    "        plt.xticks(range(n))\n",
    "        plt.plot(x,\n",
    "                 y, \n",
    "                 \"-.\",\n",
    "                 alpha=0.6,\n",
    "                 label=record.get('name'))\n",
    "        plt.xticks(range(n))\n",
    "    \n",
    "    plt.legend()\n",
    "    plt.xlabel(f'{key}'.split('_')[-1])\n",
    "    plt.ylabel(' '.join(f'{key}'.split('_')[:-1]))\n",
    "    plt.grid(True)\n",
    "    plt.title(title)"
   ]
  },
  {
   "cell_type": "markdown",
   "metadata": {
    "jp-MarkdownHeadingCollapsed": true,
    "tags": []
   },
   "source": [
    "## Import Data\n",
    "### Notice: Images are only loaded as file names at this stage, to read as numerical arrays, use image_loader/image_loader_fname"
   ]
  },
  {
   "cell_type": "code",
   "execution_count": 24,
   "metadata": {},
   "outputs": [
    {
     "name": "stdout",
     "output_type": "stream",
     "text": [
      "15000 15000 5000 5000\n",
      "200 200 19800 19800\n"
     ]
    }
   ],
   "source": [
    "# Proportion of Males in first 15000? first 200?\n",
    "train_img = all_img[:15000]\n",
    "train_label = attribute['Male'][:15000]\n",
    "train_label = np.array(train_label).reshape(-1)\n",
    "\n",
    "test_img = all_img[15000:]\n",
    "test_label = attribute['Male'][15000:]\n",
    "test_label = np.array(test_label).reshape(-1)\n",
    "\n",
    "train_small_img = all_img[:200]\n",
    "train_small_label = attribute['Male'][:200]\n",
    "train_small_label = np.array(train_small_label).reshape(-1)\n",
    "\n",
    "test_small_img = all_img[200:]\n",
    "test_small_label = attribute['Male'][200:]\n",
    "test_small_label = np.array(test_small_label).reshape(-1)\n",
    "\n",
    "print(len(train_img), len(train_label), len(test_img), len(test_label))\n",
    "print(len(train_small_img), len(train_small_label), len(test_small_img), len(test_small_label))"
   ]
  },
  {
   "cell_type": "markdown",
   "metadata": {},
   "source": [
    "### Delete the arrays to clear up memeory and prevent RAM OOM"
   ]
  },
  {
   "cell_type": "code",
   "execution_count": 25,
   "metadata": {},
   "outputs": [],
   "source": [
    "import gc\n",
    "def clear_image_cache(var_list):\n",
    "    for var in var_list:\n",
    "        if var in globals().keys():\n",
    "            del globals()[var]\n",
    "    gc.collect()\n",
    "    time.sleep(1)\n",
    "# del test_img_arr\n",
    "# del train_img_arr"
   ]
  },
  {
   "cell_type": "markdown",
   "metadata": {},
   "source": [
    "# Experiments and Evaluations"
   ]
  },
  {
   "cell_type": "markdown",
   "metadata": {
    "tags": []
   },
   "source": [
    "## 1. Study the relationship between test accuracy and the size of the training set"
   ]
  },
  {
   "cell_type": "code",
   "execution_count": 8,
   "metadata": {},
   "outputs": [],
   "source": [
    "## How does the accuracy (ie. tested on the last 5,000 images) depend on the size of the training set? \n",
    "#  Is it necessary to use all the training set, or does the accuracy stabilize before?\n",
    "# Proportion of Males in first 15000? first 200?"
   ]
  },
  {
   "cell_type": "code",
   "execution_count": 33,
   "metadata": {
    "collapsed": true,
    "jupyter": {
     "outputs_hidden": true
    },
    "tags": []
   },
   "outputs": [
    {
     "name": "stdout",
     "output_type": "stream",
     "text": [
      "test set length:  5000\n",
      "loading test set\n",
      "Number of images imported: 1000, Time elapsed: 3.62\n",
      "Number of images imported: 2000, Time elapsed: 7.09\n",
      "Number of images imported: 3000, Time elapsed: 10.58\n",
      "Number of images imported: 4000, Time elapsed: 14.06\n",
      "Number of images imported: 5000, Time elapsed: 17.56\n",
      "loading train set with size 1000\n",
      "Number of images imported: 1000, Time elapsed: 3.49\n",
      "loading train set with size 3000\n",
      "Number of images imported: 1000, Time elapsed: 3.46\n",
      "Number of images imported: 2000, Time elapsed: 6.99\n",
      "Number of images imported: 3000, Time elapsed: 10.51\n",
      "loading train set with size 5000\n",
      "Number of images imported: 1000, Time elapsed: 3.44\n",
      "Number of images imported: 2000, Time elapsed: 6.87\n",
      "Number of images imported: 3000, Time elapsed: 10.31\n",
      "Number of images imported: 4000, Time elapsed: 13.80\n",
      "Number of images imported: 5000, Time elapsed: 17.35\n",
      "loading train set with size 7000\n",
      "Number of images imported: 1000, Time elapsed: 3.45\n",
      "Number of images imported: 2000, Time elapsed: 6.88\n",
      "Number of images imported: 3000, Time elapsed: 10.30\n",
      "Number of images imported: 4000, Time elapsed: 13.74\n",
      "Number of images imported: 5000, Time elapsed: 17.18\n",
      "Number of images imported: 6000, Time elapsed: 20.69\n",
      "Number of images imported: 7000, Time elapsed: 24.25\n",
      "loading train set with size 9000\n",
      "Number of images imported: 1000, Time elapsed: 3.63\n",
      "Number of images imported: 2000, Time elapsed: 7.28\n",
      "Number of images imported: 3000, Time elapsed: 10.85\n",
      "Number of images imported: 4000, Time elapsed: 14.41\n",
      "Number of images imported: 5000, Time elapsed: 17.95\n",
      "Number of images imported: 6000, Time elapsed: 21.47\n",
      "Number of images imported: 7000, Time elapsed: 25.03\n",
      "Number of images imported: 8000, Time elapsed: 28.57\n",
      "Number of images imported: 9000, Time elapsed: 32.17\n",
      "loading train set with size 11000\n",
      "Number of images imported: 1000, Time elapsed: 3.53\n",
      "Number of images imported: 2000, Time elapsed: 7.05\n",
      "Number of images imported: 3000, Time elapsed: 10.57\n",
      "Number of images imported: 4000, Time elapsed: 14.09\n",
      "Number of images imported: 5000, Time elapsed: 17.66\n",
      "Number of images imported: 6000, Time elapsed: 21.25\n",
      "Number of images imported: 7000, Time elapsed: 24.86\n",
      "Number of images imported: 8000, Time elapsed: 28.40\n",
      "Number of images imported: 9000, Time elapsed: 31.92\n",
      "Number of images imported: 10000, Time elapsed: 35.53\n",
      "Number of images imported: 11000, Time elapsed: 39.13\n",
      "loading train set with size 13000\n",
      "Number of images imported: 1000, Time elapsed: 3.55\n",
      "Number of images imported: 2000, Time elapsed: 7.13\n",
      "Number of images imported: 3000, Time elapsed: 10.66\n",
      "Number of images imported: 4000, Time elapsed: 14.19\n",
      "Number of images imported: 5000, Time elapsed: 17.80\n",
      "Number of images imported: 6000, Time elapsed: 21.46\n",
      "Number of images imported: 7000, Time elapsed: 25.01\n",
      "Number of images imported: 8000, Time elapsed: 28.55\n",
      "Number of images imported: 9000, Time elapsed: 32.11\n",
      "Number of images imported: 10000, Time elapsed: 35.72\n",
      "Number of images imported: 11000, Time elapsed: 39.31\n",
      "Number of images imported: 12000, Time elapsed: 42.93\n",
      "Number of images imported: 13000, Time elapsed: 46.52\n",
      "loading train set with size 15000\n",
      "Number of images imported: 1000, Time elapsed: 3.56\n",
      "Number of images imported: 2000, Time elapsed: 7.15\n",
      "Number of images imported: 3000, Time elapsed: 10.78\n",
      "Number of images imported: 4000, Time elapsed: 14.36\n",
      "Number of images imported: 5000, Time elapsed: 17.92\n",
      "Number of images imported: 6000, Time elapsed: 21.49\n",
      "Number of images imported: 7000, Time elapsed: 25.08\n",
      "Number of images imported: 8000, Time elapsed: 28.65\n",
      "Number of images imported: 9000, Time elapsed: 32.25\n",
      "Number of images imported: 10000, Time elapsed: 35.83\n",
      "Number of images imported: 11000, Time elapsed: 39.48\n",
      "Number of images imported: 12000, Time elapsed: 43.07\n",
      "Number of images imported: 13000, Time elapsed: 46.66\n",
      "Number of images imported: 14000, Time elapsed: 50.26\n",
      "Number of images imported: 15000, Time elapsed: 54.04\n"
     ]
    }
   ],
   "source": [
    "## test set remains the same on the last 5,000 images\n",
    "#  only change train set sample size\n",
    "pixels = 112\n",
    "res = [pixels, pixels]\n",
    "grey = False\n",
    "\n",
    "test_img = all_img[15000:]\n",
    "test_label = attribute['Male'][15000:]\n",
    "test_label = np.array(test_label).reshape(-1)\n",
    "print(\"test set length: \", len(test_img))\n",
    "print(f\"loading test set\")\n",
    "test_img_arr = image_loader_fname(test_img, res, grey)\n",
    "\n",
    "\n",
    "sample_sizes = [1000, 3000, 5000, 7000, 9000, 11000, 13000, 15000]\n",
    "train_sets = []\n",
    "for sample_size in sample_sizes:\n",
    "    train_img = all_img[:sample_size]\n",
    "    train_label = attribute['Male'][:sample_size]\n",
    "    train_label = np.array(train_label).reshape(-1)\n",
    "    print(f\"loading train set with size {len(train_img)}\")\n",
    "    train_sets.append((image_loader_fname(train_img, res, grey), train_label))\n"
   ]
  },
  {
   "cell_type": "code",
   "execution_count": 34,
   "metadata": {
    "collapsed": true,
    "jupyter": {
     "outputs_hidden": true
    },
    "tags": []
   },
   "outputs": [
    {
     "name": "stdout",
     "output_type": "stream",
     "text": [
      "start model training with the train set of size 1000\n",
      "Epoch 0: 4.35 seconds, Loss: 20.05, Test Accuracy: 0.580\n",
      "Epoch 1: 1.01 seconds, Loss: 16.62, Test Accuracy: 0.592\n",
      "Epoch 2: 1.01 seconds, Loss: 15.31, Test Accuracy: 0.602\n",
      "Epoch 3: 1.01 seconds, Loss: 14.28, Test Accuracy: 0.610\n",
      "Epoch 4: 1.00 seconds, Loss: 13.37, Test Accuracy: 0.620\n",
      "Epoch 5: 1.00 seconds, Loss: 12.74, Test Accuracy: 0.624\n",
      "Epoch 6: 1.00 seconds, Loss: 12.50, Test Accuracy: 0.625\n",
      "Epoch 7: 1.00 seconds, Loss: 11.86, Test Accuracy: 0.631\n",
      "Epoch 8: 1.00 seconds, Loss: 11.21, Test Accuracy: 0.635\n",
      "Epoch 9: 1.00 seconds, Loss: 11.15, Test Accuracy: 0.638\n",
      "Epoch 10: 1.00 seconds, Loss: 10.56, Test Accuracy: 0.643\n",
      "Epoch 11: 1.00 seconds, Loss: 10.43, Test Accuracy: 0.647\n",
      "Epoch 12: 1.00 seconds, Loss: 10.05, Test Accuracy: 0.650\n",
      "Epoch 13: 1.00 seconds, Loss: 9.51, Test Accuracy: 0.652\n",
      "Epoch 14: 1.00 seconds, Loss: 9.46, Test Accuracy: 0.654\n",
      "Epoch 15: 1.00 seconds, Loss: 9.08, Test Accuracy: 0.658\n",
      "Epoch 16: 1.00 seconds, Loss: 8.93, Test Accuracy: 0.661\n",
      "Epoch 17: 1.00 seconds, Loss: 8.84, Test Accuracy: 0.663\n",
      "Epoch 18: 1.00 seconds, Loss: 8.43, Test Accuracy: 0.665\n",
      "Epoch 19: 1.00 seconds, Loss: 8.19, Test Accuracy: 0.668\n",
      "start model training with the train set of size 3000\n",
      "Epoch 0: 4.42 seconds, Loss: 16.99, Test Accuracy: 0.589\n",
      "Epoch 1: 2.93 seconds, Loss: 13.67, Test Accuracy: 0.613\n",
      "Epoch 2: 2.93 seconds, Loss: 12.17, Test Accuracy: 0.625\n",
      "Epoch 3: 2.94 seconds, Loss: 11.02, Test Accuracy: 0.636\n",
      "Epoch 4: 2.93 seconds, Loss: 10.07, Test Accuracy: 0.644\n",
      "Epoch 5: 2.93 seconds, Loss: 9.48, Test Accuracy: 0.653\n",
      "Epoch 6: 2.93 seconds, Loss: 8.82, Test Accuracy: 0.659\n",
      "Epoch 7: 2.94 seconds, Loss: 8.38, Test Accuracy: 0.665\n",
      "Epoch 8: 2.94 seconds, Loss: 7.98, Test Accuracy: 0.671\n",
      "Epoch 9: 2.93 seconds, Loss: 7.63, Test Accuracy: 0.677\n",
      "Epoch 10: 2.96 seconds, Loss: 7.31, Test Accuracy: 0.683\n",
      "Epoch 11: 2.94 seconds, Loss: 7.05, Test Accuracy: 0.685\n",
      "Epoch 12: 2.96 seconds, Loss: 6.79, Test Accuracy: 0.688\n",
      "Epoch 13: 2.93 seconds, Loss: 6.48, Test Accuracy: 0.693\n",
      "Epoch 14: 2.97 seconds, Loss: 6.30, Test Accuracy: 0.697\n",
      "Epoch 15: 2.97 seconds, Loss: 6.11, Test Accuracy: 0.700\n",
      "Epoch 16: 2.96 seconds, Loss: 5.95, Test Accuracy: 0.704\n",
      "Epoch 17: 2.94 seconds, Loss: 5.76, Test Accuracy: 0.708\n",
      "Epoch 18: 2.94 seconds, Loss: 5.66, Test Accuracy: 0.712\n",
      "Epoch 19: 2.94 seconds, Loss: 5.53, Test Accuracy: 0.714\n",
      "start model training with the train set of size 5000\n",
      "Epoch 0: 7.45 seconds, Loss: 16.19, Test Accuracy: 0.598\n",
      "Epoch 1: 4.95 seconds, Loss: 12.60, Test Accuracy: 0.626\n",
      "Epoch 2: 4.96 seconds, Loss: 11.00, Test Accuracy: 0.642\n",
      "Epoch 3: 4.91 seconds, Loss: 9.80, Test Accuracy: 0.656\n",
      "Epoch 4: 5.11 seconds, Loss: 9.00, Test Accuracy: 0.668\n",
      "Epoch 5: 5.13 seconds, Loss: 8.29, Test Accuracy: 0.679\n",
      "Epoch 6: 4.97 seconds, Loss: 7.74, Test Accuracy: 0.687\n",
      "Epoch 7: 5.16 seconds, Loss: 7.37, Test Accuracy: 0.692\n",
      "Epoch 8: 5.21 seconds, Loss: 6.96, Test Accuracy: 0.701\n",
      "Epoch 9: 5.11 seconds, Loss: 6.68, Test Accuracy: 0.707\n",
      "Epoch 10: 4.95 seconds, Loss: 6.36, Test Accuracy: 0.714\n",
      "Epoch 11: 4.90 seconds, Loss: 6.08, Test Accuracy: 0.718\n",
      "Epoch 12: 4.97 seconds, Loss: 5.82, Test Accuracy: 0.725\n",
      "Epoch 13: 4.99 seconds, Loss: 5.67, Test Accuracy: 0.727\n",
      "Epoch 14: 5.17 seconds, Loss: 5.50, Test Accuracy: 0.732\n",
      "Epoch 15: 4.96 seconds, Loss: 5.30, Test Accuracy: 0.736\n",
      "Epoch 16: 4.98 seconds, Loss: 5.15, Test Accuracy: 0.740\n",
      "Epoch 17: 5.09 seconds, Loss: 5.04, Test Accuracy: 0.742\n",
      "Epoch 18: 5.05 seconds, Loss: 4.88, Test Accuracy: 0.746\n",
      "Epoch 19: 4.94 seconds, Loss: 4.77, Test Accuracy: 0.749\n",
      "start model training with the train set of size 7000\n",
      "Epoch 0: 10.11 seconds, Loss: 15.38, Test Accuracy: 0.602\n",
      "Epoch 1: 7.24 seconds, Loss: 11.52, Test Accuracy: 0.633\n",
      "Epoch 2: 6.85 seconds, Loss: 9.87, Test Accuracy: 0.653\n",
      "Epoch 3: 7.01 seconds, Loss: 8.82, Test Accuracy: 0.668\n",
      "Epoch 4: 6.99 seconds, Loss: 7.96, Test Accuracy: 0.681\n",
      "Epoch 5: 7.29 seconds, Loss: 7.30, Test Accuracy: 0.692\n",
      "Epoch 6: 7.07 seconds, Loss: 6.80, Test Accuracy: 0.702\n",
      "Epoch 7: 6.98 seconds, Loss: 6.43, Test Accuracy: 0.712\n",
      "Epoch 8: 7.70 seconds, Loss: 6.08, Test Accuracy: 0.721\n",
      "Epoch 9: 7.86 seconds, Loss: 5.81, Test Accuracy: 0.728\n",
      "Epoch 10: 7.52 seconds, Loss: 5.54, Test Accuracy: 0.731\n",
      "Epoch 11: 7.65 seconds, Loss: 5.28, Test Accuracy: 0.737\n",
      "Epoch 12: 8.01 seconds, Loss: 5.13, Test Accuracy: 0.742\n",
      "Epoch 13: 8.08 seconds, Loss: 4.89, Test Accuracy: 0.746\n",
      "Epoch 14: 7.98 seconds, Loss: 4.80, Test Accuracy: 0.750\n",
      "Epoch 15: 7.24 seconds, Loss: 4.64, Test Accuracy: 0.753\n",
      "Epoch 16: 7.45 seconds, Loss: 4.44, Test Accuracy: 0.757\n",
      "Epoch 17: 7.06 seconds, Loss: 4.34, Test Accuracy: 0.761\n",
      "Epoch 18: 7.21 seconds, Loss: 4.22, Test Accuracy: 0.764\n",
      "Epoch 19: 7.36 seconds, Loss: 4.08, Test Accuracy: 0.767\n",
      "start model training with the train set of size 9000\n",
      "Epoch 0: 13.58 seconds, Loss: 14.56, Test Accuracy: 0.607\n",
      "Epoch 1: 10.29 seconds, Loss: 10.76, Test Accuracy: 0.642\n",
      "Epoch 2: 10.15 seconds, Loss: 9.08, Test Accuracy: 0.664\n",
      "Epoch 3: 9.36 seconds, Loss: 7.97, Test Accuracy: 0.680\n",
      "Epoch 4: 9.21 seconds, Loss: 7.24, Test Accuracy: 0.695\n",
      "Epoch 5: 9.52 seconds, Loss: 6.63, Test Accuracy: 0.708\n",
      "Epoch 6: 9.60 seconds, Loss: 6.24, Test Accuracy: 0.719\n",
      "Epoch 7: 9.23 seconds, Loss: 5.86, Test Accuracy: 0.727\n",
      "Epoch 8: 9.15 seconds, Loss: 5.52, Test Accuracy: 0.733\n",
      "Epoch 9: 9.66 seconds, Loss: 5.30, Test Accuracy: 0.741\n",
      "Epoch 10: 9.20 seconds, Loss: 5.08, Test Accuracy: 0.746\n",
      "Epoch 11: 9.91 seconds, Loss: 4.86, Test Accuracy: 0.751\n",
      "Epoch 12: 10.14 seconds, Loss: 4.65, Test Accuracy: 0.756\n",
      "Epoch 13: 9.78 seconds, Loss: 4.44, Test Accuracy: 0.761\n",
      "Epoch 14: 10.55 seconds, Loss: 4.37, Test Accuracy: 0.764\n",
      "Epoch 15: 9.95 seconds, Loss: 4.19, Test Accuracy: 0.768\n",
      "Epoch 16: 10.41 seconds, Loss: 4.05, Test Accuracy: 0.771\n",
      "Epoch 17: 10.13 seconds, Loss: 3.92, Test Accuracy: 0.775\n",
      "Epoch 18: 9.88 seconds, Loss: 3.83, Test Accuracy: 0.777\n",
      "Epoch 19: 10.12 seconds, Loss: 3.70, Test Accuracy: 0.781\n",
      "start model training with the train set of size 11000\n",
      "Epoch 0: 17.45 seconds, Loss: 14.04, Test Accuracy: 0.615\n",
      "Epoch 1: 12.67 seconds, Loss: 10.07, Test Accuracy: 0.651\n",
      "Epoch 2: 12.53 seconds, Loss: 8.46, Test Accuracy: 0.676\n",
      "Epoch 3: 12.52 seconds, Loss: 7.40, Test Accuracy: 0.694\n",
      "Epoch 4: 11.79 seconds, Loss: 6.71, Test Accuracy: 0.709\n",
      "Epoch 5: 11.57 seconds, Loss: 6.18, Test Accuracy: 0.722\n",
      "Epoch 6: 11.56 seconds, Loss: 5.78, Test Accuracy: 0.730\n",
      "Epoch 7: 12.79 seconds, Loss: 5.41, Test Accuracy: 0.739\n",
      "Epoch 8: 12.94 seconds, Loss: 5.13, Test Accuracy: 0.747\n",
      "Epoch 9: 12.65 seconds, Loss: 4.91, Test Accuracy: 0.753\n",
      "Epoch 10: 12.48 seconds, Loss: 4.69, Test Accuracy: 0.759\n",
      "Epoch 11: 12.02 seconds, Loss: 4.48, Test Accuracy: 0.764\n",
      "Epoch 12: 12.48 seconds, Loss: 4.29, Test Accuracy: 0.769\n",
      "Epoch 13: 11.96 seconds, Loss: 4.13, Test Accuracy: 0.773\n",
      "Epoch 14: 11.43 seconds, Loss: 3.99, Test Accuracy: 0.777\n",
      "Epoch 15: 11.37 seconds, Loss: 3.84, Test Accuracy: 0.781\n",
      "Epoch 16: 12.60 seconds, Loss: 3.74, Test Accuracy: 0.785\n",
      "Epoch 17: 12.26 seconds, Loss: 3.61, Test Accuracy: 0.788\n",
      "Epoch 18: 12.24 seconds, Loss: 3.50, Test Accuracy: 0.791\n",
      "Epoch 19: 12.33 seconds, Loss: 3.44, Test Accuracy: 0.794\n",
      "start model training with the train set of size 13000\n",
      "Epoch 0: 17.54 seconds, Loss: 13.60, Test Accuracy: 0.617\n",
      "Epoch 1: 13.63 seconds, Loss: 9.62, Test Accuracy: 0.660\n",
      "Epoch 2: 13.49 seconds, Loss: 7.96, Test Accuracy: 0.686\n",
      "Epoch 3: 13.03 seconds, Loss: 6.95, Test Accuracy: 0.704\n",
      "Epoch 4: 12.71 seconds, Loss: 6.30, Test Accuracy: 0.720\n",
      "Epoch 5: 12.68 seconds, Loss: 5.79, Test Accuracy: 0.731\n",
      "Epoch 6: 12.85 seconds, Loss: 5.37, Test Accuracy: 0.741\n",
      "Epoch 7: 12.75 seconds, Loss: 5.04, Test Accuracy: 0.748\n",
      "Epoch 8: 12.67 seconds, Loss: 4.78, Test Accuracy: 0.755\n",
      "Epoch 9: 12.70 seconds, Loss: 4.58, Test Accuracy: 0.762\n",
      "Epoch 10: 12.86 seconds, Loss: 4.31, Test Accuracy: 0.768\n",
      "Epoch 11: 12.73 seconds, Loss: 4.15, Test Accuracy: 0.773\n",
      "Epoch 12: 12.72 seconds, Loss: 4.00, Test Accuracy: 0.778\n",
      "Epoch 13: 12.78 seconds, Loss: 3.83, Test Accuracy: 0.783\n",
      "Epoch 14: 12.72 seconds, Loss: 3.69, Test Accuracy: 0.787\n",
      "Epoch 15: 12.71 seconds, Loss: 3.55, Test Accuracy: 0.791\n",
      "Epoch 16: 12.70 seconds, Loss: 3.47, Test Accuracy: 0.793\n",
      "Epoch 17: 12.70 seconds, Loss: 3.35, Test Accuracy: 0.798\n",
      "Epoch 18: 12.71 seconds, Loss: 3.24, Test Accuracy: 0.801\n",
      "Epoch 19: 12.71 seconds, Loss: 3.16, Test Accuracy: 0.804\n",
      "start model training with the train set of size 15000\n",
      "Epoch 0: 18.19 seconds, Loss: 13.39, Test Accuracy: 0.620\n",
      "Epoch 1: 14.62 seconds, Loss: 9.20, Test Accuracy: 0.666\n",
      "Epoch 2: 14.63 seconds, Loss: 7.61, Test Accuracy: 0.693\n",
      "Epoch 3: 14.62 seconds, Loss: 6.64, Test Accuracy: 0.714\n",
      "Epoch 4: 14.64 seconds, Loss: 6.00, Test Accuracy: 0.727\n",
      "Epoch 5: 14.63 seconds, Loss: 5.49, Test Accuracy: 0.738\n",
      "Epoch 6: 14.63 seconds, Loss: 5.10, Test Accuracy: 0.748\n",
      "Epoch 7: 14.63 seconds, Loss: 4.82, Test Accuracy: 0.757\n",
      "Epoch 8: 14.64 seconds, Loss: 4.54, Test Accuracy: 0.765\n",
      "Epoch 9: 14.63 seconds, Loss: 4.31, Test Accuracy: 0.771\n",
      "Epoch 10: 14.60 seconds, Loss: 4.08, Test Accuracy: 0.776\n",
      "Epoch 11: 14.63 seconds, Loss: 3.91, Test Accuracy: 0.782\n",
      "Epoch 12: 14.63 seconds, Loss: 3.75, Test Accuracy: 0.787\n",
      "Epoch 13: 14.59 seconds, Loss: 3.60, Test Accuracy: 0.792\n",
      "Epoch 14: 14.65 seconds, Loss: 3.48, Test Accuracy: 0.795\n",
      "Epoch 15: 14.64 seconds, Loss: 3.33, Test Accuracy: 0.800\n",
      "Epoch 16: 14.65 seconds, Loss: 3.24, Test Accuracy: 0.803\n",
      "Epoch 17: 14.63 seconds, Loss: 3.14, Test Accuracy: 0.807\n",
      "Epoch 18: 14.63 seconds, Loss: 3.04, Test Accuracy: 0.809\n",
      "Epoch 19: 14.62 seconds, Loss: 2.97, Test Accuracy: 0.813\n"
     ]
    }
   ],
   "source": [
    "# initialize beta at random\n",
    "np.random.seed(42)\n",
    "beta_standard_dev = 1. / np.sqrt(3) / pixels\n",
    "beta_init = np.random.normal(0,beta_standard_dev,3*pixels*pixels)\n",
    "\n",
    "beta_records_train_size = []\n",
    "it = 0\n",
    "for train_set in train_sets:\n",
    "    train_img_arr, train_label = train_set\n",
    "    print(f\"start model training with the train set of size {len(train_img_arr)}\")\n",
    "    beta_SGD, record_SGD = train_SGD(\n",
    "    train_img_arr, train_label, test_img_arr, test_label, beta_init, 1e-7, loss_LR_values_and_grad, n_epoch = 20, mb_size = 32, verbose = 1)\n",
    "    record_SGD['name'] += f\"_train_size_{len(train_label)}\"\n",
    "    beta_records_train_size.append((beta_SGD, record_SGD))\n",
    "    \n",
    "    train_sets[it] = 0\n",
    "    del train_img_arr, train_label\n",
    "    it += 1"
   ]
  },
  {
   "cell_type": "code",
   "execution_count": 42,
   "metadata": {},
   "outputs": [],
   "source": [
    "# del train_sets"
   ]
  },
  {
   "cell_type": "code",
   "execution_count": 100,
   "metadata": {},
   "outputs": [
    {
     "data": {
      "image/png": "[encoded data removed]",
      "text/plain": [
       "<Figure size 1152x720 with 1 Axes>"
      ]
     },
     "metadata": {
      "needs_background": "light"
     },
     "output_type": "display_data"
    }
   ],
   "source": [
    "record_list_train_size = [beta_record[1] for beta_record in beta_records_train_size]\n",
    "record_graph(record_list_train_size, 'test_acc_epoch', 'Relationship Between Test Accuracy and the Size of Training Set')"
   ]
  },
  {
   "cell_type": "markdown",
   "metadata": {},
   "source": [
    "## 2. Study the relationship between test accuracy and resolution of the input image"
   ]
  },
  {
   "cell_type": "code",
   "execution_count": 26,
   "metadata": {
    "collapsed": true,
    "jupyter": {
     "outputs_hidden": true
    },
    "tags": []
   },
   "outputs": [
    {
     "name": "stdout",
     "output_type": "stream",
     "text": [
      "loading train set and test set with resolution 14 x 14\n",
      "Number of images imported: 1000, Time elapsed: 4.15\n",
      "Number of images imported: 2000, Time elapsed: 8.20\n",
      "Number of images imported: 3000, Time elapsed: 12.34\n",
      "Number of images imported: 4000, Time elapsed: 16.40\n",
      "Number of images imported: 5000, Time elapsed: 20.54\n",
      "Number of images imported: 6000, Time elapsed: 24.61\n",
      "Number of images imported: 7000, Time elapsed: 28.68\n",
      "Number of images imported: 8000, Time elapsed: 32.75\n",
      "Number of images imported: 9000, Time elapsed: 36.83\n",
      "Number of images imported: 10000, Time elapsed: 40.92\n",
      "Number of images imported: 11000, Time elapsed: 45.06\n",
      "Number of images imported: 12000, Time elapsed: 49.12\n",
      "Number of images imported: 13000, Time elapsed: 53.19\n",
      "Number of images imported: 14000, Time elapsed: 57.26\n",
      "Number of images imported: 15000, Time elapsed: 61.34\n",
      "Number of images imported: 1000, Time elapsed: 4.07\n",
      "Number of images imported: 2000, Time elapsed: 8.15\n",
      "Number of images imported: 3000, Time elapsed: 12.23\n",
      "Number of images imported: 4000, Time elapsed: 16.32\n",
      "Number of images imported: 5000, Time elapsed: 20.39\n",
      "loading train set and test set with resolution 28 x 28\n",
      "Number of images imported: 1000, Time elapsed: 2.60\n",
      "Number of images imported: 2000, Time elapsed: 5.22\n",
      "Number of images imported: 3000, Time elapsed: 7.84\n",
      "Number of images imported: 4000, Time elapsed: 10.44\n",
      "Number of images imported: 5000, Time elapsed: 13.05\n",
      "Number of images imported: 6000, Time elapsed: 15.65\n",
      "Number of images imported: 7000, Time elapsed: 18.27\n",
      "Number of images imported: 8000, Time elapsed: 20.90\n",
      "Number of images imported: 9000, Time elapsed: 23.50\n",
      "Number of images imported: 10000, Time elapsed: 26.10\n",
      "Number of images imported: 11000, Time elapsed: 28.72\n",
      "Number of images imported: 12000, Time elapsed: 31.32\n",
      "Number of images imported: 13000, Time elapsed: 33.92\n",
      "Number of images imported: 14000, Time elapsed: 36.53\n",
      "Number of images imported: 15000, Time elapsed: 39.14\n",
      "Number of images imported: 1000, Time elapsed: 2.60\n",
      "Number of images imported: 2000, Time elapsed: 5.21\n",
      "Number of images imported: 3000, Time elapsed: 7.82\n",
      "Number of images imported: 4000, Time elapsed: 10.45\n",
      "Number of images imported: 5000, Time elapsed: 13.06\n",
      "loading train set and test set with resolution 56 x 56\n",
      "Number of images imported: 1000, Time elapsed: 2.30\n",
      "Number of images imported: 2000, Time elapsed: 4.58\n",
      "Number of images imported: 3000, Time elapsed: 6.87\n",
      "Number of images imported: 4000, Time elapsed: 9.15\n",
      "Number of images imported: 5000, Time elapsed: 11.43\n",
      "Number of images imported: 6000, Time elapsed: 13.73\n",
      "Number of images imported: 7000, Time elapsed: 16.01\n",
      "Number of images imported: 8000, Time elapsed: 18.30\n",
      "Number of images imported: 9000, Time elapsed: 20.60\n",
      "Number of images imported: 10000, Time elapsed: 22.88\n",
      "Number of images imported: 11000, Time elapsed: 25.17\n",
      "Number of images imported: 12000, Time elapsed: 27.45\n",
      "Number of images imported: 13000, Time elapsed: 29.74\n",
      "Number of images imported: 14000, Time elapsed: 32.03\n",
      "Number of images imported: 15000, Time elapsed: 34.32\n",
      "Number of images imported: 1000, Time elapsed: 2.29\n",
      "Number of images imported: 2000, Time elapsed: 4.58\n",
      "Number of images imported: 3000, Time elapsed: 6.86\n",
      "Number of images imported: 4000, Time elapsed: 9.16\n",
      "Number of images imported: 5000, Time elapsed: 11.45\n",
      "loading train set and test set with resolution 112 x 112\n",
      "Number of images imported: 1000, Time elapsed: 3.58\n",
      "Number of images imported: 2000, Time elapsed: 7.16\n",
      "Number of images imported: 3000, Time elapsed: 10.71\n",
      "Number of images imported: 4000, Time elapsed: 14.29\n",
      "Number of images imported: 5000, Time elapsed: 17.87\n",
      "Number of images imported: 6000, Time elapsed: 21.44\n",
      "Number of images imported: 7000, Time elapsed: 25.03\n",
      "Number of images imported: 8000, Time elapsed: 28.62\n",
      "Number of images imported: 9000, Time elapsed: 32.24\n",
      "Number of images imported: 10000, Time elapsed: 35.84\n",
      "Number of images imported: 11000, Time elapsed: 39.42\n",
      "Number of images imported: 12000, Time elapsed: 43.06\n",
      "Number of images imported: 13000, Time elapsed: 46.70\n",
      "Number of images imported: 14000, Time elapsed: 50.35\n",
      "Number of images imported: 15000, Time elapsed: 54.09\n",
      "Number of images imported: 1000, Time elapsed: 3.73\n",
      "Number of images imported: 2000, Time elapsed: 7.41\n",
      "Number of images imported: 3000, Time elapsed: 11.05\n",
      "Number of images imported: 4000, Time elapsed: 14.74\n",
      "Number of images imported: 5000, Time elapsed: 18.41\n"
     ]
    }
   ],
   "source": [
    "import gc\n",
    "## How does the accuracy depend on the resolution of the input image?\n",
    "\n",
    "pixels = [14, 28, 56, 112]\n",
    "grey = False\n",
    "\n",
    "train_img = all_img[:15000]\n",
    "train_label = attribute['Male'][:15000]\n",
    "train_label = np.array(train_label).reshape(-1)\n",
    "\n",
    "test_img = all_img[15000:]\n",
    "test_label = attribute['Male'][15000:]\n",
    "test_label = np.array(test_label).reshape(-1)\n",
    "\n",
    "train_sets = []\n",
    "test_sets = []\n",
    "for pixel in pixels:\n",
    "    res = [pixel, pixel]\n",
    "    print(f\"loading train set and test set with resolution {pixel} x {pixel}\")\n",
    "    train_sets.append((image_loader_fname(train_img, res, grey), train_label))\n",
    "    test_sets.append((image_loader_fname(test_img, res, grey), test_label))"
   ]
  },
  {
   "cell_type": "code",
   "execution_count": 27,
   "metadata": {
    "collapsed": true,
    "jupyter": {
     "outputs_hidden": true
    },
    "tags": []
   },
   "outputs": [
    {
     "name": "stdout",
     "output_type": "stream",
     "text": [
      "start model training with the train set of resolution 14 x 14\n",
      "Epoch 0: 0.91 seconds, Loss: 18.28, Test Accuracy: 0.516\n",
      "Epoch 1: 0.56 seconds, Loss: 17.19, Test Accuracy: 0.517\n",
      "Epoch 2: 0.56 seconds, Loss: 16.30, Test Accuracy: 0.518\n",
      "Epoch 3: 0.56 seconds, Loss: 15.53, Test Accuracy: 0.520\n",
      "Epoch 4: 0.56 seconds, Loss: 14.88, Test Accuracy: 0.523\n",
      "Epoch 5: 0.56 seconds, Loss: 14.30, Test Accuracy: 0.525\n",
      "Epoch 6: 0.56 seconds, Loss: 13.79, Test Accuracy: 0.528\n",
      "Epoch 7: 0.59 seconds, Loss: 13.35, Test Accuracy: 0.531\n",
      "Epoch 8: 0.64 seconds, Loss: 12.94, Test Accuracy: 0.534\n",
      "Epoch 9: 0.59 seconds, Loss: 12.56, Test Accuracy: 0.538\n",
      "Epoch 10: 0.66 seconds, Loss: 12.20, Test Accuracy: 0.541\n",
      "Epoch 11: 0.63 seconds, Loss: 11.87, Test Accuracy: 0.545\n",
      "Epoch 12: 0.67 seconds, Loss: 11.57, Test Accuracy: 0.548\n",
      "Epoch 13: 0.59 seconds, Loss: 11.28, Test Accuracy: 0.549\n",
      "Epoch 14: 0.58 seconds, Loss: 11.01, Test Accuracy: 0.550\n",
      "Epoch 15: 0.57 seconds, Loss: 10.76, Test Accuracy: 0.554\n",
      "Epoch 16: 0.57 seconds, Loss: 10.52, Test Accuracy: 0.556\n",
      "Epoch 17: 0.64 seconds, Loss: 10.30, Test Accuracy: 0.561\n",
      "Epoch 18: 0.60 seconds, Loss: 10.09, Test Accuracy: 0.565\n",
      "Epoch 19: 0.63 seconds, Loss: 9.88, Test Accuracy: 0.567\n",
      "start model training with the train set of resolution 28 x 28\n",
      "Epoch 0: 1.82 seconds, Loss: 36.33, Test Accuracy: 0.516\n",
      "Epoch 1: 1.53 seconds, Loss: 14.42, Test Accuracy: 0.579\n",
      "Epoch 2: 1.52 seconds, Loss: 12.26, Test Accuracy: 0.595\n",
      "Epoch 3: 1.52 seconds, Loss: 11.34, Test Accuracy: 0.602\n",
      "Epoch 4: 1.53 seconds, Loss: 10.77, Test Accuracy: 0.607\n",
      "Epoch 5: 1.53 seconds, Loss: 10.32, Test Accuracy: 0.612\n",
      "Epoch 6: 1.52 seconds, Loss: 9.97, Test Accuracy: 0.618\n",
      "Epoch 7: 1.52 seconds, Loss: 9.66, Test Accuracy: 0.622\n",
      "Epoch 8: 1.53 seconds, Loss: 9.40, Test Accuracy: 0.626\n",
      "Epoch 9: 1.53 seconds, Loss: 9.16, Test Accuracy: 0.630\n",
      "Epoch 10: 1.53 seconds, Loss: 8.93, Test Accuracy: 0.634\n",
      "Epoch 11: 1.53 seconds, Loss: 8.72, Test Accuracy: 0.638\n",
      "Epoch 12: 1.53 seconds, Loss: 8.53, Test Accuracy: 0.640\n",
      "Epoch 13: 1.53 seconds, Loss: 8.34, Test Accuracy: 0.644\n",
      "Epoch 14: 1.53 seconds, Loss: 8.17, Test Accuracy: 0.646\n",
      "Epoch 15: 1.53 seconds, Loss: 8.01, Test Accuracy: 0.648\n",
      "Epoch 16: 1.53 seconds, Loss: 7.86, Test Accuracy: 0.650\n",
      "Epoch 17: 1.53 seconds, Loss: 7.71, Test Accuracy: 0.652\n",
      "Epoch 18: 1.54 seconds, Loss: 7.57, Test Accuracy: 0.655\n",
      "Epoch 19: 1.53 seconds, Loss: 7.42, Test Accuracy: 0.657\n",
      "start model training with the train set of resolution 56 x 56\n",
      "Epoch 0: 5.00 seconds, Loss: 19.16, Test Accuracy: 0.513\n",
      "Epoch 1: 4.21 seconds, Loss: 12.90, Test Accuracy: 0.571\n",
      "Epoch 2: 4.18 seconds, Loss: 10.63, Test Accuracy: 0.606\n",
      "Epoch 3: 4.18 seconds, Loss: 9.49, Test Accuracy: 0.624\n",
      "Epoch 4: 4.20 seconds, Loss: 8.75, Test Accuracy: 0.637\n",
      "Epoch 5: 4.20 seconds, Loss: 8.18, Test Accuracy: 0.647\n",
      "Epoch 6: 4.18 seconds, Loss: 7.76, Test Accuracy: 0.655\n",
      "Epoch 7: 4.18 seconds, Loss: 7.38, Test Accuracy: 0.661\n",
      "Epoch 8: 4.20 seconds, Loss: 7.05, Test Accuracy: 0.668\n",
      "Epoch 9: 4.19 seconds, Loss: 6.77, Test Accuracy: 0.673\n",
      "Epoch 10: 4.20 seconds, Loss: 6.52, Test Accuracy: 0.677\n",
      "Epoch 11: 4.20 seconds, Loss: 6.29, Test Accuracy: 0.682\n",
      "Epoch 12: 4.22 seconds, Loss: 6.08, Test Accuracy: 0.686\n",
      "Epoch 13: 4.20 seconds, Loss: 5.87, Test Accuracy: 0.690\n",
      "Epoch 14: 4.19 seconds, Loss: 5.70, Test Accuracy: 0.694\n",
      "Epoch 15: 4.21 seconds, Loss: 5.53, Test Accuracy: 0.698\n",
      "Epoch 16: 4.21 seconds, Loss: 5.38, Test Accuracy: 0.701\n",
      "Epoch 17: 4.20 seconds, Loss: 5.23, Test Accuracy: 0.705\n",
      "Epoch 18: 4.21 seconds, Loss: 5.11, Test Accuracy: 0.709\n",
      "Epoch 19: 4.22 seconds, Loss: 4.97, Test Accuracy: 0.712\n",
      "start model training with the train set of resolution 112 x 112\n",
      "Epoch 0: 16.93 seconds, Loss: 13.41, Test Accuracy: 0.620\n",
      "Epoch 1: 14.63 seconds, Loss: 9.20, Test Accuracy: 0.665\n",
      "Epoch 2: 14.61 seconds, Loss: 7.58, Test Accuracy: 0.694\n",
      "Epoch 3: 14.64 seconds, Loss: 6.66, Test Accuracy: 0.714\n",
      "Epoch 4: 14.61 seconds, Loss: 5.99, Test Accuracy: 0.729\n",
      "Epoch 5: 14.64 seconds, Loss: 5.51, Test Accuracy: 0.739\n",
      "Epoch 6: 14.64 seconds, Loss: 5.12, Test Accuracy: 0.749\n",
      "Epoch 7: 14.62 seconds, Loss: 4.83, Test Accuracy: 0.757\n",
      "Epoch 8: 14.59 seconds, Loss: 4.53, Test Accuracy: 0.765\n",
      "Epoch 9: 14.63 seconds, Loss: 4.28, Test Accuracy: 0.770\n",
      "Epoch 10: 14.62 seconds, Loss: 4.09, Test Accuracy: 0.777\n",
      "Epoch 11: 14.58 seconds, Loss: 3.90, Test Accuracy: 0.781\n",
      "Epoch 12: 14.63 seconds, Loss: 3.74, Test Accuracy: 0.786\n",
      "Epoch 13: 14.70 seconds, Loss: 3.60, Test Accuracy: 0.792\n",
      "Epoch 14: 14.62 seconds, Loss: 3.49, Test Accuracy: 0.795\n",
      "Epoch 15: 14.60 seconds, Loss: 3.36, Test Accuracy: 0.799\n",
      "Epoch 16: 14.64 seconds, Loss: 3.24, Test Accuracy: 0.802\n",
      "Epoch 17: 14.59 seconds, Loss: 3.16, Test Accuracy: 0.806\n",
      "Epoch 18: 14.63 seconds, Loss: 3.03, Test Accuracy: 0.809\n",
      "Epoch 19: 14.64 seconds, Loss: 2.96, Test Accuracy: 0.813\n"
     ]
    }
   ],
   "source": [
    "beta_records_pixel = []\n",
    "it = 0\n",
    "for pixel in pixels:\n",
    "    train_img_arr, train_label = train_sets[it]\n",
    "    test_img_arr, test_label = test_sets[it]\n",
    "    \n",
    "    np.random.seed(42)\n",
    "    beta_standard_dev = 1. / np.sqrt(3) / pixel\n",
    "    beta_init = np.random.normal(0,beta_standard_dev,3*pixel*pixel)\n",
    "\n",
    "    print(f\"start model training with the train set of resolution {pixel} x {pixel}\")\n",
    "    beta_SGD, record_SGD = train_SGD(\n",
    "    train_img_arr, train_label, test_img_arr, test_label, beta_init, 1e-7, loss_LR_values_and_grad, n_epoch = 20, mb_size = 32, verbose = 1)\n",
    "    record_SGD['name'] += f\"_res_{pixel}x{pixel}\"\n",
    "    beta_records_pixel.append((beta_SGD, record_SGD))\n",
    "    \n",
    "    train_sets[it], test_sets[it] = 0, 0\n",
    "    del train_img_arr, train_label, test_img_arr, test_label\n",
    "    it += 1"
   ]
  },
  {
   "cell_type": "code",
   "execution_count": 106,
   "metadata": {
    "jupyter": {
     "source_hidden": true
    },
    "tags": []
   },
   "outputs": [],
   "source": [
    "#del train_sets, test_sets\n",
    "def clear_image_cache(var_list):\n",
    "    for var in var_list:\n",
    "        if var in globals().keys():\n",
    "            del globals()[var]\n",
    "    gc.collect()\n",
    "    time.sleep(1)"
   ]
  },
  {
   "cell_type": "code",
   "execution_count": 28,
   "metadata": {},
   "outputs": [
    {
     "data": {
      "image/png": "[encoded data removed]",
      "text/plain": [
       "<Figure size 1152x720 with 1 Axes>"
      ]
     },
     "metadata": {
      "needs_background": "light"
     },
     "output_type": "display_data"
    }
   ],
   "source": [
    "record_list_pixel = [beta_record[1] for beta_record in beta_records_pixel]\n",
    "record_graph(record_list_pixel, 'test_acc_epoch', 'Relationship Between Test Accuracy and Resolution')"
   ]
  },
  {
   "cell_type": "markdown",
   "metadata": {},
   "source": [
    "## 3. Study the relationship between test accuracy and the use of grey scale/color images"
   ]
  },
  {
   "cell_type": "code",
   "execution_count": 24,
   "metadata": {
    "collapsed": true,
    "jupyter": {
     "outputs_hidden": true
    },
    "tags": []
   },
   "outputs": [
    {
     "name": "stdout",
     "output_type": "stream",
     "text": [
      "loading color\n",
      "Number of images imported: 1000, Time elapsed: 3.55\n",
      "Number of images imported: 2000, Time elapsed: 7.01\n",
      "Number of images imported: 3000, Time elapsed: 10.48\n",
      "Number of images imported: 4000, Time elapsed: 13.97\n",
      "Number of images imported: 5000, Time elapsed: 17.46\n",
      "Number of images imported: 6000, Time elapsed: 20.98\n",
      "Number of images imported: 7000, Time elapsed: 24.45\n",
      "Number of images imported: 8000, Time elapsed: 27.93\n",
      "Number of images imported: 9000, Time elapsed: 31.42\n",
      "Number of images imported: 10000, Time elapsed: 34.90\n",
      "Number of images imported: 11000, Time elapsed: 38.38\n",
      "Number of images imported: 12000, Time elapsed: 41.86\n",
      "Number of images imported: 13000, Time elapsed: 45.33\n",
      "Number of images imported: 14000, Time elapsed: 48.82\n",
      "Number of images imported: 15000, Time elapsed: 52.30\n",
      "Number of images imported: 1000, Time elapsed: 3.49\n",
      "Number of images imported: 2000, Time elapsed: 6.97\n",
      "Number of images imported: 3000, Time elapsed: 10.46\n",
      "Number of images imported: 4000, Time elapsed: 13.94\n",
      "Number of images imported: 5000, Time elapsed: 17.49\n",
      "loading grey scale\n",
      "Number of images imported: 1000, Time elapsed: 3.67\n",
      "Number of images imported: 2000, Time elapsed: 7.29\n",
      "Number of images imported: 3000, Time elapsed: 10.92\n",
      "Number of images imported: 4000, Time elapsed: 14.52\n",
      "Number of images imported: 5000, Time elapsed: 18.10\n",
      "Number of images imported: 6000, Time elapsed: 21.69\n",
      "Number of images imported: 7000, Time elapsed: 25.30\n",
      "Number of images imported: 8000, Time elapsed: 28.89\n",
      "Number of images imported: 9000, Time elapsed: 32.48\n",
      "Number of images imported: 10000, Time elapsed: 36.06\n",
      "Number of images imported: 11000, Time elapsed: 39.66\n",
      "Number of images imported: 12000, Time elapsed: 43.28\n",
      "Number of images imported: 13000, Time elapsed: 46.88\n",
      "Number of images imported: 14000, Time elapsed: 50.48\n",
      "Number of images imported: 15000, Time elapsed: 54.07\n",
      "Number of images imported: 1000, Time elapsed: 3.61\n",
      "Number of images imported: 2000, Time elapsed: 7.21\n",
      "Number of images imported: 3000, Time elapsed: 10.83\n",
      "Number of images imported: 4000, Time elapsed: 14.45\n",
      "Number of images imported: 5000, Time elapsed: 18.07\n",
      "loading color constrast\n",
      "Number of images imported: 1000, Time elapsed: 3.56\n",
      "Number of images imported: 2000, Time elapsed: 7.11\n",
      "Number of images imported: 3000, Time elapsed: 10.67\n",
      "Number of images imported: 4000, Time elapsed: 14.24\n",
      "Number of images imported: 5000, Time elapsed: 17.78\n",
      "Number of images imported: 6000, Time elapsed: 21.33\n",
      "Number of images imported: 7000, Time elapsed: 24.92\n",
      "Number of images imported: 8000, Time elapsed: 28.47\n",
      "Number of images imported: 9000, Time elapsed: 32.05\n",
      "Number of images imported: 10000, Time elapsed: 35.63\n",
      "Number of images imported: 11000, Time elapsed: 39.22\n",
      "Number of images imported: 12000, Time elapsed: 42.82\n",
      "Number of images imported: 13000, Time elapsed: 46.40\n",
      "Number of images imported: 14000, Time elapsed: 49.96\n",
      "Number of images imported: 15000, Time elapsed: 53.51\n",
      "Number of images imported: 1000, Time elapsed: 3.54\n",
      "Number of images imported: 2000, Time elapsed: 7.12\n",
      "Number of images imported: 3000, Time elapsed: 10.69\n",
      "Number of images imported: 4000, Time elapsed: 14.24\n",
      "Number of images imported: 5000, Time elapsed: 17.80\n",
      "loading grey scale contrast\n",
      "Number of images imported: 1000, Time elapsed: 3.66\n",
      "Number of images imported: 2000, Time elapsed: 7.31\n",
      "Number of images imported: 3000, Time elapsed: 10.96\n",
      "Number of images imported: 4000, Time elapsed: 14.63\n",
      "Number of images imported: 5000, Time elapsed: 18.30\n",
      "Number of images imported: 6000, Time elapsed: 21.96\n",
      "Number of images imported: 7000, Time elapsed: 25.62\n",
      "Number of images imported: 8000, Time elapsed: 29.27\n",
      "Number of images imported: 9000, Time elapsed: 32.95\n",
      "Number of images imported: 10000, Time elapsed: 36.60\n",
      "Number of images imported: 11000, Time elapsed: 40.26\n",
      "Number of images imported: 12000, Time elapsed: 43.91\n",
      "Number of images imported: 13000, Time elapsed: 47.58\n",
      "Number of images imported: 14000, Time elapsed: 51.22\n",
      "Number of images imported: 15000, Time elapsed: 54.90\n",
      "Number of images imported: 1000, Time elapsed: 3.66\n",
      "Number of images imported: 2000, Time elapsed: 7.32\n",
      "Number of images imported: 3000, Time elapsed: 10.98\n",
      "Number of images imported: 4000, Time elapsed: 14.66\n",
      "Number of images imported: 5000, Time elapsed: 18.35\n"
     ]
    }
   ],
   "source": [
    "## Is it necessary to use colored images (or black & white images are enough)? \n",
    "# Is it helpful to increase the contrast of the images? Other preprocessing ideas?\n",
    "pixel = 112\n",
    "res = [pixel, pixel]\n",
    "\n",
    "train_img = all_img[:15000]\n",
    "train_label = attribute['Male'][:15000]\n",
    "train_label = np.array(train_label).reshape(-1)\n",
    "\n",
    "test_img = all_img[15000:]\n",
    "test_label = attribute['Male'][15000:]\n",
    "test_label = np.array(test_label).reshape(-1)\n",
    "\n",
    "train_sets = []\n",
    "test_sets = []\n",
    "\n",
    "## original color dataset\n",
    "print(\"loading color\")\n",
    "train_sets.append((image_loader_fname(train_img, res, grey=False), train_label, \"Color\"))\n",
    "test_sets.append((image_loader_fname(test_img, res, grey=False), test_label, \"Color\"))\n",
    "\n",
    "## grey scale dataset\n",
    "print(\"loading grey scale\")\n",
    "train_sets.append((image_loader_fname(train_img, res, grey=True), train_label, \"Grey\"))\n",
    "test_sets.append((image_loader_fname(test_img, res, grey=True), test_label, \"Grey\"))\n",
    "\n",
    "## color adding constrast\n",
    "print(\"loading color constrast\")\n",
    "train_sets.append((image_loader_fname(train_img, res, grey=False, contrast=(1.5, 0)), train_label, \"Color_Contrast\"))\n",
    "test_sets.append((image_loader_fname(test_img, res, grey=False, contrast=(1.5, 0)), test_label, \"Color_Contrast\"))\n",
    "\n",
    "## grey scale adding contrast\n",
    "print(\"loading grey scale contrast\")\n",
    "train_sets.append((image_loader_fname(train_img, res, grey=True, contrast=(1.5, 0)), train_label, \"Grey_Contrast\"))\n",
    "test_sets.append((image_loader_fname(test_img, res, grey=True, contrast=(1.5, 0)), test_label, \"Grey_Contrast\"))\n",
    "\n",
    "# for pixel in pixels:\n",
    "#     res = [pixel, pixel]\n",
    "#     print(f\"loading train set and test set with resolution {pixel} x {pixel}\")\n",
    "#     train_sets.append((image_loader_fname(train_img, res, grey), train_label))\n",
    "#     test_sets.append((image_loader_fname(test_img, res, grey), test_label))"
   ]
  },
  {
   "cell_type": "code",
   "execution_count": 25,
   "metadata": {
    "collapsed": true,
    "jupyter": {
     "outputs_hidden": true
    },
    "tags": []
   },
   "outputs": [
    {
     "name": "stdout",
     "output_type": "stream",
     "text": [
      "start model training with the Color training set\n",
      "Epoch 0: 23.72 seconds, Loss: 13.41, Test Accuracy: 0.620\n",
      "Epoch 1: 16.68 seconds, Loss: 9.20, Test Accuracy: 0.665\n",
      "Epoch 2: 15.63 seconds, Loss: 7.58, Test Accuracy: 0.694\n",
      "Epoch 3: 16.97 seconds, Loss: 6.66, Test Accuracy: 0.714\n",
      "Epoch 4: 16.22 seconds, Loss: 5.99, Test Accuracy: 0.729\n",
      "Epoch 5: 17.50 seconds, Loss: 5.51, Test Accuracy: 0.739\n",
      "Epoch 6: 16.78 seconds, Loss: 5.12, Test Accuracy: 0.749\n",
      "Epoch 7: 16.17 seconds, Loss: 4.83, Test Accuracy: 0.757\n",
      "Epoch 8: 16.16 seconds, Loss: 4.53, Test Accuracy: 0.765\n",
      "Epoch 9: 16.79 seconds, Loss: 4.28, Test Accuracy: 0.770\n",
      "Epoch 10: 15.28 seconds, Loss: 4.09, Test Accuracy: 0.777\n",
      "Epoch 11: 15.54 seconds, Loss: 3.90, Test Accuracy: 0.781\n",
      "Epoch 12: 15.53 seconds, Loss: 3.74, Test Accuracy: 0.786\n",
      "Epoch 13: 15.57 seconds, Loss: 3.60, Test Accuracy: 0.792\n",
      "Epoch 14: 17.30 seconds, Loss: 3.49, Test Accuracy: 0.795\n",
      "Epoch 15: 16.18 seconds, Loss: 3.36, Test Accuracy: 0.799\n",
      "Epoch 16: 16.88 seconds, Loss: 3.24, Test Accuracy: 0.802\n",
      "Epoch 17: 17.07 seconds, Loss: 3.16, Test Accuracy: 0.806\n",
      "Epoch 18: 17.45 seconds, Loss: 3.03, Test Accuracy: 0.809\n",
      "Epoch 19: 16.98 seconds, Loss: 2.96, Test Accuracy: 0.813\n",
      "start model training with the Grey training set\n",
      "Epoch 0: 8.23 seconds, Loss: 8.38, Test Accuracy: 0.571\n",
      "Epoch 1: 5.44 seconds, Loss: 5.51, Test Accuracy: 0.621\n",
      "Epoch 2: 5.48 seconds, Loss: 4.79, Test Accuracy: 0.645\n",
      "Epoch 3: 5.48 seconds, Loss: 4.35, Test Accuracy: 0.658\n",
      "Epoch 4: 5.60 seconds, Loss: 4.03, Test Accuracy: 0.670\n",
      "Epoch 5: 5.57 seconds, Loss: 3.77, Test Accuracy: 0.679\n",
      "Epoch 6: 5.52 seconds, Loss: 3.56, Test Accuracy: 0.688\n",
      "Epoch 7: 5.50 seconds, Loss: 3.39, Test Accuracy: 0.695\n",
      "Epoch 8: 5.51 seconds, Loss: 3.22, Test Accuracy: 0.701\n",
      "Epoch 9: 5.47 seconds, Loss: 3.09, Test Accuracy: 0.706\n",
      "Epoch 10: 5.49 seconds, Loss: 2.97, Test Accuracy: 0.712\n",
      "Epoch 11: 5.48 seconds, Loss: 2.86, Test Accuracy: 0.717\n",
      "Epoch 12: 5.43 seconds, Loss: 2.74, Test Accuracy: 0.721\n",
      "Epoch 13: 5.46 seconds, Loss: 2.65, Test Accuracy: 0.727\n",
      "Epoch 14: 5.43 seconds, Loss: 2.56, Test Accuracy: 0.731\n",
      "Epoch 15: 5.44 seconds, Loss: 2.48, Test Accuracy: 0.735\n",
      "Epoch 16: 5.43 seconds, Loss: 2.41, Test Accuracy: 0.740\n",
      "Epoch 17: 5.47 seconds, Loss: 2.34, Test Accuracy: 0.744\n",
      "Epoch 18: 5.46 seconds, Loss: 2.27, Test Accuracy: 0.748\n",
      "Epoch 19: 5.47 seconds, Loss: 2.22, Test Accuracy: 0.752\n",
      "start model training with the Color_Contrast training set\n",
      "Epoch 0: 21.66 seconds, Loss: 16.12, Test Accuracy: 0.624\n",
      "Epoch 1: 17.88 seconds, Loss: 10.90, Test Accuracy: 0.673\n",
      "Epoch 2: 17.78 seconds, Loss: 8.88, Test Accuracy: 0.702\n",
      "Epoch 3: 18.10 seconds, Loss: 7.76, Test Accuracy: 0.723\n",
      "Epoch 4: 17.90 seconds, Loss: 6.95, Test Accuracy: 0.737\n",
      "Epoch 5: 17.98 seconds, Loss: 6.42, Test Accuracy: 0.749\n",
      "Epoch 6: 17.84 seconds, Loss: 5.94, Test Accuracy: 0.757\n",
      "Epoch 7: 17.85 seconds, Loss: 5.62, Test Accuracy: 0.766\n",
      "Epoch 8: 17.74 seconds, Loss: 5.30, Test Accuracy: 0.773\n",
      "Epoch 9: 17.70 seconds, Loss: 4.96, Test Accuracy: 0.779\n",
      "Epoch 10: 17.84 seconds, Loss: 4.76, Test Accuracy: 0.786\n",
      "Epoch 11: 17.74 seconds, Loss: 4.54, Test Accuracy: 0.791\n",
      "Epoch 12: 17.77 seconds, Loss: 4.34, Test Accuracy: 0.796\n",
      "Epoch 13: 17.92 seconds, Loss: 4.23, Test Accuracy: 0.801\n",
      "Epoch 14: 17.83 seconds, Loss: 4.07, Test Accuracy: 0.805\n",
      "Epoch 15: 17.79 seconds, Loss: 3.93, Test Accuracy: 0.809\n",
      "Epoch 16: 17.88 seconds, Loss: 3.81, Test Accuracy: 0.813\n",
      "Epoch 17: 17.80 seconds, Loss: 3.71, Test Accuracy: 0.817\n",
      "Epoch 18: 17.79 seconds, Loss: 3.60, Test Accuracy: 0.818\n",
      "Epoch 19: 17.88 seconds, Loss: 3.48, Test Accuracy: 0.821\n",
      "start model training with the Grey_Contrast training set\n",
      "Epoch 0: 7.68 seconds, Loss: 10.07, Test Accuracy: 0.577\n",
      "Epoch 1: 5.45 seconds, Loss: 6.64, Test Accuracy: 0.632\n",
      "Epoch 2: 5.50 seconds, Loss: 5.75, Test Accuracy: 0.659\n",
      "Epoch 3: 5.45 seconds, Loss: 5.18, Test Accuracy: 0.674\n",
      "Epoch 4: 5.45 seconds, Loss: 4.74, Test Accuracy: 0.686\n",
      "Epoch 5: 5.43 seconds, Loss: 4.38, Test Accuracy: 0.695\n",
      "Epoch 6: 5.45 seconds, Loss: 4.12, Test Accuracy: 0.705\n",
      "Epoch 7: 5.44 seconds, Loss: 3.91, Test Accuracy: 0.713\n",
      "Epoch 8: 5.46 seconds, Loss: 3.68, Test Accuracy: 0.721\n",
      "Epoch 9: 5.45 seconds, Loss: 3.52, Test Accuracy: 0.726\n",
      "Epoch 10: 5.47 seconds, Loss: 3.39, Test Accuracy: 0.733\n",
      "Epoch 11: 5.45 seconds, Loss: 3.25, Test Accuracy: 0.738\n",
      "Epoch 12: 5.48 seconds, Loss: 3.11, Test Accuracy: 0.743\n",
      "Epoch 13: 5.51 seconds, Loss: 3.00, Test Accuracy: 0.749\n",
      "Epoch 14: 5.46 seconds, Loss: 2.90, Test Accuracy: 0.753\n",
      "Epoch 15: 5.48 seconds, Loss: 2.82, Test Accuracy: 0.757\n",
      "Epoch 16: 5.45 seconds, Loss: 2.71, Test Accuracy: 0.761\n",
      "Epoch 17: 5.44 seconds, Loss: 2.65, Test Accuracy: 0.765\n",
      "Epoch 18: 5.44 seconds, Loss: 2.56, Test Accuracy: 0.768\n",
      "Epoch 19: 5.44 seconds, Loss: 2.51, Test Accuracy: 0.772\n"
     ]
    }
   ],
   "source": [
    "beta_records_prep = []\n",
    "\n",
    "for it in range(4):\n",
    "    train_img_arr, train_label, name = train_sets[it]\n",
    "    test_img_arr, test_label, name = test_sets[it]\n",
    "    if name == \"Color\" or name == \"Color_Contrast\":\n",
    "        np.random.seed(42)\n",
    "        beta_standard_dev = 1. / np.sqrt(3) / pixel\n",
    "        beta_init = np.random.normal(0,beta_standard_dev,3*pixel*pixel)\n",
    "    else:\n",
    "        np.random.seed(42)\n",
    "        beta_standard_dev = 1. / np.sqrt(3) / pixel\n",
    "        beta_init = np.random.normal(0,beta_standard_dev,pixel*pixel)\n",
    "\n",
    "    print(f\"start model training with the {name} training set\")\n",
    "    beta_SGD, record_SGD = train_SGD(\n",
    "    train_img_arr, train_label, test_img_arr, test_label, beta_init, 1e-7, loss_LR_values_and_grad, n_epoch = 20, mb_size = 32, verbose = 1)\n",
    "    record_SGD['name'] += f\"_{name}\"\n",
    "    beta_records_prep.append((beta_SGD, record_SGD))"
   ]
  },
  {
   "cell_type": "code",
   "execution_count": 31,
   "metadata": {},
   "outputs": [
    {
     "data": {
      "image/png": "[encoded data removed]",
      "text/plain": [
       "<Figure size 1152x720 with 1 Axes>"
      ]
     },
     "metadata": {
      "needs_background": "light"
     },
     "output_type": "display_data"
    }
   ],
   "source": [
    "record_list_prep = [beta_record[1] for beta_record in beta_records_prep]\n",
    "record_graph(record_list_prep, 'test_acc_epoch', 'Relationship Between Test Accuracy and Preprocessing Techniques')"
   ]
  },
  {
   "cell_type": "markdown",
   "metadata": {},
   "source": [
    "## 4. Study the relationship between test accuracy and the use of only parts of face"
   ]
  },
  {
   "cell_type": "markdown",
   "metadata": {},
   "source": [
    "What if one only uses the area around the eyes? Around the mouth? The hair? The ears? Etc.."
   ]
  },
  {
   "cell_type": "markdown",
   "metadata": {},
   "source": [
    "### 4.1 Extract Feature"
   ]
  },
  {
   "cell_type": "code",
   "execution_count": 26,
   "metadata": {
    "collapsed": true,
    "jupyter": {
     "outputs_hidden": true
    },
    "tags": []
   },
   "outputs": [
    {
     "name": "stderr",
     "output_type": "stream",
     "text": [
      "/Users/davidlee/opt/anaconda3/envs/dsa4212/lib/python3.7/site-packages/ipykernel_launcher.py:34: DeprecationWarning: elementwise comparison failed; this will raise an error in the future.\n",
      "/Users/davidlee/opt/anaconda3/envs/dsa4212/lib/python3.7/site-packages/ipykernel_launcher.py:35: DeprecationWarning: elementwise comparison failed; this will raise an error in the future.\n",
      "/Users/davidlee/opt/anaconda3/envs/dsa4212/lib/python3.7/site-packages/ipykernel_launcher.py:36: DeprecationWarning: elementwise comparison failed; this will raise an error in the future.\n",
      "/Users/davidlee/opt/anaconda3/envs/dsa4212/lib/python3.7/site-packages/ipykernel_launcher.py:37: DeprecationWarning: elementwise comparison failed; this will raise an error in the future.\n"
     ]
    },
    {
     "name": "stdout",
     "output_type": "stream",
     "text": [
      "Number of images extracted: 1000, Time elapsed: 48.94\n",
      "Number of images extracted: 2000, Time elapsed: 98.16\n",
      "Number of images extracted: 3000, Time elapsed: 146.88\n",
      "Number of images extracted: 4000, Time elapsed: 195.68\n",
      "Number of images extracted: 5000, Time elapsed: 244.45\n",
      "Number of images extracted: 6000, Time elapsed: 293.42\n",
      "Number of images extracted: 7000, Time elapsed: 343.18\n",
      "Number of images extracted: 8000, Time elapsed: 392.40\n",
      "Number of images extracted: 9000, Time elapsed: 441.72\n",
      "Number of images extracted: 10000, Time elapsed: 491.52\n",
      "Number of images extracted: 11000, Time elapsed: 540.99\n",
      "Number of images extracted: 12000, Time elapsed: 590.21\n",
      "Number of images extracted: 13000, Time elapsed: 639.31\n",
      "Number of images extracted: 14000, Time elapsed: 688.84\n",
      "Number of images extracted: 15000, Time elapsed: 738.28\n",
      "Number of images extracted: 16000, Time elapsed: 787.63\n",
      "Number of images extracted: 17000, Time elapsed: 837.14\n",
      "Number of images extracted: 18000, Time elapsed: 886.11\n",
      "Number of images extracted: 19000, Time elapsed: 935.24\n",
      "Number of images extracted: 20000, Time elapsed: 984.95\n"
     ]
    },
    {
     "name": "stderr",
     "output_type": "stream",
     "text": [
      "/Users/davidlee/opt/anaconda3/envs/dsa4212/lib/python3.7/site-packages/numpy/core/fromnumeric.py:43: VisibleDeprecationWarning: Creating an ndarray from ragged nested sequences (which is a list-or-tuple of lists-or-tuples-or ndarrays with different lengths or shapes) is deprecated. If you meant to do this, you must specify 'dtype=object' when creating the ndarray.\n",
      "  result = getattr(asarray(obj), method)(*args, **kwds)\n"
     ]
    }
   ],
   "source": [
    "vertex = find_vertex(all_img)"
   ]
  },
  {
   "cell_type": "markdown",
   "metadata": {},
   "source": [
    "### 4.2 Train extracted face with SGD"
   ]
  },
  {
   "cell_type": "code",
   "execution_count": 41,
   "metadata": {
    "collapsed": true,
    "jupyter": {
     "outputs_hidden": true
    },
    "tags": []
   },
   "outputs": [
    {
     "name": "stdout",
     "output_type": "stream",
     "text": [
      "Number of images imported: 1000, Time elapsed: 0.70\n",
      "Number of images imported: 2000, Time elapsed: 1.41\n",
      "Number of images imported: 3000, Time elapsed: 2.09\n",
      "Number of images imported: 4000, Time elapsed: 2.77\n",
      "Number of images imported: 5000, Time elapsed: 3.46\n",
      "Number of images imported: 6000, Time elapsed: 4.15\n",
      "Number of images imported: 7000, Time elapsed: 4.83\n",
      "Number of images imported: 8000, Time elapsed: 5.52\n",
      "Number of images imported: 9000, Time elapsed: 6.20\n",
      "Number of images imported: 10000, Time elapsed: 6.81\n",
      "Number of images imported: 11000, Time elapsed: 7.42\n",
      "Number of images imported: 12000, Time elapsed: 8.04\n",
      "Number of images imported: 13000, Time elapsed: 8.65\n",
      "Number of images imported: 14000, Time elapsed: 9.27\n",
      "Number of images imported: 15000, Time elapsed: 9.88\n",
      "Number of images imported: 1000, Time elapsed: 0.62\n",
      "Number of images imported: 2000, Time elapsed: 1.24\n",
      "Number of images imported: 3000, Time elapsed: 1.86\n",
      "Number of images imported: 4000, Time elapsed: 2.47\n",
      "Number of images imported: 5000, Time elapsed: 3.09\n"
     ]
    }
   ],
   "source": [
    "# del face_train, face_test\n",
    "# gc.collect()\n",
    "\n",
    "face_train = image_area_loader(train_img, vertex['face'], grey=False, contrast=(1.5, 0)).reshape(-1, 3 * 104 * 104)\n",
    "face_test =  image_area_loader(test_img, vertex['face'], grey=False, contrast=(1.5, 0)).reshape(-1, 3 * 104 * 104)"
   ]
  },
  {
   "cell_type": "code",
   "execution_count": 42,
   "metadata": {
    "collapsed": true,
    "jupyter": {
     "outputs_hidden": true
    },
    "tags": []
   },
   "outputs": [
    {
     "name": "stdout",
     "output_type": "stream",
     "text": [
      "Epoch 0: 23.69 seconds, Loss: 12.38, Test Accuracy: 0.653\n",
      "Epoch 1: 23.63 seconds, Loss: 8.62, Test Accuracy: 0.708\n",
      "Epoch 2: 23.65 seconds, Loss: 6.90, Test Accuracy: 0.743\n",
      "Epoch 3: 23.67 seconds, Loss: 6.04, Test Accuracy: 0.764\n",
      "Epoch 4: 23.58 seconds, Loss: 5.37, Test Accuracy: 0.781\n",
      "Epoch 5: 23.67 seconds, Loss: 4.94, Test Accuracy: 0.792\n",
      "Epoch 6: 23.70 seconds, Loss: 4.64, Test Accuracy: 0.801\n",
      "Epoch 7: 23.62 seconds, Loss: 4.35, Test Accuracy: 0.811\n",
      "Epoch 8: 23.59 seconds, Loss: 4.12, Test Accuracy: 0.816\n",
      "Epoch 9: 23.62 seconds, Loss: 3.91, Test Accuracy: 0.822\n",
      "Epoch 10: 23.68 seconds, Loss: 3.72, Test Accuracy: 0.827\n",
      "Epoch 11: 23.69 seconds, Loss: 3.62, Test Accuracy: 0.830\n",
      "Epoch 12: 23.63 seconds, Loss: 3.49, Test Accuracy: 0.833\n",
      "Epoch 13: 23.66 seconds, Loss: 3.37, Test Accuracy: 0.837\n",
      "Epoch 14: 23.68 seconds, Loss: 3.31, Test Accuracy: 0.840\n",
      "Epoch 15: 23.65 seconds, Loss: 3.20, Test Accuracy: 0.842\n",
      "Epoch 16: 23.68 seconds, Loss: 3.14, Test Accuracy: 0.844\n",
      "Epoch 17: 23.67 seconds, Loss: 3.07, Test Accuracy: 0.846\n",
      "Epoch 18: 23.66 seconds, Loss: 2.96, Test Accuracy: 0.848\n",
      "Epoch 19: 23.75 seconds, Loss: 2.95, Test Accuracy: 0.850\n"
     ]
    }
   ],
   "source": [
    "# initialize beta at random\n",
    "np.random.seed(42)\n",
    "beta_standard_dev = 1. / np.sqrt(3) / 104\n",
    "face_beta_init = np.random.normal(0,beta_standard_dev,3*104*104)\n",
    "\n",
    "beta_face, record_face = train_SGD(\n",
    "    face_train, train_label, face_test, test_label, face_beta_init, 1e-7, loss_LR_values_and_grad, n_epoch = 20, mb_size = 32, verbose = 1)"
   ]
  },
  {
   "cell_type": "markdown",
   "metadata": {},
   "source": [
    "### 4.3 Train extracted nose with SGD"
   ]
  },
  {
   "cell_type": "code",
   "execution_count": 43,
   "metadata": {
    "collapsed": true,
    "jupyter": {
     "outputs_hidden": true
    },
    "tags": []
   },
   "outputs": [
    {
     "name": "stdout",
     "output_type": "stream",
     "text": [
      "Number of images imported: 1000, Time elapsed: 0.62\n",
      "Number of images imported: 2000, Time elapsed: 1.22\n",
      "Number of images imported: 3000, Time elapsed: 1.82\n",
      "Number of images imported: 4000, Time elapsed: 2.44\n",
      "Number of images imported: 5000, Time elapsed: 3.04\n",
      "Number of images imported: 6000, Time elapsed: 3.65\n",
      "Number of images imported: 7000, Time elapsed: 4.26\n",
      "Number of images imported: 8000, Time elapsed: 4.89\n",
      "Number of images imported: 9000, Time elapsed: 5.53\n",
      "Number of images imported: 10000, Time elapsed: 6.15\n",
      "Number of images imported: 11000, Time elapsed: 6.78\n",
      "Number of images imported: 12000, Time elapsed: 7.38\n",
      "Number of images imported: 13000, Time elapsed: 7.99\n",
      "Number of images imported: 14000, Time elapsed: 8.59\n",
      "Number of images imported: 15000, Time elapsed: 9.19\n",
      "Number of images imported: 1000, Time elapsed: 0.61\n",
      "Number of images imported: 2000, Time elapsed: 1.22\n",
      "Number of images imported: 3000, Time elapsed: 1.84\n",
      "Number of images imported: 4000, Time elapsed: 2.44\n",
      "Number of images imported: 5000, Time elapsed: 3.06\n"
     ]
    }
   ],
   "source": [
    "nose_train = image_area_loader(train_img, vertex['nose'], grey=False, contrast=(1.5, 0)).reshape(-1, 3 * 30 * 25)\n",
    "nose_test =  image_area_loader(test_img, vertex['nose'], grey=False, contrast=(1.5, 0)).reshape(-1, 3 * 30 * 25)"
   ]
  },
  {
   "cell_type": "code",
   "execution_count": 45,
   "metadata": {
    "collapsed": true,
    "jupyter": {
     "outputs_hidden": true
    },
    "tags": []
   },
   "outputs": [
    {
     "name": "stdout",
     "output_type": "stream",
     "text": [
      "Epoch 0: 1.57 seconds, Loss: 26.63, Test Accuracy: 0.571\n",
      "Epoch 1: 1.48 seconds, Loss: 11.67, Test Accuracy: 0.598\n",
      "Epoch 2: 1.48 seconds, Loss: 10.63, Test Accuracy: 0.600\n",
      "Epoch 3: 1.47 seconds, Loss: 9.80, Test Accuracy: 0.601\n",
      "Epoch 4: 1.49 seconds, Loss: 9.16, Test Accuracy: 0.603\n",
      "Epoch 5: 1.49 seconds, Loss: 8.65, Test Accuracy: 0.605\n",
      "Epoch 6: 1.49 seconds, Loss: 8.27, Test Accuracy: 0.607\n",
      "Epoch 7: 1.49 seconds, Loss: 7.92, Test Accuracy: 0.608\n",
      "Epoch 8: 1.48 seconds, Loss: 7.66, Test Accuracy: 0.609\n",
      "Epoch 9: 1.50 seconds, Loss: 7.43, Test Accuracy: 0.610\n",
      "Epoch 10: 1.48 seconds, Loss: 7.23, Test Accuracy: 0.611\n",
      "Epoch 11: 1.48 seconds, Loss: 7.06, Test Accuracy: 0.612\n",
      "Epoch 12: 1.49 seconds, Loss: 6.91, Test Accuracy: 0.614\n",
      "Epoch 13: 1.48 seconds, Loss: 6.78, Test Accuracy: 0.614\n",
      "Epoch 14: 1.53 seconds, Loss: 6.66, Test Accuracy: 0.615\n",
      "Epoch 15: 1.50 seconds, Loss: 6.55, Test Accuracy: 0.616\n",
      "Epoch 16: 1.49 seconds, Loss: 6.44, Test Accuracy: 0.616\n",
      "Epoch 17: 1.50 seconds, Loss: 6.36, Test Accuracy: 0.617\n",
      "Epoch 18: 1.49 seconds, Loss: 6.25, Test Accuracy: 0.618\n",
      "Epoch 19: 1.49 seconds, Loss: 6.17, Test Accuracy: 0.620\n"
     ]
    }
   ],
   "source": [
    "# initialize beta at random\n",
    "np.random.seed(42)\n",
    "beta_standard_dev = 1. / np.sqrt(3) / np.sqrt(30*25)\n",
    "nose_beta_init = np.random.normal(0,beta_standard_dev,3*30*25)\n",
    "\n",
    "beta_nose, record_nose = train_SGD(\n",
    "    nose_train, train_label, nose_test, test_label, nose_beta_init, 1e-7, loss_LR_values_and_grad, n_epoch = 20, mb_size = 32, verbose = 1)"
   ]
  },
  {
   "cell_type": "markdown",
   "metadata": {},
   "source": [
    "### 4.4 Train extracted eyes with SGD"
   ]
  },
  {
   "cell_type": "code",
   "execution_count": 46,
   "metadata": {
    "collapsed": true,
    "jupyter": {
     "outputs_hidden": true
    },
    "tags": []
   },
   "outputs": [
    {
     "name": "stdout",
     "output_type": "stream",
     "text": [
      "Number of images imported: 1000, Time elapsed: 0.63\n",
      "Number of images imported: 2000, Time elapsed: 1.23\n",
      "Number of images imported: 3000, Time elapsed: 1.83\n",
      "Number of images imported: 4000, Time elapsed: 2.44\n",
      "Number of images imported: 5000, Time elapsed: 3.06\n",
      "Number of images imported: 6000, Time elapsed: 3.66\n",
      "Number of images imported: 7000, Time elapsed: 4.26\n",
      "Number of images imported: 8000, Time elapsed: 4.89\n",
      "Number of images imported: 9000, Time elapsed: 5.50\n",
      "Number of images imported: 10000, Time elapsed: 6.11\n",
      "Number of images imported: 11000, Time elapsed: 6.72\n",
      "Number of images imported: 12000, Time elapsed: 7.34\n",
      "Number of images imported: 13000, Time elapsed: 7.96\n",
      "Number of images imported: 14000, Time elapsed: 8.55\n",
      "Number of images imported: 15000, Time elapsed: 9.16\n",
      "Number of images imported: 1000, Time elapsed: 0.63\n",
      "Number of images imported: 2000, Time elapsed: 1.24\n",
      "Number of images imported: 3000, Time elapsed: 1.86\n",
      "Number of images imported: 4000, Time elapsed: 2.47\n",
      "Number of images imported: 5000, Time elapsed: 3.08\n"
     ]
    }
   ],
   "source": [
    "eyes_train = image_area_loader(train_img, vertex['eyes'], grey=False, contrast=(1.5, 0)).reshape(-1, 3 * 27 * 27)\n",
    "eyes_test =  image_area_loader(test_img, vertex['eyes'], grey=False, contrast=(1.5, 0)).reshape(-1, 3 * 27 * 27)"
   ]
  },
  {
   "cell_type": "code",
   "execution_count": 49,
   "metadata": {
    "collapsed": true,
    "jupyter": {
     "outputs_hidden": true
    },
    "scrolled": true,
    "tags": []
   },
   "outputs": [
    {
     "name": "stdout",
     "output_type": "stream",
     "text": [
      "Epoch 0: 1.49 seconds, Loss: 10.48, Test Accuracy: 0.630\n",
      "Epoch 1: 1.47 seconds, Loss: 6.03, Test Accuracy: 0.684\n",
      "Epoch 2: 1.47 seconds, Loss: 5.26, Test Accuracy: 0.708\n",
      "Epoch 3: 1.47 seconds, Loss: 4.78, Test Accuracy: 0.724\n",
      "Epoch 4: 1.46 seconds, Loss: 4.51, Test Accuracy: 0.733\n",
      "Epoch 5: 1.47 seconds, Loss: 4.31, Test Accuracy: 0.738\n",
      "Epoch 6: 1.47 seconds, Loss: 4.11, Test Accuracy: 0.741\n",
      "Epoch 7: 1.47 seconds, Loss: 3.97, Test Accuracy: 0.744\n",
      "Epoch 8: 1.47 seconds, Loss: 3.85, Test Accuracy: 0.747\n",
      "Epoch 9: 1.46 seconds, Loss: 3.68, Test Accuracy: 0.749\n",
      "Epoch 10: 1.47 seconds, Loss: 3.53, Test Accuracy: 0.752\n",
      "Epoch 11: 1.47 seconds, Loss: 3.48, Test Accuracy: 0.752\n",
      "Epoch 12: 1.47 seconds, Loss: 3.34, Test Accuracy: 0.754\n",
      "Epoch 13: 1.47 seconds, Loss: 3.29, Test Accuracy: 0.755\n",
      "Epoch 14: 1.47 seconds, Loss: 3.18, Test Accuracy: 0.758\n",
      "Epoch 15: 1.47 seconds, Loss: 3.15, Test Accuracy: 0.756\n",
      "Epoch 16: 1.47 seconds, Loss: 3.07, Test Accuracy: 0.758\n",
      "Epoch 17: 1.48 seconds, Loss: 3.13, Test Accuracy: 0.756\n",
      "Epoch 18: 1.47 seconds, Loss: 3.06, Test Accuracy: 0.758\n",
      "Epoch 19: 1.47 seconds, Loss: 2.96, Test Accuracy: 0.759\n"
     ]
    }
   ],
   "source": [
    "# initialize beta at random\n",
    "np.random.seed(42)\n",
    "beta_standard_dev = 1. / np.sqrt(3) / np.sqrt(27*27)\n",
    "eyes_beta_init = np.random.normal(0,beta_standard_dev,3*27*27)\n",
    "\n",
    "beta_eyes, record_eyes = train_SGD(\n",
    "    eyes_train, train_label, eyes_test, test_label, eyes_beta_init, 1e-6, loss_LR_values_and_grad, n_epoch = 20, mb_size = 32, verbose = 1)"
   ]
  },
  {
   "cell_type": "markdown",
   "metadata": {},
   "source": [
    "### 4.5 Train extracted mouth with SGD"
   ]
  },
  {
   "cell_type": "code",
   "execution_count": 50,
   "metadata": {
    "collapsed": true,
    "jupyter": {
     "outputs_hidden": true
    },
    "scrolled": true,
    "tags": []
   },
   "outputs": [
    {
     "name": "stdout",
     "output_type": "stream",
     "text": [
      "Number of images imported: 1000, Time elapsed: 0.63\n",
      "Number of images imported: 2000, Time elapsed: 1.25\n",
      "Number of images imported: 3000, Time elapsed: 1.84\n",
      "Number of images imported: 4000, Time elapsed: 2.44\n",
      "Number of images imported: 5000, Time elapsed: 3.03\n",
      "Number of images imported: 6000, Time elapsed: 3.64\n",
      "Number of images imported: 7000, Time elapsed: 4.25\n",
      "Number of images imported: 8000, Time elapsed: 4.85\n",
      "Number of images imported: 9000, Time elapsed: 5.48\n",
      "Number of images imported: 10000, Time elapsed: 6.12\n",
      "Number of images imported: 11000, Time elapsed: 6.75\n",
      "Number of images imported: 12000, Time elapsed: 7.42\n",
      "Number of images imported: 13000, Time elapsed: 8.07\n",
      "Number of images imported: 14000, Time elapsed: 8.74\n",
      "Number of images imported: 15000, Time elapsed: 9.38\n",
      "Number of images imported: 1000, Time elapsed: 0.66\n",
      "Number of images imported: 2000, Time elapsed: 1.29\n",
      "Number of images imported: 3000, Time elapsed: 1.92\n",
      "Number of images imported: 4000, Time elapsed: 2.57\n",
      "Number of images imported: 5000, Time elapsed: 3.20\n"
     ]
    }
   ],
   "source": [
    "mouth_train = image_area_loader(train_img, vertex['mouth'], grey=False, contrast=(1.5, 0)).reshape(-1, 3 * 40 * 24)\n",
    "mouth_test =  image_area_loader(test_img, vertex['mouth'], grey=False, contrast=(1.5, 0)).reshape(-1, 3 * 40 * 24)"
   ]
  },
  {
   "cell_type": "code",
   "execution_count": 51,
   "metadata": {
    "collapsed": true,
    "jupyter": {
     "outputs_hidden": true
    },
    "tags": []
   },
   "outputs": [
    {
     "name": "stdout",
     "output_type": "stream",
     "text": [
      "Epoch 0: 1.97 seconds, Loss: 13.82, Test Accuracy: 0.553\n",
      "Epoch 1: 1.80 seconds, Loss: 8.43, Test Accuracy: 0.593\n",
      "Epoch 2: 1.80 seconds, Loss: 7.36, Test Accuracy: 0.615\n",
      "Epoch 3: 1.79 seconds, Loss: 7.06, Test Accuracy: 0.624\n",
      "Epoch 4: 1.80 seconds, Loss: 6.54, Test Accuracy: 0.632\n",
      "Epoch 5: 1.80 seconds, Loss: 5.95, Test Accuracy: 0.640\n",
      "Epoch 6: 1.80 seconds, Loss: 6.21, Test Accuracy: 0.640\n",
      "Epoch 7: 1.80 seconds, Loss: 5.82, Test Accuracy: 0.646\n",
      "Epoch 8: 1.80 seconds, Loss: 5.61, Test Accuracy: 0.652\n",
      "Epoch 9: 1.80 seconds, Loss: 5.56, Test Accuracy: 0.653\n",
      "Epoch 10: 1.80 seconds, Loss: 5.36, Test Accuracy: 0.659\n",
      "Epoch 11: 1.80 seconds, Loss: 5.40, Test Accuracy: 0.660\n",
      "Epoch 12: 1.80 seconds, Loss: 5.26, Test Accuracy: 0.664\n",
      "Epoch 13: 1.80 seconds, Loss: 5.06, Test Accuracy: 0.666\n",
      "Epoch 14: 1.80 seconds, Loss: 5.29, Test Accuracy: 0.665\n",
      "Epoch 15: 1.81 seconds, Loss: 4.98, Test Accuracy: 0.669\n",
      "Epoch 16: 1.81 seconds, Loss: 4.86, Test Accuracy: 0.672\n",
      "Epoch 17: 1.80 seconds, Loss: 5.01, Test Accuracy: 0.672\n",
      "Epoch 18: 1.81 seconds, Loss: 4.99, Test Accuracy: 0.668\n",
      "Epoch 19: 1.82 seconds, Loss: 4.58, Test Accuracy: 0.679\n"
     ]
    }
   ],
   "source": [
    "# initialize beta at random\n",
    "np.random.seed(42)\n",
    "beta_standard_dev = 1. / np.sqrt(3) / np.sqrt(40*24)\n",
    "mouth_beta_init = np.random.normal(0,beta_standard_dev,3*40*24)\n",
    "\n",
    "beta_mouth, record_mouth = train_SGD(\n",
    "    mouth_train, train_label, mouth_test, test_label, mouth_beta_init, 1e-6, loss_LR_values_and_grad, n_epoch = 20, mb_size = 32, verbose = 1)"
   ]
  },
  {
   "cell_type": "code",
   "execution_count": 77,
   "metadata": {},
   "outputs": [
    {
     "data": {
      "image/png": "[encoded data removed]",
      "text/plain": [
       "<Figure size 1152x720 with 1 Axes>"
      ]
     },
     "metadata": {
      "needs_background": "light"
     },
     "output_type": "display_data"
    }
   ],
   "source": [
    "record_face['name'] =\"SGD_crop_face\"\n",
    "record_nose['name'] =\"SGD_crop_nose\"\n",
    "record_eyes['name'] =\"SGD_crop_eyes\"\n",
    "record_mouth['name'] =\"SGD_crop_mouth\"\n",
    "\n",
    "record_list_parts = [record_face, record_nose, record_eyes, record_mouth]\n",
    "record_graph(record_list_parts, 'test_acc_epoch', \"Relationship Between Test Accuracy and Crop Facial Regions\")"
   ]
  },
  {
   "cell_type": "markdown",
   "metadata": {},
   "source": [
    "## 5. Ensemble model of facial regions"
   ]
  },
  {
   "cell_type": "code",
   "execution_count": 60,
   "metadata": {},
   "outputs": [],
   "source": [
    "nose_prob_train = pred_proba_batch(beta_nose, nose_train)\n",
    "eyes_prob_train = pred_proba_batch(beta_eyes, eyes_train)\n",
    "mouth_prob_train = pred_proba_batch(beta_mouth, mouth_train)\n",
    "\n",
    "nose_prob_test = pred_proba_batch(beta_nose, nose_test)\n",
    "eyes_prob_test = pred_proba_batch(beta_eyes, eyes_test)\n",
    "mouth_prob_test = pred_proba_batch(beta_mouth, mouth_test)"
   ]
  },
  {
   "cell_type": "code",
   "execution_count": 61,
   "metadata": {},
   "outputs": [
    {
     "name": "stdout",
     "output_type": "stream",
     "text": [
      "(15000, 3)\n",
      "(5000, 3)\n"
     ]
    }
   ],
   "source": [
    "ensemble_train = np.column_stack((nose_prob_train,  eyes_prob_train, mouth_prob_train))\n",
    "ensemble_test = np.column_stack((nose_prob_test,  eyes_prob_test, mouth_prob_test))\n",
    "print(ensemble_train.shape)\n",
    "print(ensemble_test.shape)"
   ]
  },
  {
   "cell_type": "code",
   "execution_count": 72,
   "metadata": {
    "collapsed": true,
    "jupyter": {
     "outputs_hidden": true
    },
    "tags": []
   },
   "outputs": [
    {
     "name": "stdout",
     "output_type": "stream",
     "text": [
      "Epoch 0: 0.01 seconds, Loss: 0.69, Test Accuracy: 0.454\n",
      "Epoch 1: 0.00 seconds, Loss: 0.68, Test Accuracy: 0.421\n",
      "Epoch 2: 0.00 seconds, Loss: 0.67, Test Accuracy: 0.421\n",
      "Epoch 3: 0.00 seconds, Loss: 0.67, Test Accuracy: 0.421\n",
      "Epoch 4: 0.00 seconds, Loss: 0.66, Test Accuracy: 0.523\n",
      "Epoch 5: 0.00 seconds, Loss: 0.66, Test Accuracy: 0.638\n",
      "Epoch 6: 0.00 seconds, Loss: 0.66, Test Accuracy: 0.643\n",
      "Epoch 7: 0.00 seconds, Loss: 0.65, Test Accuracy: 0.646\n",
      "Epoch 8: 0.00 seconds, Loss: 0.65, Test Accuracy: 0.647\n",
      "Epoch 9: 0.00 seconds, Loss: 0.65, Test Accuracy: 0.649\n",
      "Epoch 10: 0.00 seconds, Loss: 0.65, Test Accuracy: 0.650\n",
      "Epoch 11: 0.00 seconds, Loss: 0.65, Test Accuracy: 0.651\n",
      "Epoch 12: 0.00 seconds, Loss: 0.65, Test Accuracy: 0.652\n",
      "Epoch 13: 0.00 seconds, Loss: 0.65, Test Accuracy: 0.652\n",
      "Epoch 14: 0.00 seconds, Loss: 0.64, Test Accuracy: 0.653\n",
      "Epoch 15: 0.00 seconds, Loss: 0.64, Test Accuracy: 0.654\n",
      "Epoch 16: 0.00 seconds, Loss: 0.64, Test Accuracy: 0.655\n",
      "Epoch 17: 0.00 seconds, Loss: 0.64, Test Accuracy: 0.655\n",
      "Epoch 18: 0.00 seconds, Loss: 0.64, Test Accuracy: 0.655\n",
      "Epoch 19: 0.00 seconds, Loss: 0.64, Test Accuracy: 0.656\n"
     ]
    }
   ],
   "source": [
    "# initialize beta at random\n",
    "np.random.seed(42)\n",
    "beta_standard_dev = 1. / np.sqrt(3) \n",
    "ensemble_beta_init = np.random.normal(0,beta_standard_dev,3)\n",
    "\n",
    "beta_ensemble, record_ensemble = train_SGD(\n",
    "    ensemble_train, train_label, ensemble_test, test_label, ensemble_beta_init, 1, loss_LR_values_and_grad, n_epoch = 20, mb_size = 15000, verbose = 1)"
   ]
  },
  {
   "cell_type": "code",
   "execution_count": 73,
   "metadata": {},
   "outputs": [],
   "source": [
    "# Give the prediction by majority voting\n",
    "def ensemble_voting(ensemble):\n",
    "    voting = np.mean(ensemble_test > 0.5 , axis = 1)\n",
    "    pred = np.array([1 if v > 0.5 else 0 for v in voting])\n",
    "    return pred"
   ]
  },
  {
   "cell_type": "code",
   "execution_count": 70,
   "metadata": {},
   "outputs": [
    {
     "data": {
      "text/plain": [
       "DeviceArray(0.7256, dtype=float64)"
      ]
     },
     "execution_count": 70,
     "metadata": {},
     "output_type": "execute_result"
    }
   ],
   "source": [
    "get_accuracy(ensemble_voting(ensemble_test), test_label)"
   ]
  },
  {
   "cell_type": "code",
   "execution_count": 76,
   "metadata": {},
   "outputs": [
    {
     "data": {
      "image/png": "[encoded data removed]",
      "text/plain": [
       "<Figure size 1152x720 with 1 Axes>"
      ]
     },
     "metadata": {
      "needs_background": "light"
     },
     "output_type": "display_data"
    }
   ],
   "source": [
    "record_ensemble['name'] = \"SGD_Ensemble\"\n",
    "record_face['name'] =\"SGD_crop_face\"\n",
    "record_nose['name'] =\"SGD_crop_nose\"\n",
    "record_eyes['name'] =\"SGD_crop_eyes\"\n",
    "record_mouth['name'] =\"SGD_crop_mouth\"\n",
    "\n",
    "record_list_parts = [record_face, record_nose, record_eyes, record_mouth, record_ensemble]\n",
    "record_graph(record_list_parts, 'test_acc_epoch', \"Relationship Between Test Accuracy and Crop Facial Regions\")"
   ]
  },
  {
   "cell_type": "markdown",
   "metadata": {},
   "source": [
    "## 6. Optimization Algorithm Selection"
   ]
  },
  {
   "cell_type": "code",
   "execution_count": 26,
   "metadata": {
    "collapsed": true,
    "jupyter": {
     "outputs_hidden": true
    },
    "tags": []
   },
   "outputs": [
    {
     "name": "stderr",
     "output_type": "stream",
     "text": [
      "/Users/davidlee/opt/anaconda3/envs/dsa4212/lib/python3.7/site-packages/ipykernel_launcher.py:34: DeprecationWarning: elementwise comparison failed; this will raise an error in the future.\n",
      "/Users/davidlee/opt/anaconda3/envs/dsa4212/lib/python3.7/site-packages/ipykernel_launcher.py:35: DeprecationWarning: elementwise comparison failed; this will raise an error in the future.\n",
      "/Users/davidlee/opt/anaconda3/envs/dsa4212/lib/python3.7/site-packages/ipykernel_launcher.py:36: DeprecationWarning: elementwise comparison failed; this will raise an error in the future.\n",
      "/Users/davidlee/opt/anaconda3/envs/dsa4212/lib/python3.7/site-packages/ipykernel_launcher.py:37: DeprecationWarning: elementwise comparison failed; this will raise an error in the future.\n"
     ]
    },
    {
     "name": "stdout",
     "output_type": "stream",
     "text": [
      "Number of images extracted: 1000, Time elapsed: 49.70\n",
      "Number of images extracted: 2000, Time elapsed: 99.35\n",
      "Number of images extracted: 3000, Time elapsed: 148.44\n",
      "Number of images extracted: 4000, Time elapsed: 197.63\n",
      "Number of images extracted: 5000, Time elapsed: 246.83\n",
      "Number of images extracted: 6000, Time elapsed: 295.99\n",
      "Number of images extracted: 7000, Time elapsed: 345.74\n",
      "Number of images extracted: 8000, Time elapsed: 395.00\n",
      "Number of images extracted: 9000, Time elapsed: 444.38\n",
      "Number of images extracted: 10000, Time elapsed: 494.12\n",
      "Number of images extracted: 11000, Time elapsed: 543.60\n",
      "Number of images extracted: 12000, Time elapsed: 592.77\n",
      "Number of images extracted: 13000, Time elapsed: 641.70\n",
      "Number of images extracted: 14000, Time elapsed: 691.23\n",
      "Number of images extracted: 15000, Time elapsed: 740.88\n",
      "Number of images extracted: 16000, Time elapsed: 790.48\n",
      "Number of images extracted: 17000, Time elapsed: 840.17\n",
      "Number of images extracted: 18000, Time elapsed: 889.67\n",
      "Number of images extracted: 19000, Time elapsed: 939.08\n",
      "Number of images extracted: 20000, Time elapsed: 988.76\n"
     ]
    },
    {
     "name": "stderr",
     "output_type": "stream",
     "text": [
      "/Users/davidlee/opt/anaconda3/envs/dsa4212/lib/python3.7/site-packages/numpy/core/fromnumeric.py:43: VisibleDeprecationWarning: Creating an ndarray from ragged nested sequences (which is a list-or-tuple of lists-or-tuples-or ndarrays with different lengths or shapes) is deprecated. If you meant to do this, you must specify 'dtype=object' when creating the ndarray.\n",
      "  result = getattr(asarray(obj), method)(*args, **kwds)\n"
     ]
    }
   ],
   "source": [
    "## Based on previous preprocessing and training setup\n",
    "# we will only use face crop of the image\n",
    "vertex = find_vertex(all_img)"
   ]
  },
  {
   "cell_type": "code",
   "execution_count": 28,
   "metadata": {
    "collapsed": true,
    "jupyter": {
     "outputs_hidden": true
    },
    "tags": []
   },
   "outputs": [
    {
     "name": "stdout",
     "output_type": "stream",
     "text": [
      "Number of images imported: 1000, Time elapsed: 0.64\n",
      "Number of images imported: 2000, Time elapsed: 1.24\n",
      "Number of images imported: 3000, Time elapsed: 1.84\n",
      "Number of images imported: 4000, Time elapsed: 2.44\n",
      "Number of images imported: 5000, Time elapsed: 3.04\n",
      "Number of images imported: 6000, Time elapsed: 3.65\n",
      "Number of images imported: 7000, Time elapsed: 4.25\n",
      "Number of images imported: 8000, Time elapsed: 4.85\n",
      "Number of images imported: 9000, Time elapsed: 5.45\n",
      "Number of images imported: 10000, Time elapsed: 6.06\n",
      "Number of images imported: 11000, Time elapsed: 6.66\n",
      "Number of images imported: 12000, Time elapsed: 7.27\n",
      "Number of images imported: 13000, Time elapsed: 7.87\n",
      "Number of images imported: 14000, Time elapsed: 8.49\n",
      "Number of images imported: 15000, Time elapsed: 9.16\n",
      "Number of images imported: 1000, Time elapsed: 0.64\n",
      "Number of images imported: 2000, Time elapsed: 1.26\n",
      "Number of images imported: 3000, Time elapsed: 1.89\n",
      "Number of images imported: 4000, Time elapsed: 2.51\n",
      "Number of images imported: 5000, Time elapsed: 3.20\n"
     ]
    }
   ],
   "source": [
    "# del face_train, face_test\n",
    "# gc.collect()\n",
    "\n",
    "face_train = image_area_loader(train_img, vertex['face'], grey=False).reshape(-1, 3 * 104 * 104)\n",
    "face_test =  image_area_loader(test_img, vertex['face'], grey=False).reshape(-1, 3 * 104 * 104)"
   ]
  },
  {
   "cell_type": "code",
   "execution_count": 63,
   "metadata": {},
   "outputs": [],
   "source": [
    "# initialize beta at random\n",
    "np.random.seed(42)\n",
    "beta_standard_dev = 1. / np.sqrt(3) / 104\n",
    "face_beta_init = np.random.normal(0,beta_standard_dev,3*104*104)"
   ]
  },
  {
   "cell_type": "markdown",
   "metadata": {},
   "source": [
    "### 6.1 Standard SGD"
   ]
  },
  {
   "cell_type": "code",
   "execution_count": 31,
   "metadata": {
    "collapsed": true,
    "jupyter": {
     "outputs_hidden": true
    },
    "tags": []
   },
   "outputs": [
    {
     "name": "stdout",
     "output_type": "stream",
     "text": [
      "Epoch 0: 16.19 seconds, Loss: 9.26, Test Accuracy: 0.668\n",
      "Epoch 1: 12.27 seconds, Loss: 6.59, Test Accuracy: 0.717\n",
      "Epoch 2: 12.29 seconds, Loss: 5.39, Test Accuracy: 0.748\n",
      "Epoch 3: 12.26 seconds, Loss: 4.69, Test Accuracy: 0.770\n",
      "Epoch 4: 12.26 seconds, Loss: 4.17, Test Accuracy: 0.787\n",
      "Epoch 5: 12.23 seconds, Loss: 3.81, Test Accuracy: 0.797\n",
      "Epoch 6: 12.27 seconds, Loss: 3.56, Test Accuracy: 0.805\n",
      "Epoch 7: 12.26 seconds, Loss: 3.34, Test Accuracy: 0.813\n",
      "Epoch 8: 12.24 seconds, Loss: 3.16, Test Accuracy: 0.819\n",
      "Epoch 9: 12.22 seconds, Loss: 2.99, Test Accuracy: 0.823\n",
      "Epoch 10: 12.22 seconds, Loss: 2.86, Test Accuracy: 0.828\n",
      "Epoch 11: 12.25 seconds, Loss: 2.74, Test Accuracy: 0.832\n",
      "Epoch 12: 12.22 seconds, Loss: 2.66, Test Accuracy: 0.836\n",
      "Epoch 13: 12.23 seconds, Loss: 2.57, Test Accuracy: 0.839\n",
      "Epoch 14: 12.22 seconds, Loss: 2.51, Test Accuracy: 0.843\n",
      "Epoch 15: 12.25 seconds, Loss: 2.44, Test Accuracy: 0.845\n",
      "Epoch 16: 12.25 seconds, Loss: 2.36, Test Accuracy: 0.847\n",
      "Epoch 17: 12.26 seconds, Loss: 2.31, Test Accuracy: 0.849\n",
      "Epoch 18: 12.24 seconds, Loss: 2.25, Test Accuracy: 0.851\n",
      "Epoch 19: 12.23 seconds, Loss: 2.22, Test Accuracy: 0.853\n"
     ]
    }
   ],
   "source": [
    "beta_SGD, record_SGD = train_SGD(\n",
    "    face_train, train_label, face_test, test_label, face_beta_init, 1e-7, loss_LR_values_and_grad, n_epoch = 20, mb_size = 32, verbose = 1)"
   ]
  },
  {
   "cell_type": "markdown",
   "metadata": {},
   "source": [
    "### 6.2 SGD Annealing with Learning Rate Step Decay"
   ]
  },
  {
   "cell_type": "code",
   "execution_count": 32,
   "metadata": {
    "collapsed": true,
    "jupyter": {
     "outputs_hidden": true
    },
    "tags": []
   },
   "outputs": [
    {
     "name": "stdout",
     "output_type": "stream",
     "text": [
      "Epoch 0: 12.52 seconds, Loss: 9.26, Test Accuracy: 0.666\n",
      "Epoch 1: 12.24 seconds, Loss: 6.60, Test Accuracy: 0.717\n",
      "Epoch 2: 12.25 seconds, Loss: 5.40, Test Accuracy: 0.748\n",
      "Epoch 3: 12.33 seconds, Loss: 4.71, Test Accuracy: 0.771\n",
      "Epoch 4: 12.23 seconds, Loss: 4.20, Test Accuracy: 0.785\n",
      "Epoch 5: 12.22 seconds, Loss: 3.83, Test Accuracy: 0.798\n",
      "Epoch 6: 12.24 seconds, Loss: 3.67, Test Accuracy: 0.802\n",
      "Epoch 7: 12.25 seconds, Loss: 3.53, Test Accuracy: 0.806\n",
      "Epoch 8: 12.23 seconds, Loss: 3.41, Test Accuracy: 0.810\n",
      "Epoch 9: 12.23 seconds, Loss: 3.30, Test Accuracy: 0.813\n",
      "Epoch 10: 12.23 seconds, Loss: 3.20, Test Accuracy: 0.816\n",
      "Epoch 11: 12.28 seconds, Loss: 3.15, Test Accuracy: 0.818\n",
      "Epoch 12: 12.29 seconds, Loss: 3.11, Test Accuracy: 0.819\n",
      "Epoch 13: 12.25 seconds, Loss: 3.07, Test Accuracy: 0.820\n",
      "Epoch 14: 12.23 seconds, Loss: 3.03, Test Accuracy: 0.821\n",
      "Epoch 15: 12.23 seconds, Loss: 2.99, Test Accuracy: 0.822\n",
      "Epoch 16: 12.26 seconds, Loss: 2.97, Test Accuracy: 0.823\n",
      "Epoch 17: 12.27 seconds, Loss: 2.95, Test Accuracy: 0.824\n",
      "Epoch 18: 12.24 seconds, Loss: 2.93, Test Accuracy: 0.824\n",
      "Epoch 19: 12.23 seconds, Loss: 2.91, Test Accuracy: 0.825\n"
     ]
    }
   ],
   "source": [
    "beta_step, record_step = train_SGD_step_decay(\n",
    "    face_train, train_label, face_test, test_label, face_beta_init, 1e-7, loss_LR_values_and_grad, n_epoch = 20, mb_size=32, verbose = 1)"
   ]
  },
  {
   "cell_type": "markdown",
   "metadata": {},
   "source": [
    "### 6.3 SGD Annealing with Heuristic"
   ]
  },
  {
   "cell_type": "code",
   "execution_count": 33,
   "metadata": {
    "collapsed": true,
    "jupyter": {
     "outputs_hidden": true
    },
    "tags": []
   },
   "outputs": [
    {
     "name": "stdout",
     "output_type": "stream",
     "text": [
      "Epoch 0: 12.78 seconds, Loss: 9.22, Test Accuracy: 0.667\n",
      "Epoch 1: 12.32 seconds, Loss: 6.60, Test Accuracy: 0.717\n",
      "Epoch 2: 12.28 seconds, Loss: 5.42, Test Accuracy: 0.748\n",
      "Epoch 3: 12.28 seconds, Loss: 4.69, Test Accuracy: 0.772\n",
      "Epoch 4: 12.28 seconds, Loss: 4.18, Test Accuracy: 0.786\n",
      "Epoch 5: 12.29 seconds, Loss: 3.81, Test Accuracy: 0.798\n",
      "Epoch 6: 12.26 seconds, Loss: 3.53, Test Accuracy: 0.806\n",
      "Epoch 7: 12.32 seconds, Loss: 3.34, Test Accuracy: 0.813\n",
      "Epoch 8: 12.30 seconds, Loss: 3.14, Test Accuracy: 0.819\n",
      "Epoch 9: 12.30 seconds, Loss: 2.98, Test Accuracy: 0.824\n",
      "Epoch 10: 12.25 seconds, Loss: 2.86, Test Accuracy: 0.828\n",
      "Epoch 11: 12.26 seconds, Loss: 2.72, Test Accuracy: 0.833\n",
      "Epoch 12: 12.27 seconds, Loss: 2.68, Test Accuracy: 0.834\n",
      "Epoch 13: 12.27 seconds, Loss: 2.62, Test Accuracy: 0.836\n",
      "Epoch 14: 12.29 seconds, Loss: 2.58, Test Accuracy: 0.837\n",
      "Epoch 15: 12.27 seconds, Loss: 2.56, Test Accuracy: 0.838\n",
      "Epoch 16: 12.27 seconds, Loss: 2.54, Test Accuracy: 0.838\n",
      "Epoch 17: 12.30 seconds, Loss: 2.54, Test Accuracy: 0.838\n",
      "Epoch 18: 12.26 seconds, Loss: 2.53, Test Accuracy: 0.838\n",
      "Epoch 19: 12.28 seconds, Loss: 2.53, Test Accuracy: 0.838\n"
     ]
    }
   ],
   "source": [
    "beta_heuristic, record_heuristic = train_SGD_heuristic(\n",
    "    face_train, train_label, face_test, test_label, face_beta_init, 1e-7, loss_LR_values_and_grad, n_epoch = 20,  mb_size=32, verbose = 1)"
   ]
  },
  {
   "cell_type": "markdown",
   "metadata": {},
   "source": [
    "### 6.4 SGD Annealing with 1/t Scheduled Decay"
   ]
  },
  {
   "cell_type": "code",
   "execution_count": 67,
   "metadata": {
    "collapsed": true,
    "jupyter": {
     "outputs_hidden": true
    },
    "tags": []
   },
   "outputs": [
    {
     "name": "stdout",
     "output_type": "stream",
     "text": [
      "Epoch 0: 12.30 seconds, Loss: 28.91, Test Accuracy: 0.654\n",
      "Epoch 1: 12.28 seconds, Loss: 12.77, Test Accuracy: 0.776\n",
      "Epoch 2: 12.27 seconds, Loss: 8.21, Test Accuracy: 0.822\n",
      "Epoch 3: 12.27 seconds, Loss: 6.25, Test Accuracy: 0.843\n",
      "Epoch 4: 12.28 seconds, Loss: 4.83, Test Accuracy: 0.863\n",
      "Epoch 5: 12.27 seconds, Loss: 3.90, Test Accuracy: 0.877\n",
      "Epoch 6: 12.27 seconds, Loss: 3.22, Test Accuracy: 0.885\n",
      "Epoch 7: 12.31 seconds, Loss: 2.75, Test Accuracy: 0.893\n",
      "Epoch 8: 12.29 seconds, Loss: 2.52, Test Accuracy: 0.896\n",
      "Epoch 9: 12.28 seconds, Loss: 2.30, Test Accuracy: 0.900\n",
      "Epoch 10: 12.31 seconds, Loss: 2.12, Test Accuracy: 0.903\n",
      "Epoch 11: 12.27 seconds, Loss: 1.96, Test Accuracy: 0.905\n",
      "Epoch 12: 12.32 seconds, Loss: 1.90, Test Accuracy: 0.907\n",
      "Epoch 13: 12.33 seconds, Loss: 1.81, Test Accuracy: 0.908\n",
      "Epoch 14: 12.29 seconds, Loss: 1.75, Test Accuracy: 0.909\n",
      "Epoch 15: 12.27 seconds, Loss: 1.71, Test Accuracy: 0.909\n",
      "Epoch 16: 12.30 seconds, Loss: 1.67, Test Accuracy: 0.910\n",
      "Epoch 17: 12.55 seconds, Loss: 1.64, Test Accuracy: 0.910\n",
      "Epoch 18: 12.52 seconds, Loss: 1.61, Test Accuracy: 0.910\n",
      "Epoch 19: 12.40 seconds, Loss: 1.61, Test Accuracy: 0.911\n"
     ]
    }
   ],
   "source": [
    "beta_schedule, record_schedule = train_SGD_scheduled_decay(\n",
    "    face_train, train_label, face_test, test_label, face_beta_init, 1e-6, loss_LR_values_and_grad, n_epoch = 20, mb_size = 32, verbose = 1, decay_constant=0.02)"
   ]
  },
  {
   "cell_type": "markdown",
   "metadata": {},
   "source": [
    "### 6.5 SGD with Momentum"
   ]
  },
  {
   "cell_type": "code",
   "execution_count": 66,
   "metadata": {
    "collapsed": true,
    "jupyter": {
     "outputs_hidden": true
    },
    "tags": []
   },
   "outputs": [
    {
     "name": "stdout",
     "output_type": "stream",
     "text": [
      "Epoch 0: 12.38 seconds, Loss: 6.73, Test Accuracy: 0.748\n",
      "Epoch 1: 12.35 seconds, Loss: 3.35, Test Accuracy: 0.837\n",
      "Epoch 2: 12.30 seconds, Loss: 2.66, Test Accuracy: 0.855\n",
      "Epoch 3: 12.29 seconds, Loss: 2.56, Test Accuracy: 0.859\n",
      "Epoch 4: 12.32 seconds, Loss: 2.37, Test Accuracy: 0.868\n",
      "Epoch 5: 12.33 seconds, Loss: 2.24, Test Accuracy: 0.870\n",
      "Epoch 6: 12.30 seconds, Loss: 2.02, Test Accuracy: 0.877\n",
      "Epoch 7: 12.32 seconds, Loss: 1.97, Test Accuracy: 0.879\n",
      "Epoch 8: 12.43 seconds, Loss: 1.88, Test Accuracy: 0.885\n",
      "Epoch 9: 12.54 seconds, Loss: 1.70, Test Accuracy: 0.888\n",
      "Epoch 10: 12.43 seconds, Loss: 1.80, Test Accuracy: 0.883\n",
      "Epoch 11: 12.39 seconds, Loss: 1.51, Test Accuracy: 0.892\n",
      "Epoch 12: 12.30 seconds, Loss: 1.73, Test Accuracy: 0.886\n",
      "Epoch 13: 12.47 seconds, Loss: 1.51, Test Accuracy: 0.895\n",
      "Epoch 14: 12.43 seconds, Loss: 1.53, Test Accuracy: 0.890\n",
      "Epoch 15: 12.37 seconds, Loss: 1.32, Test Accuracy: 0.900\n",
      "Epoch 16: 12.41 seconds, Loss: 1.53, Test Accuracy: 0.891\n",
      "Epoch 17: 12.39 seconds, Loss: 1.32, Test Accuracy: 0.897\n",
      "Epoch 18: 12.40 seconds, Loss: 1.36, Test Accuracy: 0.896\n",
      "Epoch 19: 12.38 seconds, Loss: 1.39, Test Accuracy: 0.893\n"
     ]
    }
   ],
   "source": [
    "beta_mom, record_mom = train_SGD_mom(\n",
    "    face_train, train_label, face_test, test_label, face_beta_init, 1e-7, loss_LR_values_and_grad, n_epoch = 20, mb_size = 32, verbose = 1, mom_constant=0.9)"
   ]
  },
  {
   "cell_type": "markdown",
   "metadata": {},
   "source": [
    "### 6.5.1 SGD with Momentum and Scheduled Decay"
   ]
  },
  {
   "cell_type": "code",
   "execution_count": 70,
   "metadata": {
    "collapsed": true,
    "jupyter": {
     "outputs_hidden": true
    },
    "tags": []
   },
   "outputs": [
    {
     "name": "stdout",
     "output_type": "stream",
     "text": [
      "Epoch 0: 12.43 seconds, Loss: 14.85, Test Accuracy: 0.797\n",
      "Epoch 1: 12.31 seconds, Loss: 10.29, Test Accuracy: 0.852\n",
      "Epoch 2: 12.30 seconds, Loss: 12.22, Test Accuracy: 0.853\n",
      "Epoch 3: 12.30 seconds, Loss: 10.45, Test Accuracy: 0.874\n",
      "Epoch 4: 12.33 seconds, Loss: 9.55, Test Accuracy: 0.878\n",
      "Epoch 5: 12.36 seconds, Loss: 8.49, Test Accuracy: 0.882\n",
      "Epoch 6: 12.35 seconds, Loss: 7.18, Test Accuracy: 0.894\n",
      "Epoch 7: 12.32 seconds, Loss: 9.02, Test Accuracy: 0.879\n",
      "Epoch 8: 12.32 seconds, Loss: 5.37, Test Accuracy: 0.907\n",
      "Epoch 9: 12.31 seconds, Loss: 4.40, Test Accuracy: 0.915\n",
      "Epoch 10: 12.32 seconds, Loss: 4.14, Test Accuracy: 0.915\n",
      "Epoch 11: 12.33 seconds, Loss: 3.46, Test Accuracy: 0.919\n",
      "Epoch 12: 12.32 seconds, Loss: 3.21, Test Accuracy: 0.920\n",
      "Epoch 13: 12.31 seconds, Loss: 3.03, Test Accuracy: 0.920\n",
      "Epoch 14: 12.36 seconds, Loss: 2.68, Test Accuracy: 0.925\n",
      "Epoch 15: 12.33 seconds, Loss: 2.32, Test Accuracy: 0.926\n",
      "Epoch 16: 12.31 seconds, Loss: 2.20, Test Accuracy: 0.928\n",
      "Epoch 17: 12.33 seconds, Loss: 2.13, Test Accuracy: 0.929\n",
      "Epoch 18: 12.34 seconds, Loss: 2.02, Test Accuracy: 0.929\n",
      "Epoch 19: 12.31 seconds, Loss: 1.98, Test Accuracy: 0.929\n"
     ]
    }
   ],
   "source": [
    "beta_mom_schedule, record_mom_schedule = train_SGD_mom_scheduled_decay(\n",
    "    face_train, train_label, face_test, test_label, face_beta_init, 1e-6, loss_LR_values_and_grad, n_epoch = 20, mb_size = 32, verbose = 1, decay_constant=0.02, mom_constant=0.9)"
   ]
  },
  {
   "cell_type": "markdown",
   "metadata": {},
   "source": [
    "### 6.6 Quasi-Newton: BFGS"
   ]
  },
  {
   "cell_type": "code",
   "execution_count": 30,
   "metadata": {
    "collapsed": true,
    "jupyter": {
     "outputs_hidden": true
    },
    "tags": []
   },
   "outputs": [
    {
     "name": "stdout",
     "output_type": "stream",
     "text": [
      "0.5\n",
      "0.25\n",
      "0.125\n",
      "0.0625\n",
      "0.03125\n",
      "0.015625\n",
      "0.0078125\n",
      "0.00390625\n",
      "0.001953125\n",
      "0.0009765625\n",
      "0.00048828125\n",
      "0.000244140625\n",
      "0.0001220703125\n",
      "6.103515625e-05\n",
      "3.0517578125e-05\n",
      "1.52587890625e-05\n",
      "7.62939453125e-06\n",
      "3.814697265625e-06\n",
      "1.9073486328125e-06\n",
      "9.5367431640625e-07\n",
      "4.76837158203125e-07\n",
      "before update B_inv\n",
      "(32448, 32448)\n",
      "(32448, 32448)\n",
      "after update B_inv\n",
      "Epoch 0: 135.01 seconds, Loss: 17.30, Test Accuracy: 0.541\n",
      "0.5\n",
      "0.25\n",
      "0.125\n",
      "0.0625\n",
      "0.03125\n",
      "0.015625\n",
      "0.0078125\n",
      "0.00390625\n",
      "0.001953125\n",
      "0.0009765625\n",
      "0.00048828125\n",
      "0.000244140625\n",
      "0.0001220703125\n",
      "6.103515625e-05\n",
      "3.0517578125e-05\n",
      "1.52587890625e-05\n",
      "before update B_inv\n",
      "(32448, 32448)\n",
      "(32448, 32448)\n",
      "after update B_inv\n",
      "Epoch 1: 203.66 seconds, Loss: 17.02, Test Accuracy: 0.605\n",
      "0.5\n",
      "0.25\n",
      "0.125\n",
      "0.0625\n",
      "0.03125\n",
      "0.015625\n",
      "0.0078125\n",
      "0.00390625\n",
      "0.001953125\n",
      "0.0009765625\n",
      "0.00048828125\n",
      "0.000244140625\n",
      "0.0001220703125\n",
      "before update B_inv\n",
      "(32448, 32448)\n",
      "(32448, 32448)\n",
      "after update B_inv\n",
      "Epoch 2: 202.22 seconds, Loss: 14.69, Test Accuracy: 0.645\n",
      "0.5\n",
      "0.25\n",
      "0.125\n",
      "0.0625\n",
      "0.03125\n",
      "0.015625\n",
      "0.0078125\n",
      "0.00390625\n",
      "0.001953125\n",
      "0.0009765625\n",
      "0.00048828125\n",
      "0.000244140625\n",
      "0.0001220703125\n",
      "6.103515625e-05\n",
      "before update B_inv\n",
      "(32448, 32448)\n",
      "(32448, 32448)\n",
      "after update B_inv\n",
      "Epoch 3: 202.14 seconds, Loss: 14.41, Test Accuracy: 0.701\n",
      "0.5\n",
      "0.25\n",
      "0.125\n",
      "0.0625\n",
      "0.03125\n",
      "0.015625\n",
      "0.0078125\n",
      "0.00390625\n",
      "0.001953125\n",
      "0.0009765625\n",
      "0.00048828125\n",
      "0.000244140625\n",
      "0.0001220703125\n",
      "before update B_inv\n",
      "(32448, 32448)\n",
      "(32448, 32448)\n",
      "after update B_inv\n",
      "Epoch 4: 200.99 seconds, Loss: 13.23, Test Accuracy: 0.768\n",
      "0.5\n",
      "0.25\n",
      "0.125\n",
      "0.0625\n",
      "0.03125\n",
      "0.015625\n",
      "0.0078125\n",
      "0.00390625\n",
      "0.001953125\n",
      "0.0009765625\n",
      "0.00048828125\n",
      "0.000244140625\n",
      "before update B_inv\n",
      "(32448, 32448)\n",
      "(32448, 32448)\n",
      "after update B_inv\n",
      "Epoch 5: 197.64 seconds, Loss: 12.96, Test Accuracy: 0.788\n",
      "0.5\n",
      "0.25\n",
      "0.125\n",
      "0.0625\n",
      "0.03125\n",
      "0.015625\n",
      "0.0078125\n",
      "0.00390625\n",
      "0.001953125\n",
      "0.0009765625\n",
      "0.00048828125\n",
      "before update B_inv\n",
      "(32448, 32448)\n",
      "(32448, 32448)\n",
      "after update B_inv\n",
      "Epoch 6: 196.30 seconds, Loss: 12.39, Test Accuracy: 0.826\n",
      "0.5\n",
      "0.25\n",
      "0.125\n",
      "0.0625\n",
      "0.03125\n",
      "0.015625\n",
      "0.0078125\n",
      "0.00390625\n",
      "0.001953125\n",
      "0.0009765625\n",
      "0.00048828125\n",
      "before update B_inv\n",
      "(32448, 32448)\n",
      "(32448, 32448)\n",
      "after update B_inv\n",
      "Epoch 7: 200.51 seconds, Loss: 10.68, Test Accuracy: 0.841\n",
      "0.5\n",
      "0.25\n",
      "0.125\n",
      "0.0625\n",
      "0.03125\n",
      "0.015625\n",
      "0.0078125\n",
      "0.00390625\n",
      "0.001953125\n",
      "0.0009765625\n",
      "before update B_inv\n",
      "(32448, 32448)\n",
      "(32448, 32448)\n",
      "after update B_inv\n",
      "Epoch 8: 199.05 seconds, Loss: 10.09, Test Accuracy: 0.854\n",
      "0.5\n",
      "0.25\n",
      "0.125\n",
      "0.0625\n",
      "0.03125\n",
      "0.015625\n",
      "0.0078125\n",
      "0.00390625\n",
      "0.001953125\n",
      "0.0009765625\n",
      "before update B_inv\n",
      "(32448, 32448)\n",
      "(32448, 32448)\n",
      "after update B_inv\n",
      "Epoch 9: 194.24 seconds, Loss: 9.33, Test Accuracy: 0.853\n",
      "0.5\n",
      "0.25\n",
      "0.125\n",
      "0.0625\n",
      "0.03125\n",
      "0.015625\n",
      "0.0078125\n",
      "0.00390625\n",
      "0.001953125\n",
      "0.0009765625\n",
      "before update B_inv\n",
      "(32448, 32448)\n",
      "(32448, 32448)\n",
      "after update B_inv\n",
      "Epoch 10: 201.06 seconds, Loss: 8.92, Test Accuracy: 0.862\n",
      "0.5\n",
      "0.25\n",
      "0.125\n",
      "0.0625\n",
      "0.03125\n",
      "0.015625\n",
      "0.0078125\n",
      "0.00390625\n",
      "0.001953125\n",
      "0.0009765625\n",
      "before update B_inv\n",
      "(32448, 32448)\n",
      "(32448, 32448)\n",
      "after update B_inv\n",
      "Epoch 11: 205.89 seconds, Loss: 8.26, Test Accuracy: 0.869\n",
      "0.5\n",
      "0.25\n",
      "0.125\n",
      "0.0625\n",
      "0.03125\n",
      "0.015625\n",
      "0.0078125\n",
      "0.00390625\n",
      "0.001953125\n",
      "0.0009765625\n",
      "before update B_inv\n",
      "(32448, 32448)\n",
      "(32448, 32448)\n",
      "after update B_inv\n",
      "Epoch 12: 199.85 seconds, Loss: 7.86, Test Accuracy: 0.873\n",
      "0.5\n",
      "0.25\n",
      "0.125\n",
      "0.0625\n",
      "0.03125\n",
      "0.015625\n",
      "0.0078125\n",
      "0.00390625\n",
      "0.001953125\n",
      "before update B_inv\n",
      "(32448, 32448)\n",
      "(32448, 32448)\n",
      "after update B_inv\n",
      "Epoch 13: 201.39 seconds, Loss: 7.65, Test Accuracy: 0.873\n",
      "0.5\n",
      "0.25\n",
      "0.125\n",
      "0.0625\n",
      "0.03125\n",
      "0.015625\n",
      "0.0078125\n",
      "0.00390625\n",
      "0.001953125\n",
      "before update B_inv\n",
      "(32448, 32448)\n",
      "(32448, 32448)\n",
      "after update B_inv\n",
      "Epoch 14: 195.86 seconds, Loss: 7.38, Test Accuracy: 0.874\n",
      "0.5\n",
      "0.25\n",
      "0.125\n",
      "0.0625\n",
      "0.03125\n",
      "0.015625\n",
      "0.0078125\n",
      "0.00390625\n",
      "0.001953125\n",
      "before update B_inv\n",
      "(32448, 32448)\n",
      "(32448, 32448)\n",
      "after update B_inv\n",
      "Epoch 15: 199.80 seconds, Loss: 7.25, Test Accuracy: 0.875\n",
      "0.5\n",
      "0.25\n",
      "0.125\n",
      "0.0625\n",
      "0.03125\n",
      "0.015625\n",
      "0.0078125\n",
      "0.00390625\n",
      "0.001953125\n",
      "0.0009765625\n",
      "before update B_inv\n",
      "(32448, 32448)\n",
      "(32448, 32448)\n",
      "after update B_inv\n",
      "Epoch 16: 195.68 seconds, Loss: 7.11, Test Accuracy: 0.875\n",
      "0.5\n",
      "0.25\n",
      "0.125\n",
      "0.0625\n",
      "0.03125\n",
      "0.015625\n",
      "0.0078125\n",
      "0.00390625\n",
      "0.001953125\n",
      "before update B_inv\n",
      "(32448, 32448)\n",
      "(32448, 32448)\n",
      "after update B_inv\n",
      "Epoch 17: 201.07 seconds, Loss: 6.88, Test Accuracy: 0.877\n",
      "0.5\n",
      "0.25\n",
      "0.125\n",
      "0.0625\n",
      "0.03125\n",
      "0.015625\n",
      "0.0078125\n",
      "0.00390625\n",
      "0.001953125\n",
      "before update B_inv\n",
      "(32448, 32448)\n",
      "(32448, 32448)\n",
      "after update B_inv\n",
      "Epoch 18: 202.68 seconds, Loss: 6.72, Test Accuracy: 0.881\n",
      "0.5\n",
      "0.25\n",
      "0.125\n",
      "0.0625\n",
      "0.03125\n",
      "0.015625\n",
      "0.0078125\n",
      "0.00390625\n",
      "0.001953125\n",
      "before update B_inv\n",
      "(32448, 32448)\n",
      "(32448, 32448)\n",
      "after update B_inv\n",
      "Epoch 19: 197.53 seconds, Loss: 6.36, Test Accuracy: 0.882\n"
     ]
    }
   ],
   "source": [
    "beta_BFGS, record_BFGS = train_BFGS(\n",
    "    face_train, train_label, face_test, test_label, face_beta_init, 1e-7, loss_LR_values_and_grad, n_epoch = 20, verbose = 1)"
   ]
  },
  {
   "cell_type": "code",
   "execution_count": 76,
   "metadata": {},
   "outputs": [
    {
     "data": {
      "image/png": "[encoded data removed]",
      "text/plain": [
       "<Figure size 1152x720 with 1 Axes>"
      ]
     },
     "metadata": {
      "needs_background": "light"
     },
     "output_type": "display_data"
    }
   ],
   "source": [
    "record_step['name'] = \"SGD_Step_Decay\"\n",
    "record_heuristic['name'] = \"SGD_Heuristic_Decay\"\n",
    "record_schedule['name'] = \"SGD_1/t_Scheduled_Decay\"\n",
    "record_mom['name'] = 'SGD_Momentum'\n",
    "record_mom_schedule['name'] = \"SGD_Momentum_1/t_Scheduled_Decay\"\n",
    "\n",
    "record_list_optim = [record_SGD, record_step, record_heuristic, record_schedule, record_mom, record_mom_schedule, record_BFGS]\n",
    "record_graph(record_list_optim, 'test_acc_epoch', \"Relationship Between Test Accuracy and Optimization Algorithms\")"
   ]
  },
  {
   "cell_type": "markdown",
   "metadata": {},
   "source": [
    "## 7. Final Model: SGD with Momentum and 1/t Scheduled Decay"
   ]
  },
  {
   "cell_type": "code",
   "execution_count": 93,
   "metadata": {},
   "outputs": [
    {
     "name": "stdout",
     "output_type": "stream",
     "text": [
      "Epoch 0: 12.39 seconds, Loss: 19.13, Test Accuracy: 0.782\n",
      "Epoch 1: 12.31 seconds, Loss: 11.32, Test Accuracy: 0.855\n",
      "Epoch 2: 12.29 seconds, Loss: 10.48, Test Accuracy: 0.865\n",
      "Epoch 3: 12.30 seconds, Loss: 8.78, Test Accuracy: 0.879\n",
      "Epoch 4: 12.30 seconds, Loss: 11.28, Test Accuracy: 0.871\n",
      "Epoch 5: 12.32 seconds, Loss: 9.04, Test Accuracy: 0.881\n",
      "Epoch 6: 12.30 seconds, Loss: 6.76, Test Accuracy: 0.898\n",
      "Epoch 7: 12.29 seconds, Loss: 7.04, Test Accuracy: 0.892\n",
      "Epoch 8: 12.30 seconds, Loss: 6.93, Test Accuracy: 0.893\n",
      "Epoch 9: 12.30 seconds, Loss: 4.74, Test Accuracy: 0.913\n",
      "Epoch 10: 12.34 seconds, Loss: 4.59, Test Accuracy: 0.908\n",
      "Epoch 11: 12.31 seconds, Loss: 4.08, Test Accuracy: 0.913\n",
      "Epoch 12: 12.31 seconds, Loss: 3.91, Test Accuracy: 0.913\n",
      "Epoch 13: 12.34 seconds, Loss: 3.66, Test Accuracy: 0.915\n",
      "Epoch 14: 12.30 seconds, Loss: 3.01, Test Accuracy: 0.923\n",
      "Epoch 15: 12.31 seconds, Loss: 2.57, Test Accuracy: 0.924\n",
      "Epoch 16: 12.31 seconds, Loss: 2.32, Test Accuracy: 0.927\n",
      "Epoch 17: 12.30 seconds, Loss: 2.34, Test Accuracy: 0.926\n",
      "Epoch 18: 12.30 seconds, Loss: 2.15, Test Accuracy: 0.926\n",
      "Epoch 19: 12.34 seconds, Loss: 2.00, Test Accuracy: 0.929\n",
      "Epoch 20: 12.34 seconds, Loss: 1.92, Test Accuracy: 0.930\n",
      "Epoch 21: 12.30 seconds, Loss: 1.83, Test Accuracy: 0.931\n",
      "Epoch 22: 12.32 seconds, Loss: 1.80, Test Accuracy: 0.932\n",
      "Epoch 23: 12.31 seconds, Loss: 1.75, Test Accuracy: 0.931\n",
      "Epoch 24: 12.30 seconds, Loss: 1.70, Test Accuracy: 0.932\n",
      "Epoch 25: 12.30 seconds, Loss: 1.67, Test Accuracy: 0.932\n",
      "Epoch 26: 12.31 seconds, Loss: 1.67, Test Accuracy: 0.932\n",
      "Epoch 27: 12.36 seconds, Loss: 1.65, Test Accuracy: 0.932\n",
      "Epoch 28: 12.31 seconds, Loss: 1.65, Test Accuracy: 0.932\n",
      "Epoch 29: 12.31 seconds, Loss: 1.64, Test Accuracy: 0.932\n"
     ]
    }
   ],
   "source": [
    "beta_final, record_final = train_SGD_mom_scheduled_decay(\n",
    "    face_train, train_label, face_test, test_label, face_beta_init, 1e-6, loss_LR_values_and_grad, n_epoch = 30, mb_size = 32, verbose = 1, decay_constant=0.015, mom_constant=0.9)"
   ]
  },
  {
   "cell_type": "code",
   "execution_count": 95,
   "metadata": {},
   "outputs": [
    {
     "data": {
      "text/plain": [
       "<matplotlib.legend.Legend at 0x7fd1a9e07c90>"
      ]
     },
     "execution_count": 95,
     "metadata": {},
     "output_type": "execute_result"
    },
    {
     "data": {
      "image/png": "[encoded data removed]",
      "text/plain": [
       "<Figure size 1152x720 with 1 Axes>"
      ]
     },
     "metadata": {
      "needs_background": "light"
     },
     "output_type": "display_data"
    }
   ],
   "source": [
    "record_final['name'] = \"SGD_Momentum_1/t_Scheduled_Decay\"\n",
    "record_graph([record_final], 'test_acc_epoch', \"Test Accuracy of the Final Model\")\n",
    "plt.legend(loc='upper left')"
   ]
  },
  {
   "cell_type": "code",
   "execution_count": 96,
   "metadata": {},
   "outputs": [
    {
     "data": {
      "image/png": "[encoded data removed]",
      "text/plain": [
       "<Figure size 1152x720 with 1 Axes>"
      ]
     },
     "metadata": {
      "needs_background": "light"
     },
     "output_type": "display_data"
    }
   ],
   "source": [
    "record_graph([record_final], 'loss_epoch', \"Training Loss of the Final Model\")"
   ]
  },
  {
   "cell_type": "markdown",
   "metadata": {},
   "source": [
    "### 7.1 Report Final Model Accuracy and AUC on Test Set"
   ]
  },
  {
   "cell_type": "code",
   "execution_count": 103,
   "metadata": {},
   "outputs": [
    {
     "name": "stdout",
     "output_type": "stream",
     "text": [
      "Test Accuracy is 0.93\n",
      "Test AUC is 0.97\n"
     ]
    }
   ],
   "source": [
    "acc_test_final, auc_test_final = test_acc_auc(beta_final, test_label, face_test)"
   ]
  },
  {
   "cell_type": "markdown",
   "metadata": {},
   "source": [
    "## 8. Training with only 200 images?"
   ]
  },
  {
   "cell_type": "code",
   "execution_count": 51,
   "metadata": {
    "jupyter": {
     "source_hidden": true
    },
    "tags": []
   },
   "outputs": [],
   "source": [
    "## with fixed mom_constant\n",
    "def train_SGD_mom(train_img, train_label, beta_init, lr, val_grad_fn, lr_decay=0.5, n_steps=5, verbose = 0, n_epoch=10, mb_size=100, mom_constant=0.5):\n",
    "    \"\"\"\n",
    "     Find optimized beta given train images and train labels with fix epoch learning rate decay using SGD plus momentum\n",
    "     \n",
    "    Inputs:\n",
    "     train_img: Training images (in the format of [n,:] array, where n is the number of images)\n",
    "     train_label: Training labels (in the format of [n, 1] array, where n is the number of labels)\n",
    "     beta: Starting point of beta (weights)\n",
    "     lr: Learning rate\n",
    "     val_grad_fn: Function to return the loss value and gradient given X and Y\n",
    "     lr_decay: Learning rate decay rate, default 0.5\n",
    "     n_steps: Number of epochs to decay the learning rate\n",
    "     verbose: Print time elapsed, training loss and test accuracy for each epoch if verbose = 1, default 0\n",
    "     n_epoch: Number of epoch to run the algo, default 10\n",
    "     mb_size: Minibatch size, default 100\n",
    "     mom_constant: choise of momentum constant, default 0.5\n",
    "\n",
    "    Outputs:\n",
    "     beta: The final updated values of beta\n",
    "     record: A dictionary of performance during training, including 'loss_epoch', 'loss_mb', 'test_acc_epoch', 'test_acc_mb' \n",
    "    \"\"\"\n",
    "    minibatch_size = mb_size #size of the minibatchs\n",
    "    N = len(train_img)  #15000, total number of images\n",
    "    img_indices = np.arange(N)\n",
    "\n",
    "    loss_history_epoch = []\n",
    "    loss_history_mb = []\n",
    "    test_acc_history_epoch = []\n",
    "    test_acc_history_mb = []\n",
    "    \n",
    "    beta = np.copy(beta_init)\n",
    "    beta_old = np.copy(beta_init)\n",
    "    learning_rate = lr\n",
    "    \n",
    "    np.random.seed(42)\n",
    "\n",
    "    for epoch in range(n_epoch):\n",
    "        # go through all the minibatches, sequetially\n",
    "        start = time.time()\n",
    "        n_minibatch = N // minibatch_size + 1\n",
    "        # randomize the batches\n",
    "        np.random.shuffle(img_indices)\n",
    "\n",
    "        all_loss_within_epoch = []\n",
    "        all_acc_within_epoch = []\n",
    "        for k in range(n_minibatch):\n",
    "            # create the minibatch of examples\n",
    "            batch_indices = np.arange(k*minibatch_size, (k+1)*minibatch_size) % N\n",
    "            batch_indices = img_indices[batch_indices]\n",
    "            X_minibatch = train_img[batch_indices]\n",
    "            Y_minibatch = train_label[batch_indices]\n",
    "\n",
    "            # compute the stochastic gradient\n",
    "            val, grad = val_grad_fn(beta, X_minibatch, Y_minibatch)\n",
    "\n",
    "            # do one step of SGD\n",
    "            mom = beta - beta_old\n",
    "            beta_old = beta\n",
    "            beta = beta - learning_rate*grad + mom_constant*mom\n",
    "\n",
    "\n",
    "            # book-keeping\n",
    "            loss_history_mb.append(val)\n",
    "            all_loss_within_epoch.append(val)\n",
    "            \n",
    "            test_acc_mb = test_acc(beta, test_label, test_img_arr)\n",
    "            test_acc_history_mb.append(test_acc_mb)\n",
    "            all_acc_within_epoch.append(test_acc_mb)\n",
    "            \n",
    "        loss_epoch = np.mean(all_loss_within_epoch)\n",
    "        loss_history_epoch.append(loss_epoch)\n",
    "        \n",
    "        test_acc_epoch = np.mean(all_acc_within_epoch)\n",
    "        test_acc_history_epoch.append(test_acc_epoch)\n",
    "        \n",
    "        end = time.time()\n",
    "        duration = end - start\n",
    "        \n",
    "\n",
    "        if verbose == 1:\n",
    "            print(f\"Epoch {epoch}: {duration:.2f} seconds, Loss: {loss_epoch:.2f}, Test Accuracy: {test_acc_epoch:.3f}\")\n",
    "            \n",
    "    record = {'name': \"Momentum\",\n",
    "              'loss_epoch': loss_history_epoch,\n",
    "              'loss_mb': loss_history_mb,\n",
    "              'test_acc_epoch': test_acc_history_epoch,\n",
    "              'test_acc_mb': test_acc_history_mb}\n",
    "    \n",
    "    return beta, record\n",
    "\n",
    "## with fixed mom_constant\n",
    "def train_SGD_mom_scheduled(train_img, train_label, beta_init, lr, val_grad_fn, n_steps=5, verbose = 0, n_epoch=10, mb_size=100, mom_constant=0.5, decay_constant=0.5):\n",
    "    \"\"\"\n",
    "     Find optimized beta given train images and train labels with fix epoch learning rate decay using SGD plus momentum\n",
    "     \n",
    "    Inputs:\n",
    "     train_img: Training images (in the format of [n,:] array, where n is the number of images)\n",
    "     train_label: Training labels (in the format of [n, 1] array, where n is the number of labels)\n",
    "     beta: Starting point of beta (weights)\n",
    "     lr: Learning rate\n",
    "     val_grad_fn: Function to return the loss value and gradient given X and Y\n",
    "     lr_decay: Learning rate decay rate, default 0.5\n",
    "     n_steps: Number of epochs to decay the learning rate\n",
    "     verbose: Print time elapsed, training loss and test accuracy for each epoch if verbose = 1, default 0\n",
    "     n_epoch: Number of epoch to run the algo, default 10\n",
    "     mb_size: Minibatch size, default 100\n",
    "     mom_constant: choice of momentum constant, default 0.5\n",
    "     decay_constant: choice of decay_constant, defult 0.5\n",
    "\n",
    "    Outputs:\n",
    "     beta: The final updated values of beta\n",
    "     record: A dictionary of performance during training, including 'loss_epoch', 'loss_mb', 'test_acc_epoch', 'test_acc_mb' \n",
    "    \"\"\"\n",
    "    minibatch_size = mb_size #size of the minibatchs\n",
    "    N = len(train_img)  #15000, total number of images\n",
    "    img_indices = np.arange(N)\n",
    "\n",
    "    loss_history_epoch = []\n",
    "    loss_history_mb = []\n",
    "    test_acc_history_epoch = []\n",
    "    test_acc_history_mb = []\n",
    "    \n",
    "    beta = np.copy(beta_init)\n",
    "    beta_old = np.copy(beta_init)\n",
    "    learning_rate = lr\n",
    "    \n",
    "    np.random.seed(42)\n",
    "\n",
    "    for epoch in range(n_epoch):\n",
    "        # go through all the minibatches, sequetially\n",
    "        start = time.time()\n",
    "        n_minibatch = N // minibatch_size + 1\n",
    "        # randomize the batches\n",
    "        np.random.shuffle(img_indices)\n",
    "\n",
    "        all_loss_within_epoch = []\n",
    "        all_acc_within_epoch = []\n",
    "        for k in range(n_minibatch):\n",
    "            # create the minibatch of examples\n",
    "            batch_indices = np.arange(k*minibatch_size, (k+1)*minibatch_size) % N\n",
    "            batch_indices = img_indices[batch_indices]\n",
    "            X_minibatch = train_img[batch_indices]\n",
    "            Y_minibatch = train_label[batch_indices]\n",
    "\n",
    "            # compute the stochastic gradient\n",
    "            val, grad = val_grad_fn(beta, X_minibatch, Y_minibatch)\n",
    "\n",
    "            # do one step of SGD\n",
    "            mom = beta - beta_old\n",
    "            beta_old = beta\n",
    "            beta = beta - learning_rate*grad + mom_constant*mom\n",
    "\n",
    "\n",
    "            # book-keeping\n",
    "            loss_history_mb.append(val)\n",
    "            all_loss_within_epoch.append(val)\n",
    "            \n",
    "            test_acc_mb = test_acc(beta, test_label, test_img_arr)\n",
    "            test_acc_history_mb.append(test_acc_mb)\n",
    "            all_acc_within_epoch.append(test_acc_mb)\n",
    "            \n",
    "        loss_epoch = np.mean(all_loss_within_epoch)\n",
    "        loss_history_epoch.append(loss_epoch)\n",
    "        \n",
    "        test_acc_epoch = np.mean(all_acc_within_epoch)\n",
    "        test_acc_history_epoch.append(test_acc_epoch)\n",
    "        \n",
    "        learning_rate = lr /(1 + decay_constant*epoch) # Schedule decay\n",
    "        \n",
    "        end = time.time()\n",
    "        duration = end - start\n",
    "        \n",
    "\n",
    "        if verbose == 1:\n",
    "            print(f\"Epoch {epoch}: {duration:.2f} seconds, Loss: {loss_epoch:.2f}, Test Accuracy: {test_acc_epoch:.3f}\")\n",
    "            \n",
    "    record = {'name': \"Momentum\",\n",
    "              'loss_epoch': loss_history_epoch,\n",
    "              'loss_mb': loss_history_mb,\n",
    "              'test_acc_epoch': test_acc_history_epoch,\n",
    "              'test_acc_mb': test_acc_history_mb}\n",
    "    \n",
    "    return beta, record"
   ]
  },
  {
   "cell_type": "code",
   "execution_count": 31,
   "metadata": {
    "collapsed": true,
    "jupyter": {
     "outputs_hidden": true
    },
    "tags": []
   },
   "outputs": [
    {
     "name": "stdout",
     "output_type": "stream",
     "text": [
      "Number of images imported: 0, Time elapsed: 0.00\n",
      "Number of images imported: 0, Time elapsed: 0.00\n",
      "Number of images imported: 1000, Time elapsed: 1.05\n",
      "Number of images imported: 2000, Time elapsed: 2.09\n",
      "Number of images imported: 3000, Time elapsed: 3.17\n",
      "Number of images imported: 4000, Time elapsed: 4.24\n"
     ]
    }
   ],
   "source": [
    "face_train = image_area_loader(train_small_img, vertex['face']).reshape(-1, 3 * 104 * 104)\n",
    "face_test =  image_area_loader(test_img, vertex['face']).reshape(-1, 3 * 104 * 104)"
   ]
  },
  {
   "cell_type": "code",
   "execution_count": 67,
   "metadata": {},
   "outputs": [],
   "source": [
    "# initialize beta at random\n",
    "np.random.seed(42)\n",
    "beta_standard_dev = 1. / np.sqrt(3) / 104\n",
    "face_beta_init = np.random.normal(0,beta_standard_dev,3*104*104)\n",
    "\n",
    "test_img_arr = face_test"
   ]
  },
  {
   "cell_type": "code",
   "execution_count": 125,
   "metadata": {
    "collapsed": true,
    "jupyter": {
     "outputs_hidden": true
    },
    "tags": []
   },
   "outputs": [
    {
     "name": "stdout",
     "output_type": "stream",
     "text": [
      "Epoch 0: 0.73 seconds, Loss: 52.52, Test Accuracy: 0.517\n",
      "Epoch 1: 0.69 seconds, Loss: 34.81, Test Accuracy: 0.573\n",
      "Epoch 2: 0.71 seconds, Loss: 17.13, Test Accuracy: 0.644\n",
      "Epoch 3: 0.82 seconds, Loss: 8.21, Test Accuracy: 0.675\n",
      "Epoch 4: 0.76 seconds, Loss: 7.54, Test Accuracy: 0.684\n",
      "Epoch 5: 0.71 seconds, Loss: 9.29, Test Accuracy: 0.677\n",
      "Epoch 6: 0.74 seconds, Loss: 6.70, Test Accuracy: 0.696\n",
      "Epoch 7: 0.70 seconds, Loss: 6.03, Test Accuracy: 0.697\n",
      "Epoch 8: 0.72 seconds, Loss: 4.57, Test Accuracy: 0.705\n",
      "Epoch 9: 0.73 seconds, Loss: 4.45, Test Accuracy: 0.706\n",
      "Epoch 10: 0.72 seconds, Loss: 4.05, Test Accuracy: 0.709\n",
      "Epoch 11: 0.73 seconds, Loss: 3.95, Test Accuracy: 0.710\n",
      "Epoch 12: 0.73 seconds, Loss: 4.19, Test Accuracy: 0.711\n",
      "Epoch 13: 0.71 seconds, Loss: 3.87, Test Accuracy: 0.712\n",
      "Epoch 14: 0.73 seconds, Loss: 4.14, Test Accuracy: 0.713\n",
      "Epoch 15: 0.72 seconds, Loss: 3.71, Test Accuracy: 0.714\n",
      "Epoch 16: 0.71 seconds, Loss: 3.99, Test Accuracy: 0.710\n",
      "Epoch 17: 0.72 seconds, Loss: 3.50, Test Accuracy: 0.714\n",
      "Epoch 18: 0.71 seconds, Loss: 3.21, Test Accuracy: 0.717\n",
      "Epoch 19: 0.70 seconds, Loss: 3.96, Test Accuracy: 0.717\n"
     ]
    }
   ],
   "source": [
    "beta_face_decay, record_face_decay = train_SGD_mom_scheduled(\n",
    "    face_train, train_small_label, face_beta_init, 1e-6, loss_LR_values_and_grad, n_epoch = 20, mb_size = 32, verbose = 1)"
   ]
  },
  {
   "cell_type": "code",
   "execution_count": 126,
   "metadata": {
    "collapsed": true,
    "jupyter": {
     "outputs_hidden": true
    },
    "tags": []
   },
   "outputs": [
    {
     "name": "stdout",
     "output_type": "stream",
     "text": [
      "Epoch 0: 0.73 seconds, Loss: 54.76, Test Accuracy: 0.517\n",
      "Epoch 1: 0.80 seconds, Loss: 37.05, Test Accuracy: 0.573\n",
      "Epoch 2: 0.76 seconds, Loss: 19.40, Test Accuracy: 0.644\n",
      "Epoch 3: 0.73 seconds, Loss: 10.65, Test Accuracy: 0.673\n",
      "Epoch 4: 0.70 seconds, Loss: 9.74, Test Accuracy: 0.685\n",
      "Epoch 5: 0.70 seconds, Loss: 10.33, Test Accuracy: 0.683\n",
      "Epoch 6: 0.69 seconds, Loss: 8.91, Test Accuracy: 0.691\n",
      "Epoch 7: 0.70 seconds, Loss: 7.88, Test Accuracy: 0.701\n",
      "Epoch 8: 0.67 seconds, Loss: 6.78, Test Accuracy: 0.703\n",
      "Epoch 9: 0.71 seconds, Loss: 6.69, Test Accuracy: 0.704\n",
      "Epoch 10: 0.74 seconds, Loss: 6.33, Test Accuracy: 0.708\n",
      "Epoch 11: 0.71 seconds, Loss: 6.22, Test Accuracy: 0.709\n",
      "Epoch 12: 0.71 seconds, Loss: 6.46, Test Accuracy: 0.710\n",
      "Epoch 13: 0.72 seconds, Loss: 6.07, Test Accuracy: 0.711\n",
      "Epoch 14: 0.71 seconds, Loss: 6.37, Test Accuracy: 0.713\n",
      "Epoch 15: 0.72 seconds, Loss: 5.96, Test Accuracy: 0.714\n",
      "Epoch 16: 0.72 seconds, Loss: 6.24, Test Accuracy: 0.710\n",
      "Epoch 17: 0.71 seconds, Loss: 5.73, Test Accuracy: 0.713\n",
      "Epoch 18: 0.70 seconds, Loss: 5.46, Test Accuracy: 0.716\n",
      "Epoch 19: 0.73 seconds, Loss: 6.19, Test Accuracy: 0.716\n"
     ]
    }
   ],
   "source": [
    "beta_lasso_face_decay, record_lasso_face_decay = train_SGD_mom_scheduled(\n",
    "    face_train, train_small_label, face_beta_init, 1e-6, loss_lasso_values_and_grad, n_epoch = 20, mb_size = 32, verbose = 1)"
   ]
  },
  {
   "cell_type": "code",
   "execution_count": 127,
   "metadata": {
    "collapsed": true,
    "jupyter": {
     "outputs_hidden": true
    },
    "tags": []
   },
   "outputs": [
    {
     "name": "stdout",
     "output_type": "stream",
     "text": [
      "Epoch 0: 0.74 seconds, Loss: 52.54, Test Accuracy: 0.517\n",
      "Epoch 1: 0.92 seconds, Loss: 34.82, Test Accuracy: 0.573\n",
      "Epoch 2: 0.83 seconds, Loss: 17.14, Test Accuracy: 0.644\n",
      "Epoch 3: 0.83 seconds, Loss: 8.23, Test Accuracy: 0.675\n",
      "Epoch 4: 0.82 seconds, Loss: 7.56, Test Accuracy: 0.684\n",
      "Epoch 5: 0.81 seconds, Loss: 9.30, Test Accuracy: 0.677\n",
      "Epoch 6: 0.73 seconds, Loss: 6.72, Test Accuracy: 0.696\n",
      "Epoch 7: 0.84 seconds, Loss: 6.04, Test Accuracy: 0.696\n",
      "Epoch 8: 0.80 seconds, Loss: 4.59, Test Accuracy: 0.705\n",
      "Epoch 9: 0.77 seconds, Loss: 4.47, Test Accuracy: 0.706\n",
      "Epoch 10: 0.76 seconds, Loss: 4.06, Test Accuracy: 0.709\n",
      "Epoch 11: 0.78 seconds, Loss: 3.96, Test Accuracy: 0.709\n",
      "Epoch 12: 0.73 seconds, Loss: 4.20, Test Accuracy: 0.711\n",
      "Epoch 13: 0.70 seconds, Loss: 3.89, Test Accuracy: 0.712\n",
      "Epoch 14: 0.76 seconds, Loss: 4.16, Test Accuracy: 0.713\n",
      "Epoch 15: 0.71 seconds, Loss: 3.73, Test Accuracy: 0.715\n",
      "Epoch 16: 0.75 seconds, Loss: 4.01, Test Accuracy: 0.710\n",
      "Epoch 17: 0.71 seconds, Loss: 3.51, Test Accuracy: 0.714\n",
      "Epoch 18: 0.69 seconds, Loss: 3.22, Test Accuracy: 0.717\n",
      "Epoch 19: 0.69 seconds, Loss: 3.97, Test Accuracy: 0.717\n"
     ]
    }
   ],
   "source": [
    "beta_ridge_face_decay, record_ridge_face_decay = train_SGD_mom_scheduled(\n",
    "    face_train, train_small_label, face_beta_init, 1e-6, loss_ridge_values_and_grad, n_epoch = 20, mb_size = 32, verbose = 1)"
   ]
  },
  {
   "cell_type": "code",
   "execution_count": 122,
   "metadata": {
    "collapsed": true,
    "jupyter": {
     "outputs_hidden": true
    },
    "tags": []
   },
   "outputs": [
    {
     "name": "stdout",
     "output_type": "stream",
     "text": [
      "Epoch 0: 0.74 seconds, Loss: 52.52, Test Accuracy: 0.517\n",
      "Epoch 1: 0.71 seconds, Loss: 34.81, Test Accuracy: 0.573\n",
      "Epoch 2: 0.70 seconds, Loss: 37.63, Test Accuracy: 0.599\n",
      "Epoch 3: 0.71 seconds, Loss: 31.04, Test Accuracy: 0.606\n",
      "Epoch 4: 0.70 seconds, Loss: 27.50, Test Accuracy: 0.624\n",
      "Epoch 5: 0.70 seconds, Loss: 22.89, Test Accuracy: 0.595\n",
      "Epoch 6: 0.76 seconds, Loss: 15.60, Test Accuracy: 0.644\n",
      "Epoch 7: 0.71 seconds, Loss: 17.16, Test Accuracy: 0.650\n",
      "Epoch 8: 0.73 seconds, Loss: 6.92, Test Accuracy: 0.734\n",
      "Epoch 9: 0.72 seconds, Loss: 25.85, Test Accuracy: 0.624\n",
      "Epoch 10: 0.71 seconds, Loss: 25.77, Test Accuracy: 0.626\n",
      "Epoch 11: 0.70 seconds, Loss: 9.17, Test Accuracy: 0.692\n",
      "Epoch 12: 0.71 seconds, Loss: 7.61, Test Accuracy: 0.717\n",
      "Epoch 13: 0.71 seconds, Loss: 5.00, Test Accuracy: 0.762\n",
      "Epoch 14: 0.71 seconds, Loss: 25.72, Test Accuracy: 0.610\n",
      "Epoch 15: 0.71 seconds, Loss: 8.82, Test Accuracy: 0.739\n",
      "Epoch 16: 0.75 seconds, Loss: 10.46, Test Accuracy: 0.660\n",
      "Epoch 17: 0.75 seconds, Loss: 11.84, Test Accuracy: 0.715\n",
      "Epoch 18: 0.71 seconds, Loss: 18.62, Test Accuracy: 0.673\n",
      "Epoch 19: 0.71 seconds, Loss: 4.26, Test Accuracy: 0.755\n"
     ]
    }
   ],
   "source": [
    "beta_face, record_face = train_SGD_mom(\n",
    "    face_train, train_small_label, face_beta_init, 1e-6, loss_LR_values_and_grad, n_epoch = 20, mb_size = 32, verbose = 1)"
   ]
  },
  {
   "cell_type": "code",
   "execution_count": 123,
   "metadata": {
    "collapsed": true,
    "jupyter": {
     "outputs_hidden": true
    },
    "tags": []
   },
   "outputs": [
    {
     "name": "stdout",
     "output_type": "stream",
     "text": [
      "Epoch 0: 0.72 seconds, Loss: 54.76, Test Accuracy: 0.517\n",
      "Epoch 1: 0.82 seconds, Loss: 37.05, Test Accuracy: 0.573\n",
      "Epoch 2: 0.84 seconds, Loss: 39.94, Test Accuracy: 0.599\n",
      "Epoch 3: 0.72 seconds, Loss: 33.15, Test Accuracy: 0.605\n",
      "Epoch 4: 0.72 seconds, Loss: 22.81, Test Accuracy: 0.602\n",
      "Epoch 5: 0.71 seconds, Loss: 54.98, Test Accuracy: 0.651\n",
      "Epoch 6: 0.70 seconds, Loss: 34.38, Test Accuracy: 0.606\n",
      "Epoch 7: 0.71 seconds, Loss: 39.35, Test Accuracy: 0.609\n",
      "Epoch 8: 0.79 seconds, Loss: 8.47, Test Accuracy: 0.738\n",
      "Epoch 9: 0.69 seconds, Loss: 27.54, Test Accuracy: 0.625\n",
      "Epoch 10: 0.71 seconds, Loss: 24.41, Test Accuracy: 0.645\n",
      "Epoch 11: 0.71 seconds, Loss: 9.49, Test Accuracy: 0.706\n",
      "Epoch 12: 0.74 seconds, Loss: 8.14, Test Accuracy: 0.727\n",
      "Epoch 13: 0.78 seconds, Loss: 13.07, Test Accuracy: 0.695\n",
      "Epoch 14: 0.83 seconds, Loss: 19.77, Test Accuracy: 0.642\n",
      "Epoch 15: 0.71 seconds, Loss: 11.82, Test Accuracy: 0.701\n",
      "Epoch 16: 0.70 seconds, Loss: 8.33, Test Accuracy: 0.718\n",
      "Epoch 17: 0.70 seconds, Loss: 6.47, Test Accuracy: 0.760\n",
      "Epoch 18: 0.68 seconds, Loss: 5.52, Test Accuracy: 0.750\n",
      "Epoch 19: 0.75 seconds, Loss: 4.42, Test Accuracy: 0.775\n"
     ]
    }
   ],
   "source": [
    "beta_lasso_face, record_lasso_face = train_SGD_mom(\n",
    "    face_train, train_small_label, face_beta_init, 1e-6, loss_lasso_values_and_grad, n_epoch = 20, mb_size = 32, verbose = 1)"
   ]
  },
  {
   "cell_type": "code",
   "execution_count": 124,
   "metadata": {
    "collapsed": true,
    "jupyter": {
     "outputs_hidden": true
    },
    "tags": []
   },
   "outputs": [
    {
     "name": "stdout",
     "output_type": "stream",
     "text": [
      "Epoch 0: 0.74 seconds, Loss: 52.54, Test Accuracy: 0.517\n",
      "Epoch 1: 0.73 seconds, Loss: 34.82, Test Accuracy: 0.573\n",
      "Epoch 2: 0.71 seconds, Loss: 37.65, Test Accuracy: 0.599\n",
      "Epoch 3: 0.68 seconds, Loss: 31.05, Test Accuracy: 0.606\n",
      "Epoch 4: 0.70 seconds, Loss: 27.50, Test Accuracy: 0.623\n",
      "Epoch 5: 0.71 seconds, Loss: 10.90, Test Accuracy: 0.670\n",
      "Epoch 6: 0.71 seconds, Loss: 12.51, Test Accuracy: 0.652\n",
      "Epoch 7: 0.70 seconds, Loss: 15.10, Test Accuracy: 0.676\n",
      "Epoch 8: 0.70 seconds, Loss: 8.18, Test Accuracy: 0.688\n",
      "Epoch 9: 0.71 seconds, Loss: 30.20, Test Accuracy: 0.614\n",
      "Epoch 10: 0.68 seconds, Loss: 24.43, Test Accuracy: 0.669\n",
      "Epoch 11: 0.70 seconds, Loss: 15.81, Test Accuracy: 0.643\n",
      "Epoch 12: 0.69 seconds, Loss: 7.33, Test Accuracy: 0.711\n",
      "Epoch 13: 0.69 seconds, Loss: 15.13, Test Accuracy: 0.646\n",
      "Epoch 14: 0.77 seconds, Loss: 10.58, Test Accuracy: 0.722\n",
      "Epoch 15: 0.81 seconds, Loss: 15.37, Test Accuracy: 0.632\n",
      "Epoch 16: 0.72 seconds, Loss: 15.31, Test Accuracy: 0.673\n",
      "Epoch 17: 0.76 seconds, Loss: 3.11, Test Accuracy: 0.772\n",
      "Epoch 18: 0.77 seconds, Loss: 2.68, Test Accuracy: 0.760\n",
      "Epoch 19: 0.70 seconds, Loss: 2.50, Test Accuracy: 0.777\n"
     ]
    }
   ],
   "source": [
    "beta_ridge_face, record_ridge_face = train_SGD_mom(\n",
    "    face_train, train_small_label, face_beta_init, 1e-6, loss_ridge_values_and_grad, n_epoch = 20, mb_size = 32, verbose = 1)"
   ]
  },
  {
   "cell_type": "code",
   "execution_count": 128,
   "metadata": {},
   "outputs": [],
   "source": [
    "record_face['name'] = 'Momentum_LR'\n",
    "record_lasso_face['name'] = 'Momentum_Lasso'\n",
    "record_ridge_face['name'] = 'Momentum_Ridge'"
   ]
  },
  {
   "cell_type": "code",
   "execution_count": 129,
   "metadata": {},
   "outputs": [
    {
     "data": {
      "image/png": "[encoded data removed]",
      "text/plain": [
       "<Figure size 1152x720 with 1 Axes>"
      ]
     },
     "metadata": {
      "needs_background": "light"
     },
     "output_type": "display_data"
    }
   ],
   "source": [
    "record_list = [record_face, record_lasso_face, record_ridge_face]\n",
    "\n",
    "record_graph(record_list, 'test_acc_epoch')\n",
    "# plt.savefig(\"small_test.jpg\")"
   ]
  },
  {
   "cell_type": "code",
   "execution_count": 130,
   "metadata": {},
   "outputs": [
    {
     "name": "stdout",
     "output_type": "stream",
     "text": [
      "Test ROC-AUC w/o regularization: 0.84319\n",
      "Test ROC-AUC with LASSO: 0.86580\n",
      "Test ROC-AUC with Ridge: 0.84769\n"
     ]
    }
   ],
   "source": [
    "auc_LR = test_auc(beta_face, test_label, test_img_arr)\n",
    "auc_Lasso = test_auc(beta_lasso_face, test_label, test_img_arr)\n",
    "auc_Ridge = test_auc(beta_ridge_face, test_label, test_img_arr)\n",
    "\n",
    "print(f'Test ROC-AUC w/o regularization: {auc_LR:.5f}')\n",
    "print(f'Test ROC-AUC with LASSO: {auc_Lasso:.5f}')\n",
    "print(f'Test ROC-AUC with Ridge: {auc_Ridge:.5f}')"
   ]
  }
 ],
 "metadata": {
  "kernelspec": {
   "display_name": "Python 3",
   "language": "python",
   "name": "python3"
  },
  "language_info": {
   "codemirror_mode": {
    "name": "ipython",
    "version": 3
   },
   "file_extension": ".py",
   "mimetype": "text/x-python",
   "name": "python",
   "nbconvert_exporter": "python",
   "pygments_lexer": "ipython3",
   "version": "3.8.3"
  }
 },
 "nbformat": 4,
 "nbformat_minor": 4
}
