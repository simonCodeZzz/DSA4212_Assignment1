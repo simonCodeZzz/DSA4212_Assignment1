{
 "cells": [
  {
   "cell_type": "markdown",
   "metadata": {
    "button": false,
    "deletable": true,
    "new_sheet": false,
    "run_control": {
     "read_only": false
    }
   },
   "source": [
    "<h1><center>DSA 4212: Year 2022</center></h1>\n",
    "<h3><center> Assignment 1 (Deadline: Sunday 27th March at 23:59) </center></h3>\n",
    "<h4><center> Group Number: ???? </center></h4>\n",
    "<h4><center> Filename: assignment_1_XX.ipynb where XX is your group number</center></h4>\n",
    "<h4><center> Group Member 1: Student Name, Student ID </center></h4>\n",
    "<h4><center> Group Member 2: Student Name, Student ID </center></h4>\n",
    "<h4><center> Group Member 3: Student Name, Student ID </center></h4>\n",
    "<h4><center> Group Member 4: Student Name, Student ID </center></h4>\n",
    "\n",
    "**Remark:** as described below, each group has to submit two documents on lumiNUS: \n",
    "1. a jupyter notebook with your code  \n",
    "2. a pdf report explaining your approaches and conclusions.\n",
    "3. you can have a look at `https://www.overleaf.com/read/xmvqgpsdqwyx` if you would like to use Overleaf and Latex to rapidly produce a neat report. You can use your NUS email to create an Overleaf account.\n",
    "\n",
    "**File naming convention:**\n",
    "1. the Jupyter notebook needs to be named `assignment_1_XX.ipynb`. For example, group number 3 needs to name its jupyter notebook as `assignment_1_03.ipynb`.\n",
    "1. the pdf report needs to be named `assignment_1_XX.pdf`. For example, group number 3 needs to name its pdf report as `assignment_1_03.pdf`.\n",
    "\n"
   ]
  },
  {
   "cell_type": "markdown",
   "metadata": {},
   "source": [
    "**To load data on Google Colab**:\n",
    "1. Upload the data onto your Google Drive\n",
    "2. Run the first cell to log in your Google account and mount on your Google Drive\n",
    "3. Change *path_csv* and *path* accordingly"
   ]
  },
  {
   "cell_type": "code",
   "execution_count": null,
   "metadata": {},
   "outputs": [],
   "source": [
    "# For Google Colaboratory\n",
    "import sys, os\n",
    "if 'google.colab' in sys.modules:\n",
    "    # mount google drive\n",
    "    from google.colab import drive\n",
    "    drive.mount('/content/gdrive')\n",
    "    print(path_to_file)\n",
    "    # move to Google Drive directory\n",
    "    os.chdir(path_to_file)\n",
    "    !pwd"
   ]
  },
  {
   "cell_type": "code",
   "execution_count": 1,
   "metadata": {
    "button": false,
    "deletable": true,
    "new_sheet": false,
    "run_control": {
     "read_only": false
    }
   },
   "outputs": [],
   "source": [
    "%matplotlib inline\n",
    "from jax.config import config\n",
    "config.update(\"jax_enable_x64\", True) # for higher accuracy\n",
    "\n",
    "import jax\n",
    "import jax.numpy as jnp\n",
    "import numpy as np\n",
    "\n",
    "import pylab as plt\n",
    "import imageio\n",
    "import os\n",
    "import numpy as onp\n",
    "# to install scikit-image: !pip install scikit-image\n",
    "from skimage.transform import rescale, resize, downscale_local_mean\n",
    "import pandas as pd\n",
    "import time"
   ]
  },
  {
   "cell_type": "code",
   "execution_count": 2,
   "metadata": {
    "button": false,
    "deletable": true,
    "new_sheet": false,
    "run_control": {
     "read_only": false
    }
   },
   "outputs": [],
   "source": [
    "#load attributes csv file\n",
    "path_csv  = \"D:\\\\Academics\\\\DSA\\\\4212\\\\datasets\" # Local Path (Change Here)\n",
    "# path_csv  = '/content/gdrive/My Drive/DSA4212/datasets' # Google Drive\n",
    "attribute = pd.read_csv(os.path.join(path_csv, \"celeba.csv\"))\n"
   ]
  },
  {
   "cell_type": "code",
   "execution_count": null,
   "metadata": {},
   "outputs": [],
   "source": [
    "# Google Colab import data: Much Faster to unzip files\n",
    "\n",
    "!unzip \"/content/gdrive/My Drive/DSA4212/datasets/img_celeba_small.zip\" -d \"/content\""
   ]
  },
  {
   "cell_type": "code",
   "execution_count": 3,
   "metadata": {
    "button": false,
    "collapsed": false,
    "deletable": true,
    "jupyter": {
     "outputs_hidden": false
    },
    "new_sheet": false,
    "run_control": {
     "read_only": false
    }
   },
   "outputs": [
    {
     "name": "stdout",
     "output_type": "stream",
     "text": [
      "Number of images: 20000\n"
     ]
    }
   ],
   "source": [
    "#let us list all the files in the image directory\n",
    "path = \"D:\\\\Academics\\\\DSA\\\\4212\\\\datasets\\\\img_celeba_small\" # Local Path (Change Here)\n",
    "# path = \"/content/img_celeba_small\" # Google Drive\n",
    "all_img = [f for f in os.listdir(path) \n",
    "                 if os.path.isfile(os.path.join(path, f)) \n",
    "                 and f.endswith(\".jpg\")]\n",
    "\n",
    "# sort the images by alphabetical order \n",
    "# !!!! VERY IMPORTANT in order to be consistent with the labels contained in celeba.csv !!!!\n",
    "all_img.sort()\n",
    "nb_img = len(all_img)\n",
    "print(\"Number of images:\", nb_img)\n",
    "\n",
    "#let us keep only the relevant attributes\n",
    "attribute = attribute[:20000]"
   ]
  },
  {
   "cell_type": "markdown",
   "metadata": {},
   "source": [
    "## Common Utility Functions"
   ]
  },
  {
   "cell_type": "code",
   "execution_count": 5,
   "metadata": {
    "button": false,
    "deletable": true,
    "new_sheet": false,
    "run_control": {
     "read_only": false
    }
   },
   "outputs": [],
   "source": [
    "# #let us load the first 500 images\n",
    "# n_img = 500\n",
    "# img_array = onp.zeros((n_img, 100,100))\n",
    "# for k in range(n_img):\n",
    "#     im = imageio.imread(os.path.join(path, all_img[k])).astype(float)\n",
    "#     im = resize(im, (100,100) )\n",
    "#     im = onp.mean(im, axis=2) # average the last channel\n",
    "#     img_array[k,:,:] = im\n",
    "    \n",
    "def image_loader(indices, res, grey=False):\n",
    "    \"\"\"\n",
    "    Load Images\n",
    "\n",
    "    args:\n",
    "    indices: indices of the image to be loaded\n",
    "    res: resolution of the image, an iterable of size 2\n",
    "    grey: boolean to decide whether loaded images are grey scaled. Default is False (color images).\n",
    "    \"\"\"\n",
    "    if grey == True:\n",
    "        img_array = onp.zeros((indices.size, res[0], res[1]))\n",
    "        i = 0\n",
    "        for k in indices:\n",
    "            im = imageio.imread(os.path.join(path, all_img[k])).astype(float)\n",
    "            im = resize(im, (3, res[0],res[1]) )\n",
    "            im = onp.mean(im, axis=2) # average the last channel\n",
    "            img_array[i,:,:] = im\n",
    "            i += 1\n",
    "    else:\n",
    "        img_array = onp.zeros((indices.size, 3, res[0], res[1]))\n",
    "        i = 0\n",
    "        for k in indices:\n",
    "            im = imageio.imread(os.path.join(path, all_img[k])).astype(float)\n",
    "            im = resize(im, (res[0],res[1]) )\n",
    "            img_array[i,:,:,:] = im\n",
    "            i += 1\n",
    "        \n",
    "    return img_array\n",
    "\n",
    "def image_loader_fname(fnames, res, grey=False):\n",
    "    \"\"\"\n",
    "    Load Images by File Names\n",
    "\n",
    "    args:\n",
    "    fnames: file names of the image to be loaded (a list)\n",
    "    res: resolution of the image, an iterable of size 2\n",
    "    grey: boolean to decide whether loaded images are grey scaled. Default is False (color images).\n",
    "    \"\"\"\n",
    "    if grey == True:\n",
    "        img_array = onp.zeros((len(fnames), res[0], res[1]))\n",
    "        i = 0\n",
    "        for name in fnames:\n",
    "            im = imageio.imread(os.path.join(path, name)).astype(float)\n",
    "            im = resize(im, (res[0],res[1]) )\n",
    "            im = onp.mean(im, axis=2) # average the last channel\n",
    "            img_array[i,:,:] = im\n",
    "            i += 1\n",
    "    else:\n",
    "        img_array = onp.zeros((len(fnames), 3, res[0], res[1]))\n",
    "        i = 0\n",
    "        for name in fnames:\n",
    "            im = imageio.imread(os.path.join(path, name)).astype(float)\n",
    "            im = resize(im, (3,res[0],res[1]) )\n",
    "            img_array[i,:,:,:] = im\n",
    "            i += 1\n",
    "            \n",
    "    return img_array"
   ]
  },
  {
   "cell_type": "code",
   "execution_count": 6,
   "metadata": {},
   "outputs": [],
   "source": [
    "@jax.jit\n",
    "def get_label(p, threshold=0.5):\n",
    "    pred_bool = p > threshold\n",
    "    pred_label = 2*pred_bool - 1\n",
    "    return pred_label\n",
    "\n",
    "def get_accuracy(p, Y):\n",
    "    \"\"\" Compare the predicted probability (p) with the ground truth labels (Y) to get the accuracy \"\"\"\n",
    "    return jnp.mean(Y==get_label(p))\n",
    "\n",
    "from sklearn.metrics import roc_auc_score\n",
    "\n",
    "def get_auc(p, Y):\n",
    "    return roc_auc_score(p, Y)"
   ]
  },
  {
   "cell_type": "code",
   "execution_count": 7,
   "metadata": {},
   "outputs": [],
   "source": [
    "def test_acc_auc(beta, Y_true, test_img_arr):\n",
    "    \"\"\"\n",
    "    Get the accuracy and AUC-ROC score for test data\n",
    "     beta: Model Parameters\n",
    "     Y_true: Ground truth labels\n",
    "     test_img_arr: test images represented by an array\n",
    "    \"\"\"\n",
    "    test_pred = pred_proba_batch(beta, test_img_arr)\n",
    "    test_acc = get_accuracy(test_pred, Y_true)\n",
    "    test_auc = get_auc(Y_true, test_pred)\n",
    "    \n",
    "    return test_acc, test_auc"
   ]
  },
  {
   "cell_type": "markdown",
   "metadata": {},
   "source": [
    "## Utility Functions for Basic Logistic Regression"
   ]
  },
  {
   "cell_type": "code",
   "execution_count": 8,
   "metadata": {},
   "outputs": [],
   "source": [
    "@jax.jit\n",
    "def loss_single(beta, x, y):\n",
    "    \"\"\" logistic regression loss on a single image \"\"\"\n",
    "    return jnp.log(1. + jnp.exp(-y*jnp.dot(x,beta)))\n",
    "loss_batch = jax.vmap(loss_single, in_axes=(None, 0, 0)) # Vectorize Loss Function"
   ]
  },
  {
   "cell_type": "code",
   "execution_count": 9,
   "metadata": {},
   "outputs": [],
   "source": [
    "@jax.jit\n",
    "def pred_proba(beta, x):\n",
    "    \"\"\" predict the probability that label is +1 given x and beta \"\"\"\n",
    "    return 1 / (1 + jnp.exp(-jnp.dot(beta, x)))\n",
    "\n",
    "pred_proba_batch = jax.vmap(pred_proba, in_axes=(None, 0)) # Vectorize Predict Function"
   ]
  },
  {
   "cell_type": "code",
   "execution_count": 10,
   "metadata": {},
   "outputs": [],
   "source": [
    "@jax.jit\n",
    "def loss_LR(beta, X, Y):\n",
    "    \"\"\"\n",
    "    Minibatch Logistic regression loss\n",
    "    \n",
    "    args:\n",
    "    ====\n",
    "     beta: LR parameter\n",
    "     X: array[:,:] of images\n",
    "     Y: array[:] of labels\n",
    "    \"\"\"\n",
    "    # compute all the individual losses\n",
    "    losses = loss_batch(beta, X, Y)\n",
    "    return jnp.mean(losses)\n",
    "\n",
    "# compute derivates\n",
    "loss_LR_grad = jax.jit(jax.grad(loss_LR, argnums=0))\n",
    "loss_LR_values_and_grad = jax.jit(jax.value_and_grad(loss_LR, argnums=0))"
   ]
  },
  {
   "cell_type": "markdown",
   "metadata": {},
   "source": [
    "## Utility Functions for Regularized Logistic Regression (Ridge, Lasso, ...)"
   ]
  },
  {
   "cell_type": "code",
   "execution_count": null,
   "metadata": {},
   "outputs": [],
   "source": [
    "### To be completed..."
   ]
  },
  {
   "cell_type": "code",
   "execution_count": null,
   "metadata": {},
   "outputs": [],
   "source": []
  },
  {
   "cell_type": "markdown",
   "metadata": {
    "tags": []
   },
   "source": [
    "## Import Data\n",
    "### Notice: Images are only loaded as file names at this stage, to read as numerical arrays, use image_loader/image_loader_fname"
   ]
  },
  {
   "cell_type": "code",
   "execution_count": 4,
   "metadata": {},
   "outputs": [],
   "source": [
    "# Proportion of Males in first 15000? first 200?\n",
    "train_img = all_img[:15000]\n",
    "train_attr = attribute.drop(columns=['Filename' ,'Male'])[:15000]\n",
    "train_label = attribute['Male'][:15000]\n",
    "train_label = np.array(train_label).reshape(-1,1)\n",
    "\n",
    "test_img = all_img[15000:]\n",
    "test_attr = attribute.drop(columns=['Filename' ,'Male'])[15000:]\n",
    "test_label = attribute['Male'][15000:]\n",
    "test_label = np.array(test_label).reshape(-1,1)\n",
    "\n",
    "train_small_img = all_img[:200]\n",
    "train_small_attr = attribute.drop(columns=['Filename' ,'Male'])[:200]\n",
    "train_small_label = attribute['Male'][:200]\n",
    "train_small_label = np.array(train_small_label).reshape(-1,1)"
   ]
  },
  {
   "cell_type": "markdown",
   "metadata": {},
   "source": [
    "### Delete the arrays to clear up memeory and prevent RAM OOM"
   ]
  },
  {
   "cell_type": "code",
   "execution_count": 32,
   "metadata": {},
   "outputs": [],
   "source": [
    "for var in ['test_img_arr', 'train_img_arr', 'valid_img_arr']:\n",
    "    if var in globals().keys():\n",
    "        del globals()[var]\n",
    "# del test_img_arr\n",
    "# del train_img_arr\n",
    "# del valid_img_arr\n",
    "time.sleep(5)"
   ]
  },
  {
   "cell_type": "markdown",
   "metadata": {},
   "source": [
    "### Convert images into numerical arrays"
   ]
  },
  {
   "cell_type": "code",
   "execution_count": 33,
   "metadata": {},
   "outputs": [],
   "source": [
    "pixels = 100\n",
    "res = [pixels, pixels]\n",
    "grey = False\n",
    "rgb = 3\n",
    "\n",
    "test_img_arr = image_loader_fname(test_img, res, grey)\n",
    "test_img_arr = test_img_arr.reshape(-1, rgb*res[0]*res[1])\n",
    "train_img_arr = image_loader_fname(train_img, res, grey)\n",
    "train_img_arr = train_img_arr.reshape(-1, rgb*res[0]*res[1])"
   ]
  },
  {
   "cell_type": "markdown",
   "metadata": {},
   "source": [
    "## Basic SGD"
   ]
  },
  {
   "cell_type": "code",
   "execution_count": 34,
   "metadata": {},
   "outputs": [],
   "source": [
    "# initialize beta at random\n",
    "np.random.seed(42)\n",
    "beta_standard_dev = 1. / pixels\n",
    "beta_init = np.random.normal(0,beta_standard_dev,rgb*pixels*pixels)"
   ]
  },
  {
   "cell_type": "code",
   "execution_count": 35,
   "metadata": {},
   "outputs": [
    {
     "name": "stdout",
     "output_type": "stream",
     "text": [
      "Epoch 0: 3.43 seconds, Loss: 31.39, Test Accuracy: 0.580\n",
      "Epoch 1: 3.16 seconds, Loss: 27.13, Test Accuracy: 0.492\n",
      "Epoch 2: 2.72 seconds, Loss: 25.21, Test Accuracy: 0.471\n",
      "Epoch 3: 1.86 seconds, Loss: 24.33, Test Accuracy: 0.463\n",
      "Epoch 4: 2.26 seconds, Loss: 24.38, Test Accuracy: 0.498\n",
      "Epoch 5: 1.87 seconds, Loss: 21.01, Test Accuracy: 0.476\n",
      "Epoch 6: 1.93 seconds, Loss: 22.43, Test Accuracy: 0.573\n",
      "Epoch 7: 2.24 seconds, Loss: 21.25, Test Accuracy: 0.437\n",
      "Epoch 8: 1.82 seconds, Loss: 20.04, Test Accuracy: 0.553\n",
      "Epoch 9: 1.94 seconds, Loss: 20.68, Test Accuracy: 0.577\n",
      "Epoch 10: 1.87 seconds, Loss: 19.57, Test Accuracy: 0.479\n",
      "Epoch 11: 1.88 seconds, Loss: 18.92, Test Accuracy: 0.558\n",
      "Epoch 12: 1.84 seconds, Loss: 17.93, Test Accuracy: 0.578\n",
      "Epoch 13: 1.84 seconds, Loss: 18.67, Test Accuracy: 0.457\n",
      "Epoch 14: 1.87 seconds, Loss: 17.16, Test Accuracy: 0.463\n",
      "Epoch 15: 1.78 seconds, Loss: 17.12, Test Accuracy: 0.526\n",
      "Epoch 16: 1.84 seconds, Loss: 17.74, Test Accuracy: 0.558\n",
      "Epoch 17: 1.85 seconds, Loss: 17.26, Test Accuracy: 0.571\n",
      "Epoch 18: 1.92 seconds, Loss: 17.20, Test Accuracy: 0.576\n",
      "Epoch 19: 1.91 seconds, Loss: 16.51, Test Accuracy: 0.547\n"
     ]
    }
   ],
   "source": [
    "n_epoch = 20\n",
    "minibatch_size = 100 #size of the minibatchs\n",
    "N = len(train_img)  #15000, total number of images\n",
    "img_indices = np.arange(N)\n",
    "\n",
    "loss_history = []\n",
    "loss_history_end_epoch = []\n",
    "beta = np.copy(beta_init)\n",
    "learning_rate = 1e-6\n",
    "\n",
    "for epoch in range(n_epoch):\n",
    "    # go through all the minibatches, sequetially\n",
    "    start = time.time()\n",
    "    n_minibatch = N // minibatch_size + 1\n",
    "    # randomize the batches\n",
    "    np.random.shuffle(img_indices)\n",
    "    \n",
    "    all_loss_within_epoch = []\n",
    "    for k in range(n_minibatch):\n",
    "        # create the minibatch of examples\n",
    "        batch_indices = np.arange(k*minibatch_size, (k+1)*minibatch_size) % N\n",
    "        batch_indices = img_indices[batch_indices]\n",
    "        X_minibatch = train_img_arr[batch_indices]\n",
    "        Y_minibatch = train_label[batch_indices]\n",
    "\n",
    "        # compute the stochastic gradient\n",
    "        val, grad = loss_LR_values_and_grad(beta, X_minibatch, Y_minibatch)\n",
    "\n",
    "        # do one step of SGD\n",
    "        beta = beta - learning_rate*grad\n",
    "\n",
    "        # book-keeping\n",
    "        loss_history.append(val)\n",
    "        all_loss_within_epoch.append(val)\n",
    "    loss_history_end_epoch.append(np.mean(all_loss_within_epoch))\n",
    "    end = time.time()\n",
    "    duration = end - start\n",
    "    test_acc, _ = test_acc_auc(beta, test_label, test_img_arr)\n",
    "    print(f\"Epoch {epoch}: {duration:.2f} seconds, Loss: {loss_history_end_epoch[-1]:.2f}, Test Accuracy: {test_acc:.3f}\")"
   ]
  },
  {
   "cell_type": "code",
   "execution_count": 36,
   "metadata": {},
   "outputs": [
    {
     "data": {
      "image/png": "[encoded data removed]",
      "text/plain": [
       "<Figure size 432x288 with 1 Axes>"
      ]
     },
     "metadata": {
      "needs_background": "light"
     },
     "output_type": "display_data"
    }
   ],
   "source": [
    "plt.plot(loss_history_end_epoch, \"-^\")\n",
    "plt.yscale(\"log\")\n",
    "plt.xlabel(\"Epochs\")\n",
    "plt.grid(True)"
   ]
  },
  {
   "cell_type": "code",
   "execution_count": 37,
   "metadata": {},
   "outputs": [
    {
     "name": "stdout",
     "output_type": "stream",
     "text": [
      "Test Accuracy is 0.55\n",
      "Test AUC is 0.85\n"
     ]
    }
   ],
   "source": [
    "acc_test, auc_test = test_acc_auc(beta, test_label, test_img_arr)\n",
    "\n",
    "print(f'Test Accuracy is {acc_test:.2f}')\n",
    "print(f'Test AUC is {auc_test:.2f}')"
   ]
  },
  {
   "cell_type": "markdown",
   "metadata": {},
   "source": [
    "## Annealing"
   ]
  },
  {
   "cell_type": "markdown",
   "metadata": {},
   "source": [
    "### Step Decay"
   ]
  },
  {
   "cell_type": "code",
   "execution_count": 38,
   "metadata": {},
   "outputs": [
    {
     "name": "stdout",
     "output_type": "stream",
     "text": [
      "Epoch 0: 1.91 seconds, Loss: 32.44, Test Accuracy: 0.462\n",
      "Epoch 1: 1.79 seconds, Loss: 27.07, Test Accuracy: 0.575\n",
      "Epoch 2: 1.98 seconds, Loss: 26.98, Test Accuracy: 0.578\n",
      "Epoch 3: 1.92 seconds, Loss: 25.03, Test Accuracy: 0.536\n",
      "Epoch 4: 1.87 seconds, Loss: 22.91, Test Accuracy: 0.471\n",
      "Epoch 5: 1.77 seconds, Loss: 7.26, Test Accuracy: 0.500\n",
      "Epoch 6: 1.76 seconds, Loss: 6.83, Test Accuracy: 0.512\n",
      "Epoch 7: 1.84 seconds, Loss: 8.00, Test Accuracy: 0.488\n",
      "Epoch 8: 1.81 seconds, Loss: 7.78, Test Accuracy: 0.528\n",
      "Epoch 9: 1.85 seconds, Loss: 7.71, Test Accuracy: 0.536\n",
      "Epoch 10: 1.80 seconds, Loss: 4.38, Test Accuracy: 0.525\n",
      "Epoch 11: 1.76 seconds, Loss: 4.19, Test Accuracy: 0.505\n",
      "Epoch 12: 1.93 seconds, Loss: 4.03, Test Accuracy: 0.519\n",
      "Epoch 13: 2.54 seconds, Loss: 3.90, Test Accuracy: 0.512\n",
      "Epoch 14: 1.93 seconds, Loss: 3.71, Test Accuracy: 0.516\n",
      "Epoch 15: 2.00 seconds, Loss: 3.41, Test Accuracy: 0.513\n",
      "Epoch 16: 2.03 seconds, Loss: 3.36, Test Accuracy: 0.512\n",
      "Epoch 17: 1.87 seconds, Loss: 3.30, Test Accuracy: 0.497\n",
      "Epoch 18: 2.11 seconds, Loss: 3.22, Test Accuracy: 0.515\n",
      "Epoch 19: 1.89 seconds, Loss: 3.17, Test Accuracy: 0.515\n"
     ]
    }
   ],
   "source": [
    "n_epoch = 20\n",
    "minibatch_size = 100 #size of the minibatchs\n",
    "N = len(train_img)  #15000, total number of images\n",
    "img_indices = np.arange(N)\n",
    "\n",
    "loss_history = []\n",
    "loss_history_end_epoch = []\n",
    "beta = np.copy(beta_init)\n",
    "learning_rate = 1e-6\n",
    "lr_decay = 0.5\n",
    "\n",
    "for epoch in range(n_epoch):\n",
    "    # go through all the minibatches, sequetially\n",
    "    start = time.time()\n",
    "    n_minibatch = N // minibatch_size + 1\n",
    "    # randomize the batches\n",
    "    np.random.shuffle(img_indices)\n",
    "    \n",
    "    all_loss_within_epoch = []\n",
    "    for k in range(n_minibatch):\n",
    "        # create the minibatch of examples\n",
    "        batch_indices = np.arange(k*minibatch_size, (k+1)*minibatch_size) % N\n",
    "        batch_indices = img_indices[batch_indices]\n",
    "        X_minibatch = train_img_arr[batch_indices]\n",
    "        Y_minibatch = train_label[batch_indices]\n",
    "\n",
    "        # compute the stochastic gradient\n",
    "        val, grad = loss_LR_values_and_grad(beta, X_minibatch, Y_minibatch)\n",
    "\n",
    "        # do one step of SGD\n",
    "        beta = beta - learning_rate*grad\n",
    "\n",
    "        # book-keeping\n",
    "        loss_history.append(val)\n",
    "        all_loss_within_epoch.append(val)\n",
    "    loss_history_end_epoch.append(np.mean(all_loss_within_epoch))\n",
    "    end = time.time()\n",
    "    duration = end - start\n",
    "    if (epoch + 1) % 5 == 0:\n",
    "        learning_rate = learning_rate * lr_decay\n",
    "    test_acc, _ = test_acc_auc(beta, test_label, test_img_arr)\n",
    "    print(f\"Epoch {epoch}: {duration:.2f} seconds, Loss: {loss_history_end_epoch[-1]:.2f}, Test Accuracy: {test_acc:.3f}\")"
   ]
  },
  {
   "cell_type": "code",
   "execution_count": 39,
   "metadata": {},
   "outputs": [
    {
     "data": {
      "image/png": "[encoded data removed]",
      "text/plain": [
       "<Figure size 432x288 with 1 Axes>"
      ]
     },
     "metadata": {
      "needs_background": "light"
     },
     "output_type": "display_data"
    }
   ],
   "source": [
    "plt.plot(loss_history_end_epoch, \"-^\")\n",
    "plt.yscale(\"log\")\n",
    "plt.xlabel(\"Epochs\")\n",
    "plt.grid(True)"
   ]
  },
  {
   "cell_type": "code",
   "execution_count": 40,
   "metadata": {},
   "outputs": [
    {
     "name": "stdout",
     "output_type": "stream",
     "text": [
      "Test Accuracy is 0.52\n",
      "Test AUC is 0.81\n"
     ]
    }
   ],
   "source": [
    "acc_test, auc_test = test_acc_auc(beta, test_label, test_img_arr)\n",
    "\n",
    "print(f'Test Accuracy is {acc_test:.2f}')\n",
    "print(f'Test AUC is {auc_test:.2f}')"
   ]
  },
  {
   "cell_type": "markdown",
   "metadata": {},
   "source": [
    "### Heuristic"
   ]
  },
  {
   "cell_type": "code",
   "execution_count": 44,
   "metadata": {},
   "outputs": [],
   "source": [
    "# Create Validation Set for Heuristic\n",
    "valid_img_arr = train_img_arr[14000:]\n",
    "valid_label = train_label[14000:15000]"
   ]
  },
  {
   "cell_type": "code",
   "execution_count": 45,
   "metadata": {},
   "outputs": [
    {
     "name": "stdout",
     "output_type": "stream",
     "text": [
      "Epoch 0: 3.50 seconds, Loss: 31.49, Validation Accuracy: 0.460, LR: 1e-06\n",
      "Epoch 1: 2.19 seconds, Loss: 28.67, Validation Accuracy: 0.531, LR: 1e-06\n",
      "Epoch 2: 2.02 seconds, Loss: 25.78, Validation Accuracy: 0.475, LR: 5e-07\n",
      "Epoch 3: 1.90 seconds, Loss: 8.54, Validation Accuracy: 0.570, LR: 5e-07\n",
      "Epoch 4: 1.79 seconds, Loss: 8.39, Validation Accuracy: 0.525, LR: 2.5e-07\n",
      "Epoch 5: 1.85 seconds, Loss: 5.30, Validation Accuracy: 0.537, LR: 2.5e-07\n",
      "Epoch 6: 1.95 seconds, Loss: 4.97, Validation Accuracy: 0.528, LR: 1.25e-07\n",
      "Epoch 7: 2.38 seconds, Loss: 4.57, Validation Accuracy: 0.509, LR: 6.25e-08\n",
      "Epoch 8: 1.95 seconds, Loss: 4.42, Validation Accuracy: 0.515, LR: 6.25e-08\n",
      "Epoch 9: 2.09 seconds, Loss: 4.36, Validation Accuracy: 0.516, LR: 6.25e-08\n",
      "Epoch 10: 1.93 seconds, Loss: 4.32, Validation Accuracy: 0.516, LR: 6.25e-08\n",
      "Epoch 11: 2.13 seconds, Loss: 4.24, Validation Accuracy: 0.513, LR: 3.125e-08\n",
      "Epoch 12: 2.01 seconds, Loss: 4.19, Validation Accuracy: 0.520, LR: 3.125e-08\n",
      "Epoch 13: 1.81 seconds, Loss: 4.16, Validation Accuracy: 0.515, LR: 1.5625e-08\n",
      "Epoch 14: 1.87 seconds, Loss: 4.14, Validation Accuracy: 0.517, LR: 1.5625e-08\n",
      "Epoch 15: 1.81 seconds, Loss: 4.12, Validation Accuracy: 0.517, LR: 7.8125e-09\n",
      "Epoch 16: 1.76 seconds, Loss: 4.10, Validation Accuracy: 0.518, LR: 7.8125e-09\n",
      "Epoch 17: 2.00 seconds, Loss: 4.11, Validation Accuracy: 0.519, LR: 7.8125e-09\n",
      "Epoch 18: 1.85 seconds, Loss: 4.09, Validation Accuracy: 0.516, LR: 3.90625e-09\n",
      "Epoch 19: 1.84 seconds, Loss: 4.10, Validation Accuracy: 0.518, LR: 3.90625e-09\n"
     ]
    }
   ],
   "source": [
    "n_epoch = 20\n",
    "minibatch_size = 100 #size of the minibatchs\n",
    "N = len(train_img)  #15000, total number of images\n",
    "img_indices = np.arange(N)\n",
    "\n",
    "loss_history = []\n",
    "loss_history_end_epoch = []\n",
    "beta = np.copy(beta_init)\n",
    "learning_rate = 1e-6\n",
    "lr_decay = 0.5\n",
    "\n",
    "for epoch in range(n_epoch):\n",
    "    # go through all the minibatches, sequetially\n",
    "    start = time.time()\n",
    "    n_minibatch = N // minibatch_size + 1\n",
    "    # randomize the batches\n",
    "    np.random.shuffle(img_indices)\n",
    "    \n",
    "    all_loss_within_epoch = []\n",
    "    for k in range(n_minibatch):\n",
    "        # create the minibatch of examples\n",
    "        batch_indices = np.arange(k*minibatch_size, (k+1)*minibatch_size) % N\n",
    "        batch_indices = img_indices[batch_indices]\n",
    "        X_minibatch = train_img_arr[batch_indices]\n",
    "        Y_minibatch = train_label[batch_indices]\n",
    "\n",
    "        # compute the stochastic gradient\n",
    "        val, grad = loss_LR_values_and_grad(beta, X_minibatch, Y_minibatch)\n",
    "\n",
    "        # do one step of SGD\n",
    "        beta = beta - learning_rate*grad\n",
    "\n",
    "        # book-keeping\n",
    "        loss_history.append(val)\n",
    "        all_loss_within_epoch.append(val)\n",
    "    loss_history_end_epoch.append(np.mean(all_loss_within_epoch))\n",
    "    end = time.time()\n",
    "    duration = end - start\n",
    "\n",
    "    valid_acc_new, _ = test_acc_auc(beta, valid_label, valid_img_arr)\n",
    "    if epoch == 0:\n",
    "        valid_acc = valid_acc_new\n",
    "    elif valid_acc_new < valid_acc:\n",
    "        learning_rate = learning_rate * lr_decay\n",
    "    valid_acc = valid_acc_new\n",
    "        \n",
    "    print(f\"Epoch {epoch}: {duration:.2f} seconds, Loss: {loss_history_end_epoch[-1]:.2f}, Validation Accuracy: {valid_acc:.3f}, LR: {learning_rate}\")"
   ]
  },
  {
   "cell_type": "code",
   "execution_count": 46,
   "metadata": {},
   "outputs": [
    {
     "data": {
      "image/png": "[encoded data removed]",
      "text/plain": [
       "<Figure size 432x288 with 1 Axes>"
      ]
     },
     "metadata": {
      "needs_background": "light"
     },
     "output_type": "display_data"
    }
   ],
   "source": [
    "plt.plot(loss_history_end_epoch, \"-^\")\n",
    "plt.yscale(\"log\")\n",
    "plt.xlabel(\"Epochs\")\n",
    "plt.grid(True)"
   ]
  },
  {
   "cell_type": "code",
   "execution_count": 47,
   "metadata": {},
   "outputs": [
    {
     "name": "stdout",
     "output_type": "stream",
     "text": [
      "Test Accuracy is 0.52\n",
      "Test AUC is 0.78\n"
     ]
    }
   ],
   "source": [
    "acc_test, auc_test = test_acc_auc(beta, test_label, test_img_arr)\n",
    "\n",
    "print(f'Test Accuracy is {acc_test:.2f}')\n",
    "print(f'Test AUC is {auc_test:.2f}')"
   ]
  },
  {
   "cell_type": "markdown",
   "metadata": {},
   "source": [
    "### 1/t decay"
   ]
  },
  {
   "cell_type": "code",
   "execution_count": null,
   "metadata": {},
   "outputs": [],
   "source": [
    "### To be completed..."
   ]
  },
  {
   "cell_type": "markdown",
   "metadata": {},
   "source": [
    "## Momentum a.k.a Heavy Ball Method"
   ]
  },
  {
   "cell_type": "code",
   "execution_count": null,
   "metadata": {},
   "outputs": [],
   "source": [
    "### To be completed..."
   ]
  },
  {
   "cell_type": "code",
   "execution_count": null,
   "metadata": {},
   "outputs": [],
   "source": []
  },
  {
   "cell_type": "code",
   "execution_count": null,
   "metadata": {},
   "outputs": [],
   "source": []
  },
  {
   "cell_type": "code",
   "execution_count": null,
   "metadata": {},
   "outputs": [],
   "source": []
  },
  {
   "cell_type": "code",
   "execution_count": null,
   "metadata": {},
   "outputs": [],
   "source": []
  },
  {
   "cell_type": "code",
   "execution_count": null,
   "metadata": {},
   "outputs": [],
   "source": []
  },
  {
   "cell_type": "code",
   "execution_count": null,
   "metadata": {},
   "outputs": [],
   "source": []
  },
  {
   "cell_type": "code",
   "execution_count": null,
   "metadata": {},
   "outputs": [],
   "source": []
  }
 ],
 "metadata": {
  "kernelspec": {
   "display_name": "Python 3",
   "language": "python",
   "name": "python3"
  },
  "language_info": {
   "codemirror_mode": {
    "name": "ipython",
    "version": 3
   },
   "file_extension": ".py",
   "mimetype": "text/x-python",
   "name": "python",
   "nbconvert_exporter": "python",
   "pygments_lexer": "ipython3",
   "version": "3.8.3"
  }
 },
 "nbformat": 4,
 "nbformat_minor": 4
}
