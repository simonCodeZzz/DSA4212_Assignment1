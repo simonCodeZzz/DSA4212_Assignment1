{
 "cells": [
  {
   "cell_type": "markdown",
   "metadata": {
    "button": false,
    "deletable": true,
    "new_sheet": false,
    "run_control": {
     "read_only": false
    }
   },
   "source": [
    "<h1><center>DSA 4212: Year 2022</center></h1>\n",
    "<h3><center> Assignment 1 (Deadline: Sunday 27th March at 23:59) </center></h3>\n",
    "<h4><center> Group Number: ???? </center></h4>\n",
    "<h4><center> Filename: assignment_1_XX.ipynb where XX is your group number</center></h4>\n",
    "<h4><center> Group Member 1: Student Name, Student ID </center></h4>\n",
    "<h4><center> Group Member 2: Student Name, Student ID </center></h4>\n",
    "<h4><center> Group Member 3: Student Name, Student ID </center></h4>\n",
    "<h4><center> Group Member 4: Student Name, Student ID </center></h4>\n",
    "\n",
    "**Remark:** as described below, each group has to submit two documents on lumiNUS: \n",
    "1. a jupyter notebook with your code  \n",
    "2. a pdf report explaining your approaches and conclusions.\n",
    "3. you can have a look at `https://www.overleaf.com/read/xmvqgpsdqwyx` if you would like to use Overleaf and Latex to rapidly produce a neat report. You can use your NUS email to create an Overleaf account.\n",
    "\n",
    "**File naming convention:**\n",
    "1. the Jupyter notebook needs to be named `assignment_1_XX.ipynb`. For example, group number 3 needs to name its jupyter notebook as `assignment_1_03.ipynb`.\n",
    "1. the pdf report needs to be named `assignment_1_XX.pdf`. For example, group number 3 needs to name its pdf report as `assignment_1_03.pdf`.\n",
    "\n"
   ]
  },
  {
   "cell_type": "markdown",
   "metadata": {},
   "source": [
    "**To load data on Google Colab**:\n",
    "1. Upload the data onto your Google Drive\n",
    "2. Run the first cell to log in your Google account and mount on your Google Drive\n",
    "3. Change *path_csv* and *path* accordingly"
   ]
  },
  {
   "cell_type": "code",
   "execution_count": 1,
   "metadata": {},
   "outputs": [],
   "source": [
    "# For Google Colaboratory\n",
    "import sys, os\n",
    "if 'google.colab' in sys.modules:\n",
    "    # mount google drive\n",
    "    from google.colab import drive\n",
    "    drive.mount('/content/gdrive')\n",
    "    print(path_to_file)\n",
    "    # move to Google Drive directory\n",
    "    os.chdir(path_to_file)\n",
    "    !pwd"
   ]
  },
  {
   "cell_type": "code",
   "execution_count": null,
   "metadata": {},
   "outputs": [],
   "source": [
    "# Google Colab import data: Much Faster to unzip files\n",
    "\n",
    "!unzip \"/content/gdrive/My Drive/DSA4212/datasets/img_celeba_small.zip\" -d \"/content\""
   ]
  },
  {
   "cell_type": "code",
   "execution_count": 1,
   "metadata": {
    "button": false,
    "deletable": true,
    "new_sheet": false,
    "run_control": {
     "read_only": false
    }
   },
   "outputs": [],
   "source": [
    "%matplotlib inline\n",
    "from jax.config import config\n",
    "config.update(\"jax_enable_x64\", True) # for higher accuracy\n",
    "config.update(\"jax_platform_name\", 'cpu') # use cpu if needed\n",
    "\n",
    "import jax\n",
    "import jax.numpy as jnp\n",
    "import numpy as np\n",
    "\n",
    "import pylab as plt\n",
    "import imageio\n",
    "import os\n",
    "import numpy as onp\n",
    "# to install scikit-image: !pip install scikit-image\n",
    "from skimage.transform import rescale, resize, downscale_local_mean\n",
    "import pandas as pd\n",
    "import time"
   ]
  },
  {
   "cell_type": "code",
   "execution_count": 2,
   "metadata": {},
   "outputs": [
    {
     "name": "stdout",
     "output_type": "stream",
     "text": [
      "[CpuDevice(id=0)]\n"
     ]
    }
   ],
   "source": [
    "print(jax.devices())"
   ]
  },
  {
   "cell_type": "code",
   "execution_count": 3,
   "metadata": {
    "button": false,
    "deletable": true,
    "new_sheet": false,
    "run_control": {
     "read_only": false
    }
   },
   "outputs": [],
   "source": [
    "#load attributes csv file\n",
    "path_csv  = \"D:\\\\Academics\\\\DSA\\\\4212\\\\datasets\" # Local Path (Change Here)\n",
    "# path_csv  = '/content/gdrive/My Drive/DSA4212/datasets' # Google Drive\n",
    "attribute = pd.read_csv(os.path.join(path_csv, \"celeba.csv\"))\n"
   ]
  },
  {
   "cell_type": "code",
   "execution_count": 4,
   "metadata": {
    "button": false,
    "collapsed": false,
    "deletable": true,
    "jupyter": {
     "outputs_hidden": false
    },
    "new_sheet": false,
    "run_control": {
     "read_only": false
    }
   },
   "outputs": [
    {
     "name": "stdout",
     "output_type": "stream",
     "text": [
      "Number of images: 20000\n"
     ]
    }
   ],
   "source": [
    "#let us list all the files in the image directory\n",
    "path = \"D:\\\\Academics\\\\DSA\\\\4212\\\\datasets\\\\img_celeba_small\" # Local Path (Change Here)\n",
    "# path = \"/content/img_celeba_small\" # Google Drive\n",
    "all_img = [f for f in os.listdir(path) \n",
    "                 if os.path.isfile(os.path.join(path, f)) \n",
    "                 and f.endswith(\".jpg\")]\n",
    "\n",
    "# sort the images by alphabetical order \n",
    "# !!!! VERY IMPORTANT in order to be consistent with the labels contained in celeba.csv !!!!\n",
    "all_img.sort()\n",
    "nb_img = len(all_img)\n",
    "print(\"Number of images:\", nb_img)\n",
    "\n",
    "#let us keep only the relevant attributes\n",
    "attribute = attribute[:20000]"
   ]
  },
  {
   "cell_type": "markdown",
   "metadata": {},
   "source": [
    "## Common Utility Functions"
   ]
  },
  {
   "cell_type": "code",
   "execution_count": 5,
   "metadata": {
    "button": false,
    "deletable": true,
    "new_sheet": false,
    "run_control": {
     "read_only": false
    }
   },
   "outputs": [],
   "source": [
    "# Image Loader\n",
    "\n",
    "# #let us load the first 500 images\n",
    "# n_img = 500\n",
    "# img_array = onp.zeros((n_img, 100,100))\n",
    "# for k in range(n_img):\n",
    "#     im = imageio.imread(os.path.join(path, all_img[k])).astype(float)\n",
    "#     im = resize(im, (100,100) )\n",
    "#     im = onp.mean(im, axis=2) # average the last channel\n",
    "#     img_array[k,:,:] = im\n",
    "    \n",
    "def image_loader(indices, res, grey=False, verbose = 0):\n",
    "    \"\"\"\n",
    "    Load Images\n",
    "\n",
    "    args:\n",
    "    indices: indices of the image to be loaded\n",
    "    res: resolution of the image, an iterable of size 2\n",
    "    grey: boolean to decide whether loaded images are grey scaled. Default is False (color images)\n",
    "    verbose: Print time elapsed for every 1000 loaded images if verbose == 1, default 0\n",
    "    \"\"\"\n",
    "    start = time.time()\n",
    "    if grey == True:\n",
    "        img_array = onp.zeros((indices.size, res[0], res[1]))\n",
    "        i = 0\n",
    "        for k in indices:\n",
    "            im = imageio.imread(os.path.join(path, all_img[k])).astype(float)\n",
    "            im = resize(im, (res[0],res[1]) )\n",
    "            im = onp.mean(im, axis=2) # average the last channel\n",
    "            img_array[i,:,:] = im\n",
    "            i += 1\n",
    "            if verbose == 1 & i % 1000 == 0:\n",
    "                end = time.time()\n",
    "                duration = end - start\n",
    "                print(f\"Number of images imported: {i}, Time elapsed: {duration:.2f}\")\n",
    "        img_array = img_array.reshape(-1, res[0]*res[1])\n",
    "    else:\n",
    "        img_array = onp.zeros((indices.size, res[0], res[1], 3))\n",
    "        i = 0\n",
    "        for k in indices:\n",
    "            im = imageio.imread(os.path.join(path, all_img[k])).astype(float)\n",
    "            im = resize(im, (res[0],res[1]) )\n",
    "            img_array[i,:,:,:] = im\n",
    "            i += 1\n",
    "            if verbose == 1 & i % 1000 == 0:\n",
    "                end = time.time()\n",
    "                duration = end - start\n",
    "                print(f\"Number of images imported: {i}, Time elapsed: {duration:.2f}\")\n",
    "        img_array = img_array.reshape(-1, 3*res[0]*res[1])\n",
    "        \n",
    "    return img_array\n",
    "\n",
    "def image_loader_fname(fnames, res, grey=False):\n",
    "    \"\"\"\n",
    "    Load Images by File Names\n",
    "\n",
    "    args:\n",
    "    fnames: file names of the image to be loaded (a list)\n",
    "    res: resolution of the image, an iterable of size 2\n",
    "    grey: boolean to decide whether loaded images are grey scaled. Default is False (color images)\n",
    "    verbose: Print time elapsed for every 1000 loaded images if verbose == 1, default 0\n",
    "    \"\"\"\n",
    "    start = time.time()\n",
    "    if grey == True:\n",
    "        img_array = onp.zeros((len(fnames), res[0], res[1]))\n",
    "        i = 0\n",
    "        for name in fnames:\n",
    "            im = imageio.imread(os.path.join(path, name)).astype(float)\n",
    "            im = resize(im, (res[0],res[1]) )\n",
    "            im = onp.mean(im, axis=2) # average the last channel\n",
    "            img_array[i,:,:] = im\n",
    "            i += 1\n",
    "            if i % 1000 == 0:\n",
    "                end = time.time()\n",
    "                duration = end - start\n",
    "                print(f\"Number of images imported: {i}, Time elapsed: {duration:.2f}\")\n",
    "        img_array = img_array.reshape(-1, res[0]*res[1])\n",
    "    else:\n",
    "        img_array = onp.zeros((len(fnames), res[0], res[1], 3))\n",
    "        i = 0\n",
    "        for name in fnames:\n",
    "            im = imageio.imread(os.path.join(path, name)).astype(float)\n",
    "            im = resize(im, (res[0],res[1]) )\n",
    "            img_array[i,:,:,:] = im\n",
    "            i += 1\n",
    "            if i % 1000 == 0:\n",
    "                end = time.time()\n",
    "                duration = end - start\n",
    "                print(f\"Number of images imported: {i}, Time elapsed: {duration:.2f}\")\n",
    "        img_array = img_array.reshape(-1, 3*res[0]*res[1])\n",
    "            \n",
    "    return img_array"
   ]
  },
  {
   "cell_type": "code",
   "execution_count": 6,
   "metadata": {},
   "outputs": [],
   "source": [
    "# Predict P(Y=1|X, Beta)\n",
    "@jax.jit\n",
    "def pred_proba(beta, x):\n",
    "    \"\"\" predict the probability that label is +1 given x and beta \"\"\"\n",
    "    return 1. / (1. + jnp.exp(-jnp.dot(beta, x)))\n",
    "\n",
    "pred_proba_batch = jax.vmap(pred_proba, in_axes=(None, 0)) # Vectorize Predict Function"
   ]
  },
  {
   "cell_type": "code",
   "execution_count": null,
   "metadata": {},
   "outputs": [],
   "source": [
    "@jax.jit\n",
    "def get_label(p, threshold=0.5):\n",
    "    pred_bool = p > threshold\n",
    "    pred_label = 2*pred_bool - 1\n",
    "    return pred_label\n",
    "\n",
    "def get_accuracy(p, Y):\n",
    "    \"\"\" Compare the predicted probability (p) with the ground truth labels (Y) to get the accuracy \"\"\"\n",
    "    return jnp.mean(Y==get_label(p))\n",
    "\n",
    "from sklearn.metrics import roc_auc_score\n",
    "\n",
    "def get_auc(p, Y):\n",
    "    return roc_auc_score(p, Y)"
   ]
  },
  {
   "cell_type": "code",
   "execution_count": null,
   "metadata": {},
   "outputs": [],
   "source": [
    "def test_acc_auc(beta, Y_true, test_img_arr):\n",
    "    \"\"\"\n",
    "    Get the accuracy and AUC-ROC score for test data\n",
    "     beta: Model Parameters\n",
    "     Y_true: Ground truth labels\n",
    "     test_img_arr: test images represented by an array\n",
    "    \"\"\"\n",
    "    test_pred = pred_proba_batch(beta, test_img_arr)\n",
    "    test_acc = get_accuracy(test_pred, Y_true)\n",
    "    test_auc = get_auc(Y_true, test_pred)\n",
    "    \n",
    "    print(f'Test Accuracy is {test_acc:.2f}')\n",
    "    print(f'Test AUC is {test_auc:.2f}')\n",
    "    \n",
    "    return test_acc, test_auc"
   ]
  },
  {
   "cell_type": "markdown",
   "metadata": {},
   "source": [
    "## Utility Functions for Basic Logistic Regression"
   ]
  },
  {
   "cell_type": "code",
   "execution_count": 7,
   "metadata": {},
   "outputs": [],
   "source": [
    "@jax.jit\n",
    "def loss_single(beta, x, y):\n",
    "    \"\"\" logistic regression loss on a single image \"\"\"\n",
    "    return jnp.log(1. + jnp.exp(-y*jnp.dot(x,beta)))\n",
    "loss_batch = jax.vmap(loss_single, in_axes=(None, 0, 0)) # Vectorize Loss Function"
   ]
  },
  {
   "cell_type": "code",
   "execution_count": 8,
   "metadata": {},
   "outputs": [],
   "source": [
    "@jax.jit\n",
    "def loss_LR(beta, X, Y):\n",
    "    \"\"\"\n",
    "    Minibatch Logistic regression loss\n",
    "    \n",
    "    args:\n",
    "    ====\n",
    "     beta: LR parameter\n",
    "     X: array[:,:] of images\n",
    "     Y: array[:] of labels\n",
    "    \"\"\"\n",
    "    # compute all the individual losses\n",
    "    losses = loss_batch(beta, X, Y)\n",
    "    return jnp.mean(losses)\n",
    "\n",
    "# compute derivates\n",
    "loss_LR_grad = jax.jit(jax.grad(loss_LR, argnums=0))\n",
    "loss_LR_values_and_grad = jax.jit(jax.value_and_grad(loss_LR, argnums=0))"
   ]
  },
  {
   "cell_type": "markdown",
   "metadata": {},
   "source": [
    "## Utility Functions for Regularized Logistic Regression (Ridge, Lasso, ...)"
   ]
  },
  {
   "cell_type": "code",
   "execution_count": 11,
   "metadata": {},
   "outputs": [
    {
     "data": {
      "text/plain": [
       "CpuDevice(id=0)"
      ]
     },
     "execution_count": 11,
     "metadata": {},
     "output_type": "execute_result"
    }
   ],
   "source": [
    "### Ridge\n",
    "@jax.jit\n",
    "def loss_ridge(beta, X, Y, lambda_ridge=0.5):\n",
    "    \"\"\"\n",
    "    Minibatch Logistic regression loss\n",
    "    \n",
    "    args:\n",
    "    ====\n",
    "     beta: LR parameter\n",
    "     X: array[:,:] of images\n",
    "     Y: array[:] of labels\n",
    "     lambda_ridge: ridge parameter, default 0.5\n",
    "    \"\"\"\n",
    "    # compute all the individual losses\n",
    "    loss_original = np.sum(loss_batch(beta, X, Y))\n",
    "    loss_batch_ridge = loss_original + lambda_ridge*np.sum(beta**2)\n",
    "\n",
    "    return loss_batch_ridge/len(Y)\n",
    "\n",
    "# compute derivates\n",
    "loss_ridge_grad = jax.jit(jax.grad(loss_ridge, argnums=0))\n",
    "loss_ridge_values_and_grad = jax.jit(jax.value_and_grad(loss_ridge, argnums=0))"
   ]
  },
  {
   "cell_type": "code",
   "execution_count": null,
   "metadata": {},
   "outputs": [],
   "source": [
    "@jax.jit\n",
    "def loss_lasso(beta, X, Y, lambda_lasso=0.5):\n",
    "    \"\"\"\n",
    "    Minibatch Logistic regression loss\n",
    "    \n",
    "    args:\n",
    "    ====\n",
    "     beta: LR parameter\n",
    "     X: array[:,:] of images\n",
    "     Y: array[:] of labels\n",
    "     lambda_lasso: lasso parameter, default 0.5\n",
    "    \"\"\"\n",
    "    # compute all the individual losses\n",
    "    loss_original = np.sum(loss_batch(beta, X, Y))\n",
    "    loss_batch_lasso = loss_original + lambda_lasso*np.sum(np.abs(beta))\n",
    "\n",
    "    return loss_batch_lasso/len(Y)\n",
    "\n",
    "# compute derivates\n",
    "loss_lasso_grad = jax.jit(jax.grad(loss_lasso, argnums=0))\n",
    "loss_lasso_values_and_grad = jax.jit(jax.value_and_grad(loss_lasso, argnums=0))"
   ]
  },
  {
   "cell_type": "markdown",
   "metadata": {},
   "source": [
    "## Utility Functions for Training Model and Backcalling"
   ]
  },
  {
   "cell_type": "code",
   "execution_count": 12,
   "metadata": {},
   "outputs": [],
   "source": [
    "def train_SGD(train_img, train_label, beta_init, lr, val_grad_fn, verbose = 0, n_epoch=10, mb_size=100):\n",
    "    \"\"\"\n",
    "     Find optimized beta given train images and train labels using Stochastic Gradient Descent (SGD)\n",
    "     \n",
    "    Inputs:\n",
    "     train_img: Training images (in the format of [n,:] array, where n is the number of images)\n",
    "     train_label: Training labels (in the format of [n, 1] array, where n is the number of labels)\n",
    "     beta: Starting point of beta (weights)\n",
    "     lr: Learning rate\n",
    "     val_grad_fn: Function to return the loss value and gradient given X and Y\n",
    "     verbose: Print time elapsed, training loss and test accuracy for each epoch if verbose = 1, default 0\n",
    "     n_epoch: Number of epoch to run the algo, default 10\n",
    "     mb_size: Minibatch size, default 100\n",
    "     \n",
    "    Outputs:\n",
    "     loss_history: Loss for training history at end of each minibatch\n",
    "     loss_history_end_epoch: Loss at the end of each epoch\n",
    "     test_acc_history: Test accuracy at the end of each epoch\n",
    "     beta: The final updated values of beta\n",
    "    \"\"\"\n",
    "    minibatch_size = mb_size #size of the minibatchs\n",
    "    N = len(train_img)  #15000, total number of images\n",
    "    img_indices = np.arange(N)\n",
    "\n",
    "    loss_history_end_epoch = []\n",
    "    loss_history = []\n",
    "    test_acc_history = []\n",
    "    beta = np.copy(beta_init)\n",
    "    learning_rate = lr\n",
    "\n",
    "    for epoch in range(n_epoch):\n",
    "        # go through all the minibatches, sequetially\n",
    "        start = time.time()\n",
    "        n_minibatch = N // minibatch_size + 1\n",
    "        # randomize the batches\n",
    "        np.random.shuffle(img_indices)\n",
    "\n",
    "        all_loss_within_epoch = []\n",
    "        for k in range(n_minibatch):\n",
    "            # create the minibatch of examples\n",
    "            batch_indices = np.arange(k*minibatch_size, (k+1)*minibatch_size) % N\n",
    "            batch_indices = img_indices[batch_indices]\n",
    "            X_minibatch = train_img[batch_indices]\n",
    "            Y_minibatch = train_label[batch_indices]\n",
    "\n",
    "            # compute the stochastic gradient\n",
    "            val, grad = val_grad_fn(beta, X_minibatch, Y_minibatch)\n",
    "\n",
    "            # do one step of SGD\n",
    "            beta = beta - learning_rate*grad\n",
    "\n",
    "            # book-keeping\n",
    "            loss_history.append(val)\n",
    "            all_loss_within_epoch.append(val)\n",
    "            \n",
    "        loss_history_end_epoch.append(np.mean(all_loss_within_epoch))\n",
    "        end = time.time()\n",
    "        duration = end - start\n",
    "        test_proba = pred_proba_batch(beta, test_img_arr)\n",
    "        test_acc = get_accuracy(test_proba, test_label)\n",
    "        test_acc_history.append(test_acc)\n",
    "        if verbose == 1:\n",
    "            print(f\"Epoch {epoch}: {duration:.2f} seconds, Loss: {loss_history_end_epoch[-1]:.2f}, Test Accuracy: {test_acc:.3f}\")\n",
    "    \n",
    "    return loss_history, loss_history_end_epoch, test_acc_history, beta"
   ]
  },
  {
   "cell_type": "code",
   "execution_count": 13,
   "metadata": {},
   "outputs": [],
   "source": [
    "def train_SGD_step_decay(train_img, train_label, beta_init, lr, val_grad_fn, lr_decay=0.5, n_steps=5, verbose = 0, n_epoch=10, mb_size=100):\n",
    "    \"\"\"\n",
    "     Find optimized beta given train images and train labels with fix epoch learning rate decay using SGD with step decay\n",
    "     \n",
    "    Inputs:\n",
    "     train_img: Training images (in the format of [n,:] array, where n is the number of images)\n",
    "     train_label: Training labels (in the format of [n, 1] array, where n is the number of labels)\n",
    "     beta: Starting point of beta (weights)\n",
    "     lr: Learning rate\n",
    "     val_grad_fn: Function to return the loss value and gradient given X and Y\n",
    "     lr_decay: Learning rate decay rate, default 0.5\n",
    "     n_steps: Number of epochs to decay the learning rate\n",
    "     verbose: Print time elapsed, training loss and test accuracy for each epoch if verbose = 1, default 0\n",
    "     n_epoch: Number of epoch to run the algo, default 10\n",
    "     mb_size: Minibatch size, default 100\n",
    "     \n",
    "    Outputs:\n",
    "     loss_history: Loss for training history at end of each minibatch\n",
    "     loss_history_end_epoch: Loss at the end of each epoch\n",
    "     test_acc_history: Test accuracy at the end of each epoch\n",
    "     beta: The final updated values of beta\n",
    "    \"\"\"\n",
    "    minibatch_size = mb_size #size of the minibatchs\n",
    "    N = len(train_img)  #15000, total number of images\n",
    "    img_indices = np.arange(N)\n",
    "\n",
    "    loss_history_end_epoch = []\n",
    "    loss_history = []\n",
    "    test_acc_history = []\n",
    "    beta = np.copy(beta_init)\n",
    "    learning_rate = lr\n",
    "\n",
    "    for epoch in range(n_epoch):\n",
    "        # go through all the minibatches, sequetially\n",
    "        start = time.time()\n",
    "        n_minibatch = N // minibatch_size + 1\n",
    "        # randomize the batches\n",
    "        np.random.shuffle(img_indices)\n",
    "\n",
    "        all_loss_within_epoch = []\n",
    "        for k in range(n_minibatch):\n",
    "            # create the minibatch of examples\n",
    "            batch_indices = np.arange(k*minibatch_size, (k+1)*minibatch_size) % N\n",
    "            batch_indices = img_indices[batch_indices]\n",
    "            X_minibatch = train_img[batch_indices]\n",
    "            Y_minibatch = train_label[batch_indices]\n",
    "\n",
    "            # compute the stochastic gradient\n",
    "            val, grad = val_grad_fn(beta, X_minibatch, Y_minibatch)\n",
    "\n",
    "            # do one step of SGD\n",
    "            beta = beta - learning_rate*grad\n",
    "\n",
    "            # book-keeping\n",
    "            loss_history.append(val)\n",
    "            all_loss_within_epoch.append(val)\n",
    "            \n",
    "        loss_history_end_epoch.append(np.mean(all_loss_within_epoch))\n",
    "        end = time.time()\n",
    "        duration = end - start\n",
    "        test_proba = pred_proba_batch(beta, test_img_arr)\n",
    "        test_acc = get_accuracy(test_proba, test_label)\n",
    "        test_acc_history.append(test_acc)\n",
    "        \n",
    "        if (epoch + 1) % n_steps == 0:\n",
    "            learning_rate = learning_rate * lr_decay\n",
    "        \n",
    "        if verbose == 1:\n",
    "            print(f\"Epoch {epoch}: {duration:.2f} seconds, Loss: {loss_history_end_epoch[-1]:.2f}, Test Accuracy: {test_acc:.3f}\")\n",
    "    return loss_history, loss_history_end_epoch, test_acc_history, beta"
   ]
  },
  {
   "cell_type": "code",
   "execution_count": 14,
   "metadata": {},
   "outputs": [],
   "source": [
    "def train_SGD_heuristic(train_img, train_label, beta_init, lr, val_grad_fn, lr_decay=0.5, valid_size=0.2, verbose = 0, n_epoch=10, mb_size=100):\n",
    "    \"\"\"\n",
    "     Find optimized beta given train images and train labels with heuristic learning rate decay using SGD with heuristic learning rate decay\n",
    "     \n",
    "    Inputs:\n",
    "     train_img: Training images (in the format of [n,:] array, where n is the number of images)\n",
    "     train_label: Training labels (in the format of [n, 1] array, where n is the number of labels)\n",
    "     beta: Starting point of beta (weights)\n",
    "     lr: Learning rate\n",
    "     val_grad_fn: Function to return the loss value and gradient given X and Y\n",
    "     lr_decay: Learning rate decay rate, default 0.5\n",
    "     valid_size: Proportion of training images to be used as validation data\n",
    "     verbose: Print time elapsed, training loss and test accuracy for each epoch if verbose = 1, default 0\n",
    "     n_epoch: Number of epoch to run the algo, default 10\n",
    "     mb_size: Minibatch size, default 100\n",
    "     \n",
    "    Outputs:\n",
    "     loss_history: Loss for training history at end of each minibatch\n",
    "     loss_history_end_epoch: Loss at the end of each epoch\n",
    "     valid_acc_history: Valid accuracy at the end of each epoch\n",
    "     beta: The final updated values of beta\n",
    "    \"\"\"\n",
    "    minibatch_size = mb_size #size of the minibatchs\n",
    "    N = len(train_img)  #15000, total number of images\n",
    "    img_indices = np.arange(N)\n",
    "\n",
    "    loss_history_end_epoch = []\n",
    "    loss_history = []\n",
    "    valid_acc_history = []\n",
    "    beta = np.copy(beta_init)\n",
    "    learning_rate = lr\n",
    "    \n",
    "    valid_img_arr = train_img[int(-valid_size*N):]\n",
    "    valid_label = train_label[int(-valid_size*N):]\n",
    "\n",
    "    for epoch in range(n_epoch):\n",
    "        # go through all the minibatches, sequetially\n",
    "        start = time.time()\n",
    "        n_minibatch = N // minibatch_size + 1\n",
    "        # randomize the batches\n",
    "        np.random.shuffle(img_indices)\n",
    "\n",
    "        all_loss_within_epoch = []\n",
    "        for k in range(n_minibatch):\n",
    "            # create the minibatch of examples\n",
    "            batch_indices = np.arange(k*minibatch_size, (k+1)*minibatch_size) % N\n",
    "            batch_indices = img_indices[batch_indices]\n",
    "            X_minibatch = train_img[batch_indices]\n",
    "            Y_minibatch = train_label[batch_indices]\n",
    "\n",
    "            # compute the stochastic gradient\n",
    "            val, grad = val_grad_fn(beta, X_minibatch, Y_minibatch)\n",
    "\n",
    "            # do one step of SGD\n",
    "            beta = beta - learning_rate*grad\n",
    "\n",
    "            # book-keeping\n",
    "            loss_history.append(val)\n",
    "            all_loss_within_epoch.append(val)\n",
    "            \n",
    "        loss_history_end_epoch.append(np.mean(all_loss_within_epoch))\n",
    "        end = time.time()\n",
    "        duration = end - start\n",
    "        \n",
    "        valid_acc_new = get_accuracy(pred_proba_batch(beta, valid_img_arr), valid_label)\n",
    "        valid_acc_history.append(valid_acc_new)\n",
    "        \n",
    "        if epoch == 0:\n",
    "            valid_acc = valid_acc_new\n",
    "        elif valid_acc_new < valid_acc:\n",
    "            learning_rate = learning_rate * lr_decay\n",
    "        valid_acc = valid_acc_new\n",
    "        \n",
    "        if verbose == 1:\n",
    "            print(f\"Epoch {epoch}: {duration:.2f} seconds, Loss: {loss_history_end_epoch[-1]:.2f}, Validation Accuracy: {valid_acc:.3f}\")\n",
    "    return loss_history, loss_history_end_epoch, valid_acc_history, beta"
   ]
  },
  {
   "cell_type": "code",
   "execution_count": 20,
   "metadata": {},
   "outputs": [],
   "source": [
    "## with fixed decay_constant\n",
    "def train_SGD_scheduled_decay(train_img, train_label, beta_init, lr, val_grad_fn, lr_decay=0.5, n_steps=5, verbose = 0, n_epoch=10, mb_size=100, decay_constant=0.5):\n",
    "    \"\"\"\n",
    "     Find optimized beta given train images and train labels with fix epoch learning rate decay using SGD with scheduled decay\n",
    "     \n",
    "    Inputs:\n",
    "     train_img: Training images (in the format of [n,:] array, where n is the number of images)\n",
    "     train_label: Training labels (in the format of [n, 1] array, where n is the number of labels)\n",
    "     beta: Starting point of beta (weights)\n",
    "     lr: Learning rate\n",
    "     val_grad_fn: Function to return the loss value and gradient given X and Y\n",
    "     lr_decay: Learning rate decay rate, default 0.5\n",
    "     n_steps: Number of epochs to decay the learning rate\n",
    "     verbose: Print time elapsed, training loss and test accuracy for each epoch if verbose = 1, default 0\n",
    "     n_epoch: Number of epoch to run the algo, default 10\n",
    "     mb_size: Minibatch size, default 100\n",
    "     decay_constant: choise of decay_constant, defult 0.5\n",
    "     \n",
    "    Outputs:\n",
    "     loss_history: Loss for training history at end of each minibatch\n",
    "     loss_history_end_epoch: Loss at the end of each epoch\n",
    "     test_acc_history: Test accuracy at the end of each epoch\n",
    "     beta: The final updated values of beta\n",
    "    \"\"\"\n",
    "    minibatch_size = mb_size #size of the minibatchs\n",
    "    N = len(train_img)  #15000, total number of images\n",
    "    img_indices = np.arange(N)\n",
    "\n",
    "    loss_history_end_epoch = []\n",
    "    loss_history = []\n",
    "    test_acc_history = []\n",
    "    beta = np.copy(beta_init)\n",
    "    learning_rate = lr\n",
    "\n",
    "    for epoch in range(n_epoch):\n",
    "        # go through all the minibatches, sequetially\n",
    "        start = time.time()\n",
    "        n_minibatch = N // minibatch_size + 1\n",
    "        # randomize the batches\n",
    "        np.random.shuffle(img_indices)\n",
    "\n",
    "        all_loss_within_epoch = []\n",
    "        for k in range(n_minibatch):\n",
    "            # create the minibatch of examples\n",
    "            batch_indices = np.arange(k*minibatch_size, (k+1)*minibatch_size) % N\n",
    "            batch_indices = img_indices[batch_indices]\n",
    "            X_minibatch = train_img[batch_indices]\n",
    "            Y_minibatch = train_label[batch_indices]\n",
    "\n",
    "            # compute the stochastic gradient\n",
    "            val, grad = val_grad_fn(beta, X_minibatch, Y_minibatch)\n",
    "\n",
    "            # do one step of SGD\n",
    "            beta = beta - learning_rate*grad\n",
    "\n",
    "            # book-keeping\n",
    "            loss_history.append(val)\n",
    "            all_loss_within_epoch.append(val)\n",
    "            \n",
    "        loss_history_end_epoch.append(np.mean(all_loss_within_epoch))\n",
    "        end = time.time()\n",
    "        duration = end - start\n",
    "\n",
    "        test_proba = pred_proba_batch(beta, test_img_arr)\n",
    "        test_acc = get_accuracy(test_proba, test_label)\n",
    "        test_acc_history.append(test_acc)\n",
    "        \n",
    "        learning_rate = learning_rate /(1 + decay_constant*epoch) # Schedule decay\n",
    "\n",
    "        if verbose == 1:\n",
    "            print(f\"Epoch {epoch}: {duration:.2f} seconds, Loss: {loss_history_end_epoch[-1]:.2f}, Test Accuracy: {test_acc:.3f}\")\n",
    "\n",
    "    return loss_history, loss_history_end_epoch, test_acc_history, beta"
   ]
  },
  {
   "cell_type": "code",
   "execution_count": 25,
   "metadata": {},
   "outputs": [],
   "source": [
    "## with fixed mom_constant\n",
    "def train_SGD_mom(train_img, train_label, beta_init, lr, val_grad_fn, lr_decay=0.5, n_steps=5, verbose = 0, n_epoch=10, mb_size=100, mom_constant=0.5):\n",
    "    \"\"\"\n",
    "     Find optimized beta given train images and train labels with fix epoch learning rate decay using SGD plus momentum\n",
    "     \n",
    "    Inputs:\n",
    "     train_img: Training images (in the format of [n,:] array, where n is the number of images)\n",
    "     train_label: Training labels (in the format of [n, 1] array, where n is the number of labels)\n",
    "     beta: Starting point of beta (weights)\n",
    "     lr: Learning rate\n",
    "     val_grad_fn: Function to return the loss value and gradient given X and Y\n",
    "     lr_decay: Learning rate decay rate, default 0.5\n",
    "     n_steps: Number of epochs to decay the learning rate\n",
    "     verbose: Print time elapsed, training loss and test accuracy for each epoch if verbose = 1, default 0\n",
    "     n_epoch: Number of epoch to run the algo, default 10\n",
    "     mb_size: Minibatch size, default 100\n",
    "     mom_constant: choise of momentum constant, default 0.5\n",
    "\n",
    "    Outputs:\n",
    "     loss_history: Loss for training history at end of each minibatch\n",
    "     loss_history_end_epoch: Loss at the end of each epoch\n",
    "     test_acc_history: Test accuracy at the end of each epoch\n",
    "     beta: The final updated values of beta\n",
    "    \"\"\"\n",
    "    minibatch_size = mb_size #size of the minibatchs\n",
    "    N = len(train_img)  #15000, total number of images\n",
    "    img_indices = np.arange(N)\n",
    "\n",
    "    loss_history_end_epoch = []\n",
    "    loss_history = []\n",
    "    test_acc_history = []\n",
    "    beta = np.copy(beta_init)\n",
    "    beta_old = np.copy(beta_init)\n",
    "    learning_rate = lr\n",
    "\n",
    "    for epoch in range(n_epoch):\n",
    "        # go through all the minibatches, sequetially\n",
    "        start = time.time()\n",
    "        n_minibatch = N // minibatch_size + 1\n",
    "        # randomize the batches\n",
    "        np.random.shuffle(img_indices)\n",
    "\n",
    "        all_loss_within_epoch = []\n",
    "        for k in range(n_minibatch):\n",
    "            # create the minibatch of examples\n",
    "            batch_indices = np.arange(k*minibatch_size, (k+1)*minibatch_size) % N\n",
    "            batch_indices = img_indices[batch_indices]\n",
    "            X_minibatch = train_img[batch_indices]\n",
    "            Y_minibatch = train_label[batch_indices]\n",
    "\n",
    "            # compute the stochastic gradient\n",
    "            val, grad = val_grad_fn(beta, X_minibatch, Y_minibatch)\n",
    "\n",
    "            # do one step of SGD\n",
    "            mom = beta - beta_old\n",
    "            beta_old = beta\n",
    "            beta = beta - learning_rate*grad + mom_constant*mom\n",
    "\n",
    "\n",
    "            # book-keeping\n",
    "            loss_history.append(val)\n",
    "            all_loss_within_epoch.append(val)\n",
    "            \n",
    "        loss_history_end_epoch.append(np.mean(all_loss_within_epoch))\n",
    "        end = time.time()\n",
    "        duration = end - start\n",
    "        \n",
    "        test_proba = pred_proba_batch(beta, test_img_arr)\n",
    "        test_acc = get_accuracy(test_proba, test_label)\n",
    "        test_acc_history.append(test_acc)\n",
    "        \n",
    "\n",
    "        if verbose == 1:\n",
    "            print(f\"Epoch {epoch}: {duration:.2f} seconds, Loss: {loss_history_end_epoch[-1]:.2f}, Test Accuracy: {test_acc:.3f}\")\n",
    "\n",
    "    return loss_history, loss_history_end_epoch, test_acc_history, beta"
   ]
  },
  {
   "cell_type": "markdown",
   "metadata": {},
   "source": [
    "## Utility Functions for Plotting Graph"
   ]
  },
  {
   "cell_type": "code",
   "execution_count": 15,
   "metadata": {},
   "outputs": [],
   "source": [
    "def plot_loss(loss_history):\n",
    "    plt.plot(loss_history, \"-^\")\n",
    "    plt.yscale(\"log\")\n",
    "    plt.xlabel(\"Epochs\")\n",
    "    plt.grid(True)"
   ]
  },
  {
   "cell_type": "code",
   "execution_count": null,
   "metadata": {},
   "outputs": [],
   "source": []
  },
  {
   "cell_type": "markdown",
   "metadata": {
    "tags": []
   },
   "source": [
    "## Import Data\n",
    "### Notice: Images are only loaded as file names at this stage, to read as numerical arrays, use image_loader/image_loader_fname"
   ]
  },
  {
   "cell_type": "code",
   "execution_count": 16,
   "metadata": {},
   "outputs": [],
   "source": [
    "# Proportion of Males in first 15000? first 200?\n",
    "train_img = all_img[:15000]\n",
    "train_label = attribute['Male'][:15000]\n",
    "train_label = np.array(train_label).reshape(-1)\n",
    "\n",
    "test_img = all_img[15000:]\n",
    "test_label = attribute['Male'][15000:]\n",
    "test_label = np.array(test_label).reshape(-1)\n",
    "\n",
    "train_small_img = all_img[:200]\n",
    "train_small_label = attribute['Male'][:200]\n",
    "train_small_label = np.array(train_small_label).reshape(-1)"
   ]
  },
  {
   "cell_type": "markdown",
   "metadata": {},
   "source": [
    "### Delete the arrays to clear up memeory and prevent RAM OOM"
   ]
  },
  {
   "cell_type": "code",
   "execution_count": 17,
   "metadata": {},
   "outputs": [],
   "source": [
    "import gc\n",
    "def clear_image_cache(var_list):\n",
    "    for var in var_list:\n",
    "        if var in globals().keys():\n",
    "            del globals()[var]\n",
    "    gc.collect()\n",
    "# del test_img_arr\n",
    "# del train_img_arr"
   ]
  },
  {
   "cell_type": "markdown",
   "metadata": {},
   "source": [
    "### Convert images into numerical arrays"
   ]
  },
  {
   "cell_type": "code",
   "execution_count": 18,
   "metadata": {
    "tags": []
   },
   "outputs": [
    {
     "name": "stdout",
     "output_type": "stream",
     "text": [
      "Number of images imported: 1000, Time elapsed: 9.65\n",
      "Number of images imported: 2000, Time elapsed: 18.35\n",
      "Number of images imported: 3000, Time elapsed: 26.79\n",
      "Number of images imported: 4000, Time elapsed: 34.78\n",
      "Number of images imported: 5000, Time elapsed: 42.90\n",
      "Number of images imported: 6000, Time elapsed: 51.66\n",
      "Number of images imported: 7000, Time elapsed: 60.36\n",
      "Number of images imported: 8000, Time elapsed: 68.27\n",
      "Number of images imported: 9000, Time elapsed: 76.83\n",
      "Number of images imported: 10000, Time elapsed: 84.80\n",
      "Number of images imported: 11000, Time elapsed: 93.06\n",
      "Number of images imported: 12000, Time elapsed: 101.02\n",
      "Number of images imported: 13000, Time elapsed: 109.12\n",
      "Number of images imported: 14000, Time elapsed: 117.36\n",
      "Number of images imported: 15000, Time elapsed: 125.48\n",
      "Number of images imported: 1000, Time elapsed: 7.75\n",
      "Number of images imported: 2000, Time elapsed: 15.64\n",
      "Number of images imported: 3000, Time elapsed: 23.60\n",
      "Number of images imported: 4000, Time elapsed: 31.79\n",
      "Number of images imported: 5000, Time elapsed: 39.64\n"
     ]
    }
   ],
   "source": [
    "img_list = ['test_img_arr', 'train_img_arr']\n",
    "clear_image_cache(img_list)\n",
    "\n",
    "pixels = 178\n",
    "res = [pixels, pixels]\n",
    "grey = False\n",
    "\n",
    "train_img_arr = image_loader_fname(train_img, res, grey)\n",
    "test_img_arr = image_loader_fname(test_img, res, grey)"
   ]
  },
  {
   "cell_type": "code",
   "execution_count": 21,
   "metadata": {},
   "outputs": [
    {
     "data": {
      "text/plain": [
       "(15000, 95052)"
      ]
     },
     "execution_count": 21,
     "metadata": {},
     "output_type": "execute_result"
    }
   ],
   "source": [
    "train_img_arr.shape"
   ]
  },
  {
   "cell_type": "code",
   "execution_count": 22,
   "metadata": {},
   "outputs": [
    {
     "data": {
      "text/plain": [
       "(5000, 95052)"
      ]
     },
     "execution_count": 22,
     "metadata": {},
     "output_type": "execute_result"
    }
   ],
   "source": [
    "test_img_arr.shape"
   ]
  },
  {
   "cell_type": "markdown",
   "metadata": {},
   "source": [
    "## Basic SGD"
   ]
  },
  {
   "cell_type": "code",
   "execution_count": 23,
   "metadata": {},
   "outputs": [],
   "source": [
    "# initialize beta at random\n",
    "np.random.seed(42)\n",
    "beta_standard_dev = 1. / np.sqrt(3) / pixels\n",
    "beta_init = np.random.normal(0,beta_standard_dev,3*pixels*pixels)"
   ]
  },
  {
   "cell_type": "code",
   "execution_count": 24,
   "metadata": {},
   "outputs": [
    {
     "name": "stdout",
     "output_type": "stream",
     "text": [
      "Epoch 0: 5.33 seconds, Loss: 12.15, Test Accuracy: 0.665\n",
      "Epoch 1: 4.10 seconds, Loss: 9.20, Test Accuracy: 0.685\n",
      "Epoch 2: 4.29 seconds, Loss: 7.95, Test Accuracy: 0.707\n",
      "Epoch 3: 4.28 seconds, Loss: 7.07, Test Accuracy: 0.720\n",
      "Epoch 4: 4.39 seconds, Loss: 6.49, Test Accuracy: 0.720\n",
      "Epoch 5: 4.42 seconds, Loss: 6.10, Test Accuracy: 0.742\n",
      "Epoch 6: 4.17 seconds, Loss: 5.74, Test Accuracy: 0.749\n",
      "Epoch 7: 4.25 seconds, Loss: 5.34, Test Accuracy: 0.757\n",
      "Epoch 8: 3.97 seconds, Loss: 5.15, Test Accuracy: 0.738\n",
      "Epoch 9: 4.39 seconds, Loss: 4.81, Test Accuracy: 0.764\n",
      "Epoch 10: 4.20 seconds, Loss: 4.61, Test Accuracy: 0.777\n",
      "Epoch 11: 4.04 seconds, Loss: 4.39, Test Accuracy: 0.778\n",
      "Epoch 12: 3.94 seconds, Loss: 4.24, Test Accuracy: 0.786\n",
      "Epoch 13: 3.94 seconds, Loss: 4.17, Test Accuracy: 0.790\n",
      "Epoch 14: 3.92 seconds, Loss: 3.99, Test Accuracy: 0.786\n",
      "Epoch 15: 3.90 seconds, Loss: 3.89, Test Accuracy: 0.793\n",
      "Epoch 16: 3.87 seconds, Loss: 3.73, Test Accuracy: 0.800\n",
      "Epoch 17: 3.87 seconds, Loss: 3.64, Test Accuracy: 0.797\n",
      "Epoch 18: 3.88 seconds, Loss: 3.66, Test Accuracy: 0.806\n",
      "Epoch 19: 3.86 seconds, Loss: 3.43, Test Accuracy: 0.799\n"
     ]
    }
   ],
   "source": [
    "loss_SGD, loss_epoch_SGD, test_acc_SGD, beta_SGD = train_SGD(\n",
    "    train_img_arr, train_label, beta_init, 1e-7, loss_LR_values_and_grad, n_epoch = 20, mb_size = 100, verbose = 1)"
   ]
  },
  {
   "cell_type": "code",
   "execution_count": 26,
   "metadata": {},
   "outputs": [
    {
     "data": {
      "image/png": "[encoded data removed]",
      "text/plain": [
       "<Figure size 432x288 with 1 Axes>"
      ]
     },
     "metadata": {
      "needs_background": "light"
     },
     "output_type": "display_data"
    }
   ],
   "source": [
    "plot_loss(loss_epoch_SGD)"
   ]
  },
  {
   "cell_type": "code",
   "execution_count": 27,
   "metadata": {},
   "outputs": [
    {
     "name": "stdout",
     "output_type": "stream",
     "text": [
      "Test Accuracy is 0.80\n",
      "Test AUC is 0.88\n"
     ]
    }
   ],
   "source": [
    "acc_test, auc_test = test_acc_auc(beta_SGD, test_label, test_img_arr)"
   ]
  },
  {
   "cell_type": "markdown",
   "metadata": {},
   "source": [
    "## Annealing"
   ]
  },
  {
   "cell_type": "markdown",
   "metadata": {},
   "source": [
    "### Step Decay"
   ]
  },
  {
   "cell_type": "code",
   "execution_count": 28,
   "metadata": {},
   "outputs": [
    {
     "name": "stdout",
     "output_type": "stream",
     "text": [
      "Epoch 0: 4.20 seconds, Loss: 12.04, Test Accuracy: 0.658\n",
      "Epoch 1: 4.26 seconds, Loss: 9.18, Test Accuracy: 0.681\n",
      "Epoch 2: 4.54 seconds, Loss: 8.01, Test Accuracy: 0.700\n",
      "Epoch 3: 4.08 seconds, Loss: 7.17, Test Accuracy: 0.718\n",
      "Epoch 4: 4.03 seconds, Loss: 6.55, Test Accuracy: 0.724\n",
      "Epoch 5: 4.08 seconds, Loss: 5.94, Test Accuracy: 0.733\n",
      "Epoch 6: 4.01 seconds, Loss: 5.71, Test Accuracy: 0.739\n",
      "Epoch 7: 4.06 seconds, Loss: 5.52, Test Accuracy: 0.747\n",
      "Epoch 8: 3.99 seconds, Loss: 5.38, Test Accuracy: 0.752\n",
      "Epoch 9: 4.12 seconds, Loss: 5.23, Test Accuracy: 0.752\n",
      "Epoch 10: 4.13 seconds, Loss: 5.07, Test Accuracy: 0.753\n",
      "Epoch 11: 4.12 seconds, Loss: 4.97, Test Accuracy: 0.758\n",
      "Epoch 12: 4.17 seconds, Loss: 4.93, Test Accuracy: 0.757\n",
      "Epoch 13: 4.12 seconds, Loss: 4.88, Test Accuracy: 0.761\n",
      "Epoch 14: 4.03 seconds, Loss: 4.81, Test Accuracy: 0.762\n",
      "Epoch 15: 4.02 seconds, Loss: 4.73, Test Accuracy: 0.763\n",
      "Epoch 16: 4.22 seconds, Loss: 4.70, Test Accuracy: 0.764\n",
      "Epoch 17: 4.36 seconds, Loss: 4.70, Test Accuracy: 0.765\n",
      "Epoch 18: 4.20 seconds, Loss: 4.66, Test Accuracy: 0.766\n",
      "Epoch 19: 4.15 seconds, Loss: 4.65, Test Accuracy: 0.767\n"
     ]
    }
   ],
   "source": [
    "loss_step, loss_epoch_step, test_acc_step, beta_step = train_SGD_step_decay(\n",
    "    train_img_arr, train_label, beta_init, 1e-7, loss_LR_values_and_grad, n_epoch = 20, mb_size=100, verbose = 1)"
   ]
  },
  {
   "cell_type": "code",
   "execution_count": 29,
   "metadata": {},
   "outputs": [
    {
     "data": {
      "image/png": "[encoded data removed]",
      "text/plain": [
       "<Figure size 432x288 with 1 Axes>"
      ]
     },
     "metadata": {
      "needs_background": "light"
     },
     "output_type": "display_data"
    }
   ],
   "source": [
    "plot_loss(loss_epoch_step)"
   ]
  },
  {
   "cell_type": "code",
   "execution_count": 30,
   "metadata": {},
   "outputs": [
    {
     "name": "stdout",
     "output_type": "stream",
     "text": [
      "Test Accuracy is 0.77\n",
      "Test AUC is 0.83\n"
     ]
    }
   ],
   "source": [
    "acc_test, auc_test = test_acc_auc(beta_step, test_label, test_img_arr)"
   ]
  },
  {
   "cell_type": "markdown",
   "metadata": {},
   "source": [
    "### Heuristic"
   ]
  },
  {
   "cell_type": "code",
   "execution_count": 31,
   "metadata": {},
   "outputs": [
    {
     "name": "stdout",
     "output_type": "stream",
     "text": [
      "Epoch 0: 4.02 seconds, Loss: 12.20, Validation Accuracy: 0.646\n",
      "Epoch 1: 3.94 seconds, Loss: 9.25, Validation Accuracy: 0.669\n",
      "Epoch 2: 4.20 seconds, Loss: 7.94, Validation Accuracy: 0.678\n",
      "Epoch 3: 4.22 seconds, Loss: 7.13, Validation Accuracy: 0.683\n",
      "Epoch 4: 4.03 seconds, Loss: 6.50, Validation Accuracy: 0.710\n",
      "Epoch 5: 4.02 seconds, Loss: 5.96, Validation Accuracy: 0.721\n",
      "Epoch 6: 3.93 seconds, Loss: 5.61, Validation Accuracy: 0.730\n",
      "Epoch 7: 3.97 seconds, Loss: 5.33, Validation Accuracy: 0.744\n",
      "Epoch 8: 4.14 seconds, Loss: 5.03, Validation Accuracy: 0.752\n",
      "Epoch 9: 4.03 seconds, Loss: 4.83, Validation Accuracy: 0.753\n",
      "Epoch 10: 3.99 seconds, Loss: 4.56, Validation Accuracy: 0.740\n",
      "Epoch 11: 3.98 seconds, Loss: 4.33, Validation Accuracy: 0.765\n",
      "Epoch 12: 4.08 seconds, Loss: 4.25, Validation Accuracy: 0.763\n",
      "Epoch 13: 3.96 seconds, Loss: 4.16, Validation Accuracy: 0.768\n",
      "Epoch 14: 4.56 seconds, Loss: 4.11, Validation Accuracy: 0.770\n",
      "Epoch 15: 5.30 seconds, Loss: 4.07, Validation Accuracy: 0.771\n",
      "Epoch 16: 4.47 seconds, Loss: 4.03, Validation Accuracy: 0.766\n",
      "Epoch 17: 4.18 seconds, Loss: 4.01, Validation Accuracy: 0.769\n",
      "Epoch 18: 4.07 seconds, Loss: 3.98, Validation Accuracy: 0.774\n",
      "Epoch 19: 4.03 seconds, Loss: 3.97, Validation Accuracy: 0.774\n"
     ]
    }
   ],
   "source": [
    "loss_heuristic, loss_epoch_heuristic, valid_acc_heuristic, beta_heuristic = train_SGD_heuristic(\n",
    "    train_img_arr, train_label, beta_init, 1e-7, loss_LR_values_and_grad, n_epoch = 20, verbose = 1)"
   ]
  },
  {
   "cell_type": "code",
   "execution_count": 32,
   "metadata": {},
   "outputs": [
    {
     "data": {
      "image/png": "[encoded data removed]",
      "text/plain": [
       "<Figure size 432x288 with 1 Axes>"
      ]
     },
     "metadata": {
      "needs_background": "light"
     },
     "output_type": "display_data"
    }
   ],
   "source": [
    "plot_loss(loss_epoch_heuristic)"
   ]
  },
  {
   "cell_type": "code",
   "execution_count": 33,
   "metadata": {},
   "outputs": [
    {
     "name": "stdout",
     "output_type": "stream",
     "text": [
      "Test Accuracy is 0.79\n",
      "Test AUC is 0.85\n"
     ]
    }
   ],
   "source": [
    "acc_test, auc_test = test_acc_auc(beta_heuristic, test_label, test_img_arr)"
   ]
  },
  {
   "cell_type": "markdown",
   "metadata": {},
   "source": [
    "### 1/t decay"
   ]
  },
  {
   "cell_type": "code",
   "execution_count": 37,
   "metadata": {},
   "outputs": [
    {
     "name": "stdout",
     "output_type": "stream",
     "text": [
      "Epoch 0: 4.36 seconds, Loss: 12.15, Test Accuracy: 0.666\n",
      "Epoch 1: 4.11 seconds, Loss: 9.25, Test Accuracy: 0.688\n",
      "Epoch 2: 4.15 seconds, Loss: 7.91, Test Accuracy: 0.695\n",
      "Epoch 3: 4.13 seconds, Loss: 7.39, Test Accuracy: 0.700\n",
      "Epoch 4: 4.60 seconds, Loss: 7.13, Test Accuracy: 0.704\n",
      "Epoch 5: 4.10 seconds, Loss: 7.06, Test Accuracy: 0.704\n",
      "Epoch 6: 4.48 seconds, Loss: 7.04, Test Accuracy: 0.706\n",
      "Epoch 7: 3.98 seconds, Loss: 7.02, Test Accuracy: 0.707\n",
      "Epoch 8: 3.92 seconds, Loss: 7.02, Test Accuracy: 0.707\n",
      "Epoch 9: 3.93 seconds, Loss: 7.01, Test Accuracy: 0.707\n",
      "Epoch 10: 3.92 seconds, Loss: 7.02, Test Accuracy: 0.707\n",
      "Epoch 11: 4.40 seconds, Loss: 7.03, Test Accuracy: 0.707\n",
      "Epoch 12: 4.19 seconds, Loss: 7.02, Test Accuracy: 0.707\n",
      "Epoch 13: 4.27 seconds, Loss: 7.02, Test Accuracy: 0.707\n",
      "Epoch 14: 3.99 seconds, Loss: 7.01, Test Accuracy: 0.707\n",
      "Epoch 15: 4.30 seconds, Loss: 7.02, Test Accuracy: 0.707\n",
      "Epoch 16: 4.25 seconds, Loss: 7.01, Test Accuracy: 0.707\n",
      "Epoch 17: 3.93 seconds, Loss: 7.01, Test Accuracy: 0.707\n",
      "Epoch 18: 4.08 seconds, Loss: 7.02, Test Accuracy: 0.707\n",
      "Epoch 19: 4.18 seconds, Loss: 7.03, Test Accuracy: 0.707\n"
     ]
    }
   ],
   "source": [
    "loss_schedule, loss_epoch_schedule, test_acc_schedule, beta_schedule = train_SGD_scheduled_decay(\n",
    "    train_img_arr, train_label, beta_init, 1e-7, loss_LR_values_and_grad, n_epoch = 20, mb_size = 100, verbose = 1)"
   ]
  },
  {
   "cell_type": "code",
   "execution_count": 38,
   "metadata": {},
   "outputs": [
    {
     "data": {
      "image/png": "[encoded data removed]",
      "text/plain": [
       "<Figure size 432x288 with 1 Axes>"
      ]
     },
     "metadata": {
      "needs_background": "light"
     },
     "output_type": "display_data"
    }
   ],
   "source": [
    "plot_loss(loss_epoch_schedule)"
   ]
  },
  {
   "cell_type": "code",
   "execution_count": 39,
   "metadata": {},
   "outputs": [
    {
     "name": "stdout",
     "output_type": "stream",
     "text": [
      "Test Accuracy is 0.71\n",
      "Test AUC is 0.76\n"
     ]
    }
   ],
   "source": [
    "acc_test, auc_test = test_acc_auc(beta_schedule, test_label, test_img_arr)"
   ]
  },
  {
   "cell_type": "markdown",
   "metadata": {},
   "source": [
    "## Momentum a.k.a Heavy Ball Method"
   ]
  },
  {
   "cell_type": "code",
   "execution_count": 40,
   "metadata": {},
   "outputs": [
    {
     "name": "stdout",
     "output_type": "stream",
     "text": [
      "Epoch 0: 4.10 seconds, Loss: 11.02, Test Accuracy: 0.658\n",
      "Epoch 1: 4.00 seconds, Loss: 7.72, Test Accuracy: 0.718\n",
      "Epoch 2: 4.01 seconds, Loss: 6.39, Test Accuracy: 0.743\n",
      "Epoch 3: 3.93 seconds, Loss: 5.60, Test Accuracy: 0.756\n",
      "Epoch 4: 3.94 seconds, Loss: 5.01, Test Accuracy: 0.754\n",
      "Epoch 5: 3.92 seconds, Loss: 4.59, Test Accuracy: 0.776\n",
      "Epoch 6: 3.92 seconds, Loss: 4.28, Test Accuracy: 0.788\n",
      "Epoch 7: 3.98 seconds, Loss: 3.96, Test Accuracy: 0.792\n",
      "Epoch 8: 3.95 seconds, Loss: 3.78, Test Accuracy: 0.797\n",
      "Epoch 9: 3.90 seconds, Loss: 3.65, Test Accuracy: 0.807\n",
      "Epoch 10: 3.94 seconds, Loss: 3.50, Test Accuracy: 0.811\n",
      "Epoch 11: 3.97 seconds, Loss: 3.36, Test Accuracy: 0.807\n",
      "Epoch 12: 4.09 seconds, Loss: 3.18, Test Accuracy: 0.806\n",
      "Epoch 13: 4.07 seconds, Loss: 3.04, Test Accuracy: 0.820\n",
      "Epoch 14: 4.06 seconds, Loss: 2.90, Test Accuracy: 0.825\n",
      "Epoch 15: 3.95 seconds, Loss: 2.80, Test Accuracy: 0.830\n",
      "Epoch 16: 4.21 seconds, Loss: 2.75, Test Accuracy: 0.827\n",
      "Epoch 17: 4.32 seconds, Loss: 2.69, Test Accuracy: 0.835\n",
      "Epoch 18: 4.05 seconds, Loss: 2.58, Test Accuracy: 0.822\n",
      "Epoch 19: 3.96 seconds, Loss: 2.53, Test Accuracy: 0.837\n"
     ]
    }
   ],
   "source": [
    "loss_mom, loss_epoch_mom, test_acc_mom, beta_mom = train_SGD_mom(\n",
    "    train_img_arr, train_label, beta_init, 1e-7, loss_LR_values_and_grad, n_epoch = 20, mb_size = 100, verbose = 1)"
   ]
  },
  {
   "cell_type": "code",
   "execution_count": 41,
   "metadata": {},
   "outputs": [
    {
     "data": {
      "image/png": "[encoded data removed]",
      "text/plain": [
       "<Figure size 432x288 with 1 Axes>"
      ]
     },
     "metadata": {
      "needs_background": "light"
     },
     "output_type": "display_data"
    }
   ],
   "source": [
    "plot_loss(loss_epoch_mom)"
   ]
  },
  {
   "cell_type": "code",
   "execution_count": 42,
   "metadata": {},
   "outputs": [
    {
     "name": "stdout",
     "output_type": "stream",
     "text": [
      "Test Accuracy is 0.84\n",
      "Test AUC is 0.91\n"
     ]
    }
   ],
   "source": [
    "acc_test, auc_test = test_acc_auc(beta_mom, test_label, test_img_arr)"
   ]
  },
  {
   "cell_type": "code",
   "execution_count": null,
   "metadata": {},
   "outputs": [],
   "source": []
  }
 ],
 "metadata": {
  "kernelspec": {
   "display_name": "Python 3 (ipykernel)",
   "language": "python",
   "name": "python3"
  },
  "language_info": {
   "codemirror_mode": {
    "name": "ipython",
    "version": 3
   },
   "file_extension": ".py",
   "mimetype": "text/x-python",
   "name": "python",
   "nbconvert_exporter": "python",
   "pygments_lexer": "ipython3",
   "version": "3.7.11"
  }
 },
 "nbformat": 4,
 "nbformat_minor": 4
}
