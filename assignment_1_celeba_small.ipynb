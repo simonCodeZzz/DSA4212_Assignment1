{
 "cells": [
  {
   "cell_type": "code",
   "execution_count": 1,
   "metadata": {},
   "outputs": [],
   "source": [
    "%matplotlib inline\n",
    "from jax.config import config\n",
    "config.update(\"jax_enable_x64\", True) # for higher accuracy\n",
    "config.update(\"jax_platform_name\", 'cpu') # use cpu if needed\n",
    "\n",
    "import jax\n",
    "import jax.numpy as jnp\n",
    "import numpy as np\n",
    "\n",
    "import matplotlib.pyplot as plt\n",
    "import imageio\n",
    "import os\n",
    "import numpy as onp\n",
    "# to install scikit-image: !pip install scikit-image\n",
    "from skimage.transform import rescale, resize, downscale_local_mean\n",
    "import pandas as pd\n",
    "import time\n",
    "\n",
    "import dlib\n",
    "import cv2\n",
    "import math"
   ]
  },
  {
   "cell_type": "code",
   "execution_count": 2,
   "metadata": {},
   "outputs": [],
   "source": [
    "#load attributes csv file\n",
    "path_csv  = \"D:\\\\Academics\\\\DSA\\\\4212\\\\datasets\" # Local Path (Change Here)\n",
    "# path_csv  = '/content/gdrive/My Drive/DSA4212/datasets' # Google Drive\n",
    "attribute = pd.read_csv(os.path.join(path_csv, \"celeba.csv\"))"
   ]
  },
  {
   "cell_type": "code",
   "execution_count": 3,
   "metadata": {},
   "outputs": [
    {
     "name": "stdout",
     "output_type": "stream",
     "text": [
      "Number of images: 20000\n"
     ]
    }
   ],
   "source": [
    "#let us list all the files in the image directory\n",
    "path = \"D:\\\\Academics\\\\DSA\\\\4212\\\\datasets\\\\img_celeba_small\" # Local Path (Change Here)\n",
    "# path = \"/content/img_celeba_small\" # Google Drive\n",
    "all_img = [f for f in os.listdir(path) \n",
    "                 if os.path.isfile(os.path.join(path, f)) \n",
    "                 and f.endswith(\".jpg\")]\n",
    "\n",
    "# sort the images by alphabetical order \n",
    "# !!!! VERY IMPORTANT in order to be consistent with the labels contained in celeba.csv !!!!\n",
    "all_img.sort()\n",
    "nb_img = len(all_img)\n",
    "print(\"Number of images:\", nb_img)\n",
    "\n",
    "#let us keep only the relevant attributes\n",
    "attribute = attribute[:20000]"
   ]
  },
  {
   "cell_type": "code",
   "execution_count": null,
   "metadata": {},
   "outputs": [],
   "source": [
    "%%capture --no-display\n",
    "url = \"https://raw.githubusercontent.com/sightmachine/SimpleCV/master/SimpleCV/Features/HaarCascades/\"\n",
    "facial_parts = ['face', 'eye', 'mouth', 'nose']\n",
    "for p in facial_parts:\n",
    "    p_file = p + '.xml'\n",
    "    p_url = url + p_file\n",
    "    !wget {p_url}"
   ]
  },
  {
   "cell_type": "code",
   "execution_count": 30,
   "metadata": {
    "jupyter": {
     "source_hidden": true
    },
    "tags": []
   },
   "outputs": [],
   "source": [
    "# Feature extraction\n",
    "\n",
    "def find_vertex(all_img):\n",
    "    \"\"\"\n",
    "    find the average vertex of face, eyes, mouth and nose among all imgs\n",
    "\n",
    "    args:\n",
    "    fnames: file names of the image to be loaded (a list)\n",
    "    \n",
    "    output: A dictionary in the form of {face:(x,y,h,w); nose:(x,y,h,w); mouth:(x,y,h,w), eyes:(x,y,h,w) }\n",
    "    \"\"\"\n",
    "    face_cascade = cv2.CascadeClassifier(\"face.xml\")\n",
    "    eye_cascade = cv2.CascadeClassifier(\"eye.xml\")\n",
    "    nose_cascade = cv2.CascadeClassifier(\"nose.xml\")\n",
    "    mouth_cascade = cv2.CascadeClassifier(\"mouth.xml\")\n",
    "    face_found = []\n",
    "    eyes_found = []\n",
    "    nose_found = []\n",
    "    mouth_found = []\n",
    "    \n",
    "    start = time.time()\n",
    "    for k in range(len(all_img)):\n",
    "        #load image\n",
    "        img = cv2.imread(os.path.join(path, all_img[k]))\n",
    "        img = cv2.cvtColor(img, cv2.COLOR_BGR2GRAY)\n",
    "        faces = face_cascade.detectMultiScale(img)\n",
    "        eyes = eye_cascade.detectMultiScale(img)\n",
    "        nose = nose_cascade.detectMultiScale(img)\n",
    "        mouth = mouth_cascade.detectMultiScale(img)\n",
    "\n",
    "        not_found = np.array([[np.nan]])\n",
    "\n",
    "        face_found.append(faces) if faces != () else face_found.append(not_found)\n",
    "        eyes_found.append(eyes) if eyes != () else eyes_found.append(not_found)\n",
    "        nose_found.append(nose) if nose != () else nose_found.append(not_found)\n",
    "        mouth_found.append(mouth) if mouth != () else  mouth_found.append(not_found)\n",
    "        \n",
    "        if k % 1000 == 0:\n",
    "                end = time.time()\n",
    "                duration = end - start\n",
    "                print(f\"Number of images extracted: {k}, Time elapsed: {duration:.2f}\")\n",
    "    \n",
    "    \n",
    "    output = {}    \n",
    "\n",
    "    temp = [x[0] for x in onp.squeeze(face_found)]\n",
    "    face_vertex = pd.DataFrame(temp)\n",
    "    [x,y,h,w] = face_vertex.dropna().mean()\n",
    "    output[\"face\"] = [x,y,h,w]\n",
    "\n",
    "    temp = [x[0] for x in onp.squeeze(nose_found)]\n",
    "    nose_vertex = pd.DataFrame(temp)\n",
    "    [x,y,h,w] = nose_vertex.dropna().mean()\n",
    "    output[\"nose\"] = [x,y,h,w]\n",
    "\n",
    "    temp = [x[0] for x in onp.squeeze(eyes_found)]\n",
    "    eyes_vertex = pd.DataFrame(temp)\n",
    "    [x,y,h,w] = eyes_vertex.dropna().mean()\n",
    "    output[\"eyes\"] = [x,y,h,w]\n",
    "\n",
    "    temp = [x[0] for x in onp.squeeze(mouth_found)]\n",
    "    mouth_vertex = pd.DataFrame(temp)\n",
    "    [x,y,h,w] = mouth_vertex.dropna().mean()\n",
    "    output[\"mouth\"] = [x,y,h,w]\n",
    "    \n",
    "    return output\n",
    "\n",
    "\n",
    "def image_area_loader(all_img,vertex,gray = False):\n",
    "    \"\"\"\n",
    "    Load Images by area(face, mouth, nose, eyes)\n",
    "\n",
    "    args:\n",
    "    fnames: file names of the image to be loaded (a list)\n",
    "    vertex: vertex (x,y,h,w) that the image to be loaded\n",
    "    grey: boolean to decide whether loaded images are grey scaled. Default is False (color images)\n",
    "    \"\"\"\n",
    "    ceil = [math.ceil(v) for v in vertex ]\n",
    "    size = len(all_img)\n",
    "    [x,y,w,h] = ceil\n",
    "    start = time.time()\n",
    "    \n",
    "    if gray == True:\n",
    "        img_set= onp.zeros((size, h,w))\n",
    "\n",
    "        for k in range(size):\n",
    "            im = imageio.imread(os.path.join(path, all_img[k])).astype(float)\n",
    "            im = im[y:y+h,x:x+w,:]\n",
    "            im = onp.mean(im, axis=2)\n",
    "            img_set[k,:,:] = im\n",
    "            \n",
    "            if k % 1000 == 0:\n",
    "                end = time.time()\n",
    "                duration = end - start\n",
    "                print(f\"Number of images imported: {k}, Time elapsed: {duration:.2f}\")\n",
    "    else:\n",
    "        img_set= onp.zeros((size, h,w,3))\n",
    "\n",
    "        for k in range(size):\n",
    "            im = imageio.imread(os.path.join(path, all_img[k])).astype(float)\n",
    "            im = im[y:y+h,x:x+w,:]\n",
    "            img_set[k,:,:,:] = im\n",
    "            \n",
    "            if k % 1000 == 0:\n",
    "                end = time.time()\n",
    "                duration = end - start\n",
    "                print(f\"Number of images imported: {k}, Time elapsed: {duration:.2f}\")\n",
    "    \n",
    "    return img_set"
   ]
  },
  {
   "cell_type": "code",
   "execution_count": 5,
   "metadata": {
    "tags": []
   },
   "outputs": [],
   "source": [
    "# Predict P(Y=1|X, Beta)\n",
    "@jax.jit\n",
    "def pred_proba(beta, x):\n",
    "    \"\"\" predict the probability that label is +1 given x and beta \"\"\"\n",
    "    return 1. / (1. + jnp.exp(-jnp.dot(beta, x)))\n",
    "\n",
    "pred_proba_batch = jax.vmap(pred_proba, in_axes=(None, 0)) # Vectorize Predict Function"
   ]
  },
  {
   "cell_type": "code",
   "execution_count": 6,
   "metadata": {
    "jupyter": {
     "source_hidden": true
    },
    "tags": []
   },
   "outputs": [],
   "source": [
    "@jax.jit\n",
    "def get_label(p, threshold=0.5):\n",
    "    pred_bool = p > threshold\n",
    "    pred_label = 2*pred_bool - 1\n",
    "    return pred_label\n",
    "\n",
    "def get_accuracy(p, Y):\n",
    "    \"\"\" Compare the predicted probability (p) with the ground truth labels (Y) to get the accuracy \"\"\"\n",
    "    return jnp.mean(Y==get_label(p))\n",
    "\n",
    "from sklearn.metrics import roc_auc_score\n",
    "\n",
    "def get_auc(p, Y):\n",
    "    return roc_auc_score(p, Y)\n",
    "\n",
    "def test_acc(beta,Y_true, test_img_arr):\n",
    "    test_pred = pred_proba_batch(beta, test_img_arr)\n",
    "    test_acc = get_accuracy(test_pred, Y_true)\n",
    "    return test_acc\n",
    "\n",
    "def test_auc(beta,Y_true, test_img_arr):\n",
    "    test_pred = pred_proba_batch(beta, test_img_arr)\n",
    "    test_auc = get_auc(Y_true, test_pred)\n",
    "    return test_auc"
   ]
  },
  {
   "cell_type": "code",
   "execution_count": 7,
   "metadata": {
    "jupyter": {
     "source_hidden": true
    },
    "tags": []
   },
   "outputs": [],
   "source": [
    "def test_acc_auc(beta, Y_true, test_img_arr):\n",
    "    \"\"\"\n",
    "    Get the accuracy and AUC-ROC score for test data\n",
    "     beta: Model Parameters\n",
    "     Y_true: Ground truth labels\n",
    "     test_img_arr: test images represented by an array\n",
    "    \"\"\"\n",
    "    test_pred = pred_proba_batch(beta, test_img_arr)\n",
    "    test_acc = get_accuracy(test_pred, Y_true)\n",
    "    test_auc = get_auc(Y_true, test_pred)\n",
    "    \n",
    "    print(f'Test Accuracy is {test_acc:.2f}')\n",
    "    print(f'Test AUC is {test_auc:.2f}')\n",
    "    \n",
    "    return test_acc, test_auc"
   ]
  },
  {
   "cell_type": "markdown",
   "metadata": {
    "tags": []
   },
   "source": [
    "## Utility Functions for Basic Logistic Regression"
   ]
  },
  {
   "cell_type": "code",
   "execution_count": 8,
   "metadata": {
    "jupyter": {
     "source_hidden": true
    },
    "tags": []
   },
   "outputs": [],
   "source": [
    "@jax.jit\n",
    "def loss_single(beta, x, y):\n",
    "    \"\"\" logistic regression loss on a single image \"\"\"\n",
    "    return jnp.log(1. + jnp.exp(-y*jnp.dot(x,beta)))\n",
    "loss_batch = jax.vmap(loss_single, in_axes=(None, 0, 0)) # Vectorize Loss Function"
   ]
  },
  {
   "cell_type": "code",
   "execution_count": 9,
   "metadata": {
    "jupyter": {
     "source_hidden": true
    },
    "tags": []
   },
   "outputs": [],
   "source": [
    "@jax.jit\n",
    "def loss_LR(beta, X, Y):\n",
    "    \"\"\"\n",
    "    Minibatch Logistic regression loss\n",
    "    \n",
    "    args:\n",
    "    ====\n",
    "     beta: LR parameter\n",
    "     X: array[:,:] of images\n",
    "     Y: array[:] of labels\n",
    "    \"\"\"\n",
    "    # compute all the individual losses\n",
    "    losses = loss_batch(beta, X, Y)\n",
    "    return jnp.mean(losses)\n",
    "\n",
    "# compute derivates\n",
    "loss_LR_grad = jax.jit(jax.grad(loss_LR, argnums=0))\n",
    "loss_LR_values_and_grad = jax.jit(jax.value_and_grad(loss_LR, argnums=0))"
   ]
  },
  {
   "cell_type": "markdown",
   "metadata": {},
   "source": [
    "## Utility Functions for Regularized Logistic Regression (Ridge, Lasso, ...)"
   ]
  },
  {
   "cell_type": "code",
   "execution_count": 38,
   "metadata": {
    "tags": []
   },
   "outputs": [],
   "source": [
    "### Ridge\n",
    "@jax.jit\n",
    "def loss_ridge(beta, X, Y, lambda_ridge=0.5):\n",
    "    \"\"\"\n",
    "    Minibatch Logistic regression loss\n",
    "    \n",
    "    args:\n",
    "    ====\n",
    "     beta: LR parameter\n",
    "     X: array[:,:] of images\n",
    "     Y: array[:] of labels\n",
    "     lambda_ridge: ridge parameter, default 0.5\n",
    "    \"\"\"\n",
    "    # compute all the individual losses\n",
    "    loss_original = jnp.sum(loss_batch(beta, X, Y))\n",
    "    loss_batch_ridge = loss_original + lambda_ridge*jnp.sum(beta**2)\n",
    "\n",
    "    return loss_batch_ridge/len(Y)\n",
    "\n",
    "# compute derivates\n",
    "loss_ridge_grad = jax.jit(jax.grad(loss_ridge, argnums=0))\n",
    "loss_ridge_values_and_grad = jax.jit(jax.value_and_grad(loss_ridge, argnums=0))"
   ]
  },
  {
   "cell_type": "code",
   "execution_count": 41,
   "metadata": {
    "tags": []
   },
   "outputs": [],
   "source": [
    "@jax.jit\n",
    "def loss_lasso(beta, X, Y, lambda_lasso=0.5):\n",
    "    \"\"\"\n",
    "    Minibatch Logistic regression loss\n",
    "    \n",
    "    args:\n",
    "    ====\n",
    "     beta: LR parameter\n",
    "     X: array[:,:] of images\n",
    "     Y: array[:] of labels\n",
    "     lambda_lasso: lasso parameter, default 0.5\n",
    "    \"\"\"\n",
    "    # compute all the individual losses\n",
    "    loss_original = jnp.sum(loss_batch(beta, X, Y))\n",
    "    loss_batch_lasso = loss_original + lambda_lasso*jnp.sum(jnp.abs(beta))\n",
    "\n",
    "    return loss_batch_lasso/len(Y)\n",
    "\n",
    "# compute derivates\n",
    "loss_lasso_grad = jax.jit(jax.grad(loss_lasso, argnums=0))\n",
    "loss_lasso_values_and_grad = jax.jit(jax.value_and_grad(loss_lasso, argnums=0))"
   ]
  },
  {
   "cell_type": "markdown",
   "metadata": {},
   "source": [
    "## Utility Functions for Training Model and Backcalling"
   ]
  },
  {
   "cell_type": "code",
   "execution_count": 51,
   "metadata": {},
   "outputs": [],
   "source": [
    "## with fixed mom_constant\n",
    "def train_SGD_mom(train_img, train_label, beta_init, lr, val_grad_fn, lr_decay=0.5, n_steps=5, verbose = 0, n_epoch=10, mb_size=100, mom_constant=0.5):\n",
    "    \"\"\"\n",
    "     Find optimized beta given train images and train labels with fix epoch learning rate decay using SGD plus momentum\n",
    "     \n",
    "    Inputs:\n",
    "     train_img: Training images (in the format of [n,:] array, where n is the number of images)\n",
    "     train_label: Training labels (in the format of [n, 1] array, where n is the number of labels)\n",
    "     beta: Starting point of beta (weights)\n",
    "     lr: Learning rate\n",
    "     val_grad_fn: Function to return the loss value and gradient given X and Y\n",
    "     lr_decay: Learning rate decay rate, default 0.5\n",
    "     n_steps: Number of epochs to decay the learning rate\n",
    "     verbose: Print time elapsed, training loss and test accuracy for each epoch if verbose = 1, default 0\n",
    "     n_epoch: Number of epoch to run the algo, default 10\n",
    "     mb_size: Minibatch size, default 100\n",
    "     mom_constant: choise of momentum constant, default 0.5\n",
    "\n",
    "    Outputs:\n",
    "     beta: The final updated values of beta\n",
    "     record: A dictionary of performance during training, including 'loss_epoch', 'loss_mb', 'test_acc_epoch', 'test_acc_mb' \n",
    "    \"\"\"\n",
    "    minibatch_size = mb_size #size of the minibatchs\n",
    "    N = len(train_img)  #15000, total number of images\n",
    "    img_indices = np.arange(N)\n",
    "\n",
    "    loss_history_epoch = []\n",
    "    loss_history_mb = []\n",
    "    test_acc_history_epoch = []\n",
    "    test_acc_history_mb = []\n",
    "    \n",
    "    beta = np.copy(beta_init)\n",
    "    beta_old = np.copy(beta_init)\n",
    "    learning_rate = lr\n",
    "    \n",
    "    np.random.seed(42)\n",
    "\n",
    "    for epoch in range(n_epoch):\n",
    "        # go through all the minibatches, sequetially\n",
    "        start = time.time()\n",
    "        n_minibatch = N // minibatch_size + 1\n",
    "        # randomize the batches\n",
    "        np.random.shuffle(img_indices)\n",
    "\n",
    "        all_loss_within_epoch = []\n",
    "        all_acc_within_epoch = []\n",
    "        for k in range(n_minibatch):\n",
    "            # create the minibatch of examples\n",
    "            batch_indices = np.arange(k*minibatch_size, (k+1)*minibatch_size) % N\n",
    "            batch_indices = img_indices[batch_indices]\n",
    "            X_minibatch = train_img[batch_indices]\n",
    "            Y_minibatch = train_label[batch_indices]\n",
    "\n",
    "            # compute the stochastic gradient\n",
    "            val, grad = val_grad_fn(beta, X_minibatch, Y_minibatch)\n",
    "\n",
    "            # do one step of SGD\n",
    "            mom = beta - beta_old\n",
    "            beta_old = beta\n",
    "            beta = beta - learning_rate*grad + mom_constant*mom\n",
    "\n",
    "\n",
    "            # book-keeping\n",
    "            loss_history_mb.append(val)\n",
    "            all_loss_within_epoch.append(val)\n",
    "            \n",
    "            test_acc_mb = test_acc(beta, test_label, test_img_arr)\n",
    "            test_acc_history_mb.append(test_acc_mb)\n",
    "            all_acc_within_epoch.append(test_acc_mb)\n",
    "            \n",
    "        loss_epoch = np.mean(all_loss_within_epoch)\n",
    "        loss_history_epoch.append(loss_epoch)\n",
    "        \n",
    "        test_acc_epoch = np.mean(all_acc_within_epoch)\n",
    "        test_acc_history_epoch.append(test_acc_epoch)\n",
    "        \n",
    "        end = time.time()\n",
    "        duration = end - start\n",
    "        \n",
    "\n",
    "        if verbose == 1:\n",
    "            print(f\"Epoch {epoch}: {duration:.2f} seconds, Loss: {loss_epoch:.2f}, Test Accuracy: {test_acc_epoch:.3f}\")\n",
    "            \n",
    "    record = {'name': \"Momentum\",\n",
    "              'loss_epoch': loss_history_epoch,\n",
    "              'loss_mb': loss_history_mb,\n",
    "              'test_acc_epoch': test_acc_history_epoch,\n",
    "              'test_acc_mb': test_acc_history_mb}\n",
    "    \n",
    "    return beta, record"
   ]
  },
  {
   "cell_type": "markdown",
   "metadata": {
    "tags": []
   },
   "source": [
    "## Utility Functions for Plotting Graph"
   ]
  },
  {
   "cell_type": "code",
   "execution_count": 13,
   "metadata": {
    "jupyter": {
     "source_hidden": true
    },
    "tags": []
   },
   "outputs": [],
   "source": [
    "def plot_loss(loss_history):\n",
    "    plt.plot(loss_history, \"-^\")\n",
    "    plt.yscale(\"log\")\n",
    "    plt.xlabel(\"Epochs\")\n",
    "    plt.grid(True)"
   ]
  },
  {
   "cell_type": "code",
   "execution_count": 14,
   "metadata": {
    "jupyter": {
     "source_hidden": true
    },
    "tags": []
   },
   "outputs": [],
   "source": [
    "def record_graph(record_list, key='test_acc_epoch', n = None):\n",
    "    \"\"\"\n",
    "    Plot graph of records in the list\n",
    "    \n",
    "    Args:\n",
    "     record_list: List of record (dictionary) as returned by model training functions\n",
    "     key: Performance metric to be plotted\n",
    "     n: Number of results to be plotted, full results will be plotted if None\n",
    "     \n",
    "    Output:\n",
    "     Multiple lines of the record on the same graph\n",
    "    \"\"\"\n",
    "    keys = record_list[0].keys()\n",
    "    if key not in keys:\n",
    "        print(f'{key} is an invalid key!')\n",
    "        print(f'Please enter one of the following: {keys}')\n",
    "        \n",
    "    plt.figure(figsize=(16,10))\n",
    "        \n",
    "    for record in record_list:\n",
    "        if n == None:\n",
    "            n = len(record.get(key))\n",
    "        y = record.get(key)[:n]\n",
    "        x = np.arange(n)\n",
    "        plt.xticks(x)\n",
    "        plt.plot(x,\n",
    "                 y, \n",
    "                 \"-.\",\n",
    "                 alpha=0.6,\n",
    "                 label=record.get('name'))\n",
    "    \n",
    "    plt.legend()\n",
    "    plt.xlabel(f'{key}'.split('_')[-1])\n",
    "    plt.ylabel(' '.join(f'{key}'.split('_')[:-1]))\n",
    "    plt.grid(True)\n",
    "    plt.title(\"Summary of Results\");"
   ]
  },
  {
   "cell_type": "code",
   "execution_count": 15,
   "metadata": {},
   "outputs": [],
   "source": [
    "test_img = all_img[15000:]\n",
    "test_label = attribute['Male'][15000:]\n",
    "test_label = np.array(test_label).reshape(-1)\n",
    "\n",
    "train_small_img = all_img[:200]\n",
    "train_small_label = attribute['Male'][:200]\n",
    "train_small_label = np.array(train_small_label).reshape(-1)"
   ]
  },
  {
   "cell_type": "code",
   "execution_count": 16,
   "metadata": {},
   "outputs": [],
   "source": [
    "import gc\n",
    "def clear_image_cache(var_list):\n",
    "    for var in var_list:\n",
    "        if var in globals().keys():\n",
    "            del globals()[var]\n",
    "    gc.collect()\n",
    "    time.sleep(1)\n",
    "# del test_img_arr\n",
    "# del train_img_arr"
   ]
  },
  {
   "cell_type": "code",
   "execution_count": 22,
   "metadata": {},
   "outputs": [
    {
     "name": "stderr",
     "output_type": "stream",
     "text": [
      "<ipython-input-20-56738e2eaf7c>:33: DeprecationWarning: elementwise comparison failed; this will raise an error in the future.\n",
      "  face_found.append(faces) if faces != () else face_found.append(not_found)\n",
      "<ipython-input-20-56738e2eaf7c>:34: DeprecationWarning: elementwise comparison failed; this will raise an error in the future.\n",
      "  eyes_found.append(eyes) if eyes != () else eyes_found.append(not_found)\n",
      "<ipython-input-20-56738e2eaf7c>:35: DeprecationWarning: elementwise comparison failed; this will raise an error in the future.\n",
      "  nose_found.append(nose) if nose != () else nose_found.append(not_found)\n",
      "<ipython-input-20-56738e2eaf7c>:36: DeprecationWarning: elementwise comparison failed; this will raise an error in the future.\n",
      "  mouth_found.append(mouth) if mouth != () else  mouth_found.append(not_found)\n"
     ]
    },
    {
     "name": "stdout",
     "output_type": "stream",
     "text": [
      "Number of images extracted: 0, Time elapsed: 0.77\n",
      "Number of images extracted: 1000, Time elapsed: 64.42\n",
      "Number of images extracted: 2000, Time elapsed: 148.41\n",
      "Number of images extracted: 3000, Time elapsed: 240.61\n",
      "Number of images extracted: 4000, Time elapsed: 333.87\n",
      "Number of images extracted: 5000, Time elapsed: 423.12\n",
      "Number of images extracted: 6000, Time elapsed: 508.97\n",
      "Number of images extracted: 7000, Time elapsed: 600.39\n",
      "Number of images extracted: 8000, Time elapsed: 688.99\n",
      "Number of images extracted: 9000, Time elapsed: 781.69\n",
      "Number of images extracted: 10000, Time elapsed: 876.87\n",
      "Number of images extracted: 11000, Time elapsed: 970.29\n",
      "Number of images extracted: 12000, Time elapsed: 1061.60\n",
      "Number of images extracted: 13000, Time elapsed: 1154.85\n",
      "Number of images extracted: 14000, Time elapsed: 1246.10\n",
      "Number of images extracted: 15000, Time elapsed: 1340.58\n",
      "Number of images extracted: 16000, Time elapsed: 1441.91\n",
      "Number of images extracted: 17000, Time elapsed: 1543.83\n",
      "Number of images extracted: 18000, Time elapsed: 1646.58\n",
      "Number of images extracted: 19000, Time elapsed: 1761.27\n"
     ]
    },
    {
     "name": "stderr",
     "output_type": "stream",
     "text": [
      "C:\\Users\\z9906\\Anaconda3\\lib\\site-packages\\numpy\\core\\fromnumeric.py:43: VisibleDeprecationWarning: Creating an ndarray from ragged nested sequences (which is a list-or-tuple of lists-or-tuples-or ndarrays with different lengths or shapes) is deprecated. If you meant to do this, you must specify 'dtype=object' when creating the ndarray.\n",
      "  result = getattr(asarray(obj), method)(*args, **kwds)\n"
     ]
    }
   ],
   "source": [
    "vertex = find_vertex(all_img)"
   ]
  },
  {
   "cell_type": "code",
   "execution_count": 31,
   "metadata": {},
   "outputs": [
    {
     "name": "stdout",
     "output_type": "stream",
     "text": [
      "Number of images imported: 0, Time elapsed: 0.00\n",
      "Number of images imported: 0, Time elapsed: 0.00\n",
      "Number of images imported: 1000, Time elapsed: 1.05\n",
      "Number of images imported: 2000, Time elapsed: 2.09\n",
      "Number of images imported: 3000, Time elapsed: 3.17\n",
      "Number of images imported: 4000, Time elapsed: 4.24\n"
     ]
    }
   ],
   "source": [
    "face_train = image_area_loader(train_small_img, vertex['face']).reshape(-1, 3 * 104 * 104)\n",
    "face_test =  image_area_loader(test_img, vertex['face']).reshape(-1, 3 * 104 * 104)"
   ]
  },
  {
   "cell_type": "code",
   "execution_count": 67,
   "metadata": {},
   "outputs": [],
   "source": [
    "# initialize beta at random\n",
    "np.random.seed(42)\n",
    "beta_standard_dev = 1. / np.sqrt(3) / 104\n",
    "face_beta_init = np.random.normal(0,beta_standard_dev,3*104*104)\n",
    "\n",
    "test_img_arr = face_test"
   ]
  },
  {
   "cell_type": "code",
   "execution_count": 76,
   "metadata": {},
   "outputs": [
    {
     "name": "stdout",
     "output_type": "stream",
     "text": [
      "Epoch 0: 0.77 seconds, Loss: 52.52, Test Accuracy: 0.517\n",
      "Epoch 1: 0.76 seconds, Loss: 34.81, Test Accuracy: 0.573\n",
      "Epoch 2: 0.81 seconds, Loss: 37.63, Test Accuracy: 0.599\n",
      "Epoch 3: 0.79 seconds, Loss: 31.04, Test Accuracy: 0.606\n",
      "Epoch 4: 0.95 seconds, Loss: 27.50, Test Accuracy: 0.624\n",
      "Epoch 5: 0.79 seconds, Loss: 22.89, Test Accuracy: 0.595\n",
      "Epoch 6: 0.78 seconds, Loss: 15.60, Test Accuracy: 0.644\n",
      "Epoch 7: 0.94 seconds, Loss: 17.16, Test Accuracy: 0.650\n",
      "Epoch 8: 0.86 seconds, Loss: 6.92, Test Accuracy: 0.734\n",
      "Epoch 9: 0.82 seconds, Loss: 25.85, Test Accuracy: 0.624\n",
      "Epoch 10: 0.76 seconds, Loss: 25.77, Test Accuracy: 0.626\n",
      "Epoch 11: 0.69 seconds, Loss: 9.17, Test Accuracy: 0.692\n",
      "Epoch 12: 0.85 seconds, Loss: 7.61, Test Accuracy: 0.717\n",
      "Epoch 13: 0.83 seconds, Loss: 5.00, Test Accuracy: 0.762\n",
      "Epoch 14: 0.93 seconds, Loss: 25.72, Test Accuracy: 0.610\n",
      "Epoch 15: 2.21 seconds, Loss: 8.82, Test Accuracy: 0.739\n",
      "Epoch 16: 1.59 seconds, Loss: 10.46, Test Accuracy: 0.660\n",
      "Epoch 17: 1.48 seconds, Loss: 11.84, Test Accuracy: 0.715\n",
      "Epoch 18: 1.11 seconds, Loss: 18.62, Test Accuracy: 0.673\n",
      "Epoch 19: 1.28 seconds, Loss: 4.26, Test Accuracy: 0.755\n"
     ]
    }
   ],
   "source": [
    "beta_face, record_face = train_SGD_mom(\n",
    "    face_train, train_small_label, face_beta_init, 1e-6, loss_LR_values_and_grad, n_epoch = 20, mb_size = 32, verbose = 1)"
   ]
  },
  {
   "cell_type": "code",
   "execution_count": 74,
   "metadata": {},
   "outputs": [
    {
     "name": "stdout",
     "output_type": "stream",
     "text": [
      "Epoch 0: 0.76 seconds, Loss: 54.76, Test Accuracy: 0.517\n",
      "Epoch 1: 0.71 seconds, Loss: 37.05, Test Accuracy: 0.573\n",
      "Epoch 2: 0.77 seconds, Loss: 39.94, Test Accuracy: 0.599\n",
      "Epoch 3: 0.68 seconds, Loss: 33.15, Test Accuracy: 0.605\n",
      "Epoch 4: 0.69 seconds, Loss: 22.81, Test Accuracy: 0.602\n",
      "Epoch 5: 0.68 seconds, Loss: 54.98, Test Accuracy: 0.651\n",
      "Epoch 6: 0.69 seconds, Loss: 34.38, Test Accuracy: 0.606\n",
      "Epoch 7: 0.68 seconds, Loss: 39.35, Test Accuracy: 0.609\n",
      "Epoch 8: 0.70 seconds, Loss: 8.47, Test Accuracy: 0.738\n",
      "Epoch 9: 0.80 seconds, Loss: 27.54, Test Accuracy: 0.625\n",
      "Epoch 10: 0.72 seconds, Loss: 24.41, Test Accuracy: 0.645\n",
      "Epoch 11: 0.71 seconds, Loss: 9.49, Test Accuracy: 0.706\n",
      "Epoch 12: 0.68 seconds, Loss: 8.14, Test Accuracy: 0.727\n",
      "Epoch 13: 0.69 seconds, Loss: 13.07, Test Accuracy: 0.695\n",
      "Epoch 14: 0.69 seconds, Loss: 19.77, Test Accuracy: 0.642\n",
      "Epoch 15: 0.69 seconds, Loss: 11.82, Test Accuracy: 0.701\n",
      "Epoch 16: 0.70 seconds, Loss: 8.33, Test Accuracy: 0.718\n",
      "Epoch 17: 0.69 seconds, Loss: 6.47, Test Accuracy: 0.760\n",
      "Epoch 18: 0.69 seconds, Loss: 5.52, Test Accuracy: 0.750\n",
      "Epoch 19: 0.70 seconds, Loss: 4.42, Test Accuracy: 0.775\n",
      "Epoch 20: 0.72 seconds, Loss: 4.33, Test Accuracy: 0.775\n",
      "Epoch 21: 0.78 seconds, Loss: 11.68, Test Accuracy: 0.729\n",
      "Epoch 22: 0.76 seconds, Loss: 12.19, Test Accuracy: 0.698\n",
      "Epoch 23: 0.69 seconds, Loss: 8.29, Test Accuracy: 0.726\n",
      "Epoch 24: 0.70 seconds, Loss: 8.02, Test Accuracy: 0.738\n",
      "Epoch 25: 0.77 seconds, Loss: 5.32, Test Accuracy: 0.756\n",
      "Epoch 26: 0.89 seconds, Loss: 4.33, Test Accuracy: 0.790\n",
      "Epoch 27: 0.73 seconds, Loss: 3.35, Test Accuracy: 0.782\n",
      "Epoch 28: 0.79 seconds, Loss: 14.34, Test Accuracy: 0.657\n",
      "Epoch 29: 0.78 seconds, Loss: 22.89, Test Accuracy: 0.651\n",
      "Epoch 30: 0.79 seconds, Loss: 10.14, Test Accuracy: 0.719\n",
      "Epoch 31: 0.84 seconds, Loss: 3.00, Test Accuracy: 0.800\n",
      "Epoch 32: 0.78 seconds, Loss: 5.99, Test Accuracy: 0.734\n",
      "Epoch 33: 0.74 seconds, Loss: 8.42, Test Accuracy: 0.752\n",
      "Epoch 34: 0.76 seconds, Loss: 4.29, Test Accuracy: 0.771\n",
      "Epoch 35: 0.84 seconds, Loss: 3.05, Test Accuracy: 0.802\n",
      "Epoch 36: 0.85 seconds, Loss: 2.87, Test Accuracy: 0.802\n",
      "Epoch 37: 0.73 seconds, Loss: 2.57, Test Accuracy: 0.801\n",
      "Epoch 38: 0.78 seconds, Loss: 2.79, Test Accuracy: 0.798\n",
      "Epoch 39: 0.72 seconds, Loss: 2.50, Test Accuracy: 0.811\n",
      "Epoch 40: 0.74 seconds, Loss: 2.51, Test Accuracy: 0.804\n",
      "Epoch 41: 0.80 seconds, Loss: 3.90, Test Accuracy: 0.781\n",
      "Epoch 42: 0.71 seconds, Loss: 2.62, Test Accuracy: 0.811\n",
      "Epoch 43: 0.70 seconds, Loss: 2.32, Test Accuracy: 0.814\n",
      "Epoch 44: 0.72 seconds, Loss: 2.30, Test Accuracy: 0.811\n",
      "Epoch 45: 0.70 seconds, Loss: 2.87, Test Accuracy: 0.798\n",
      "Epoch 46: 0.70 seconds, Loss: 2.50, Test Accuracy: 0.808\n",
      "Epoch 47: 0.70 seconds, Loss: 2.32, Test Accuracy: 0.811\n",
      "Epoch 48: 0.70 seconds, Loss: 2.61, Test Accuracy: 0.805\n",
      "Epoch 49: 0.71 seconds, Loss: 3.87, Test Accuracy: 0.740\n"
     ]
    }
   ],
   "source": [
    "test_img_arr = face_test\n",
    "\n",
    "beta_lasso_face, record_lasso_face = train_SGD_mom(\n",
    "    face_train, train_small_label, face_beta_init, 1e-6, loss_lasso_values_and_grad, n_epoch = 20, mb_size = 32, verbose = 1)"
   ]
  },
  {
   "cell_type": "code",
   "execution_count": 75,
   "metadata": {},
   "outputs": [
    {
     "name": "stdout",
     "output_type": "stream",
     "text": [
      "Epoch 0: 0.76 seconds, Loss: 52.54, Test Accuracy: 0.517\n",
      "Epoch 1: 0.78 seconds, Loss: 34.82, Test Accuracy: 0.573\n",
      "Epoch 2: 0.74 seconds, Loss: 37.65, Test Accuracy: 0.599\n",
      "Epoch 3: 0.72 seconds, Loss: 31.05, Test Accuracy: 0.606\n",
      "Epoch 4: 0.70 seconds, Loss: 27.50, Test Accuracy: 0.623\n",
      "Epoch 5: 0.76 seconds, Loss: 10.90, Test Accuracy: 0.670\n",
      "Epoch 6: 0.77 seconds, Loss: 12.51, Test Accuracy: 0.652\n",
      "Epoch 7: 0.77 seconds, Loss: 15.10, Test Accuracy: 0.676\n",
      "Epoch 8: 0.81 seconds, Loss: 8.18, Test Accuracy: 0.688\n",
      "Epoch 9: 0.75 seconds, Loss: 30.20, Test Accuracy: 0.614\n",
      "Epoch 10: 0.71 seconds, Loss: 24.43, Test Accuracy: 0.669\n",
      "Epoch 11: 0.72 seconds, Loss: 15.81, Test Accuracy: 0.643\n",
      "Epoch 12: 0.70 seconds, Loss: 7.33, Test Accuracy: 0.711\n",
      "Epoch 13: 0.73 seconds, Loss: 15.13, Test Accuracy: 0.646\n",
      "Epoch 14: 0.70 seconds, Loss: 10.58, Test Accuracy: 0.722\n",
      "Epoch 15: 0.70 seconds, Loss: 15.37, Test Accuracy: 0.632\n",
      "Epoch 16: 0.71 seconds, Loss: 15.31, Test Accuracy: 0.673\n",
      "Epoch 17: 0.70 seconds, Loss: 3.11, Test Accuracy: 0.772\n",
      "Epoch 18: 0.70 seconds, Loss: 2.68, Test Accuracy: 0.760\n",
      "Epoch 19: 0.70 seconds, Loss: 2.50, Test Accuracy: 0.777\n",
      "Epoch 20: 0.72 seconds, Loss: 1.50, Test Accuracy: 0.773\n",
      "Epoch 21: 0.69 seconds, Loss: 4.52, Test Accuracy: 0.726\n",
      "Epoch 22: 0.71 seconds, Loss: 19.12, Test Accuracy: 0.625\n",
      "Epoch 23: 0.69 seconds, Loss: 3.68, Test Accuracy: 0.766\n",
      "Epoch 24: 0.71 seconds, Loss: 1.92, Test Accuracy: 0.779\n",
      "Epoch 25: 0.68 seconds, Loss: 2.27, Test Accuracy: 0.779\n",
      "Epoch 26: 0.69 seconds, Loss: 3.09, Test Accuracy: 0.758\n",
      "Epoch 27: 0.72 seconds, Loss: 4.05, Test Accuracy: 0.756\n",
      "Epoch 28: 0.70 seconds, Loss: 4.60, Test Accuracy: 0.722\n",
      "Epoch 29: 0.69 seconds, Loss: 21.70, Test Accuracy: 0.656\n",
      "Epoch 30: 0.70 seconds, Loss: 8.87, Test Accuracy: 0.679\n",
      "Epoch 31: 0.70 seconds, Loss: 7.25, Test Accuracy: 0.738\n",
      "Epoch 32: 0.71 seconds, Loss: 1.43, Test Accuracy: 0.796\n",
      "Epoch 33: 0.74 seconds, Loss: 1.44, Test Accuracy: 0.793\n",
      "Epoch 34: 0.81 seconds, Loss: 2.50, Test Accuracy: 0.765\n",
      "Epoch 35: 0.78 seconds, Loss: 1.05, Test Accuracy: 0.792\n",
      "Epoch 36: 0.78 seconds, Loss: 8.74, Test Accuracy: 0.705\n",
      "Epoch 37: 0.69 seconds, Loss: 3.27, Test Accuracy: 0.759\n",
      "Epoch 38: 0.67 seconds, Loss: 1.51, Test Accuracy: 0.792\n",
      "Epoch 39: 0.71 seconds, Loss: 1.09, Test Accuracy: 0.796\n",
      "Epoch 40: 0.79 seconds, Loss: 0.40, Test Accuracy: 0.804\n",
      "Epoch 41: 0.80 seconds, Loss: 1.92, Test Accuracy: 0.787\n",
      "Epoch 42: 0.79 seconds, Loss: 2.67, Test Accuracy: 0.758\n",
      "Epoch 43: 0.69 seconds, Loss: 0.15, Test Accuracy: 0.810\n",
      "Epoch 44: 0.70 seconds, Loss: 0.39, Test Accuracy: 0.812\n",
      "Epoch 45: 0.67 seconds, Loss: 0.19, Test Accuracy: 0.815\n",
      "Epoch 46: 0.82 seconds, Loss: 0.06, Test Accuracy: 0.818\n",
      "Epoch 47: 0.83 seconds, Loss: 0.14, Test Accuracy: 0.811\n",
      "Epoch 48: 0.73 seconds, Loss: 0.49, Test Accuracy: 0.804\n",
      "Epoch 49: 0.69 seconds, Loss: 0.45, Test Accuracy: 0.803\n"
     ]
    }
   ],
   "source": [
    "test_img_arr = face_test\n",
    "\n",
    "beta_ridge_face, record_ridge_face = train_SGD_mom(\n",
    "    face_train, train_small_label, face_beta_init, 1e-6, loss_ridge_values_and_grad, n_epoch = 20, mb_size = 32, verbose = 1)"
   ]
  },
  {
   "cell_type": "code",
   "execution_count": 71,
   "metadata": {},
   "outputs": [],
   "source": [
    "record_face['name'] = 'Momentum_LR'\n",
    "record_lasso_face['name'] = 'Momentum_Lasso'\n",
    "record_ridge_face['name'] = 'Momentum_Ridge'"
   ]
  },
  {
   "cell_type": "code",
   "execution_count": 72,
   "metadata": {},
   "outputs": [
    {
     "data": {
      "image/png": "[encoded data removed]",
      "text/plain": [
       "<Figure size 1152x720 with 1 Axes>"
      ]
     },
     "metadata": {
      "needs_background": "light"
     },
     "output_type": "display_data"
    }
   ],
   "source": [
    "record_list = [record_face, record_lasso_face, record_ridge_face]\n",
    "\n",
    "record_graph(record_list, 'test_acc_epoch')\n",
    "# plt.savefig(\"small_test.jpg\")"
   ]
  },
  {
   "cell_type": "code",
   "execution_count": 60,
   "metadata": {},
   "outputs": [],
   "source": [
    "auc_LR = test_auc(beta_face, test_label, test_img_arr)\n",
    "auc_Lasso = test_auc(beta_lasso_face, test_label, test_img_arr)\n",
    "auc_Ridge = test_auc(beta_ridge_face, test_label, test_img_arr)\n",
    "\n",
    "print(f'Test ROC-AUC w/o regularization: {auc_LR:.5f}')\n",
    "print(f'Test ROC-AUC with LASSO: {auc_Lasso:.5f}')\n",
    "print(f'Test ROC-AUC with Ridge: {auc_Ridge:.5f}')"
   ]
  },
  {
   "cell_type": "code",
   "execution_count": null,
   "metadata": {},
   "outputs": [],
   "source": []
  },
  {
   "cell_type": "code",
   "execution_count": null,
   "metadata": {},
   "outputs": [],
   "source": []
  },
  {
   "cell_type": "code",
   "execution_count": null,
   "metadata": {},
   "outputs": [],
   "source": []
  }
 ],
 "metadata": {
  "kernelspec": {
   "display_name": "Python 3",
   "language": "python",
   "name": "python3"
  },
  "language_info": {
   "codemirror_mode": {
    "name": "ipython",
    "version": 3
   },
   "file_extension": ".py",
   "mimetype": "text/x-python",
   "name": "python",
   "nbconvert_exporter": "python",
   "pygments_lexer": "ipython3",
   "version": "3.8.3"
  }
 },
 "nbformat": 4,
 "nbformat_minor": 4
}
